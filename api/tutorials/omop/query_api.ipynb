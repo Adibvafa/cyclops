{
 "cells": [
  {
   "cell_type": "markdown",
   "id": "e337389b-1cfe-4796-a846-b4e1ba5690d6",
   "metadata": {},
   "source": [
    "# OMOP query API tutorial"
   ]
  },
  {
   "cell_type": "markdown",
   "id": "1efffc64",
   "metadata": {},
   "source": [
    "This notebook shows examples of how to use the cyclops.query API to query EHR databases that follow the OMOP common data model. Each query is limit to 100 rows (for quick results).\n",
    "\n",
    "We showcase the examples on:\n",
    "\n",
    "1. [Synthea](https://github.com/synthetichealth/synthea) in OMOP format.\n",
    "\n",
    "    * First, generate synthea data using their releases. We used [v2.7.0](https://github.com/synthetichealth/synthea/releases/tag/v2.7.0) to generate data .\n",
    "    * Follow instructions provided in [ETL-Synthea](https://github.com/OHDSI/ETL-Synthea) to load the CSV data into a postgres database, and perform ETL to load the data into OMOP format."
   ]
  },
  {
   "cell_type": "markdown",
   "id": "12c18656-7f16-4230-85d0-944563d6a13e",
   "metadata": {},
   "source": [
    "## Imports and instantiate `OMOPQuerier`."
   ]
  },
  {
   "cell_type": "markdown",
   "id": "c4cfec2d-af3f-431d-a851-c8853e31df08",
   "metadata": {},
   "source": [
    "Pass in the `schema_name` which is the name of the postgres schema which houses all the OMOP tables."
   ]
  },
  {
   "cell_type": "code",
   "execution_count": 1,
   "id": "53009e6b",
   "metadata": {
    "execution": {
     "iopub.execute_input": "2023-09-19T16:00:30.232606Z",
     "iopub.status.busy": "2023-09-19T16:00:30.232081Z",
     "iopub.status.idle": "2023-09-19T16:00:33.480300Z",
     "shell.execute_reply": "2023-09-19T16:00:33.478986Z"
    }
   },
   "outputs": [
    {
     "name": "stderr",
     "output_type": "stream",
     "text": [
      "/home/amritk/.cache/pypoetry/virtualenvs/pycyclops-mhx6UJW0-py3.9/lib/python3.9/site-packages/tqdm/auto.py:21: TqdmWarning: IProgress not found. Please update jupyter and ipywidgets. See https://ipywidgets.readthedocs.io/en/stable/user_install.html\n",
      "  from .autonotebook import tqdm as notebook_tqdm\n"
     ]
    },
    {
     "name": "stderr",
     "output_type": "stream",
     "text": [
      "2023-09-19 12:00:32,882 \u001b[1;37mINFO\u001b[0m cyclops.query.orm - Database setup, ready to run queries!\n"
     ]
    },
    {
     "data": {
      "text/plain": [
       "['cdm_synthea10.person',\n",
       " 'cdm_synthea10.observation_period',\n",
       " 'cdm_synthea10.visit_occurrence',\n",
       " 'cdm_synthea10.visit_detail',\n",
       " 'cdm_synthea10.condition_occurrence',\n",
       " 'cdm_synthea10.drug_exposure',\n",
       " 'cdm_synthea10.procedure_occurrence',\n",
       " 'cdm_synthea10.device_exposure',\n",
       " 'cdm_synthea10.measurement',\n",
       " 'cdm_synthea10.observation',\n",
       " 'cdm_synthea10.death',\n",
       " 'cdm_synthea10.note',\n",
       " 'cdm_synthea10.note_nlp',\n",
       " 'cdm_synthea10.specimen',\n",
       " 'cdm_synthea10.fact_relationship',\n",
       " 'cdm_synthea10.location',\n",
       " 'cdm_synthea10.care_site',\n",
       " 'cdm_synthea10.provider',\n",
       " 'cdm_synthea10.payer_plan_period',\n",
       " 'cdm_synthea10.cost',\n",
       " 'cdm_synthea10.drug_era',\n",
       " 'cdm_synthea10.dose_era',\n",
       " 'cdm_synthea10.condition_era',\n",
       " 'cdm_synthea10.episode',\n",
       " 'cdm_synthea10.episode_event',\n",
       " 'cdm_synthea10.cdm_source',\n",
       " 'cdm_synthea10.concept',\n",
       " 'cdm_synthea10.vocabulary',\n",
       " 'cdm_synthea10.domain',\n",
       " 'cdm_synthea10.concept_class',\n",
       " 'cdm_synthea10.concept_relationship',\n",
       " 'cdm_synthea10.relationship',\n",
       " 'cdm_synthea10.concept_synonym',\n",
       " 'cdm_synthea10.concept_ancestor',\n",
       " 'cdm_synthea10.source_to_concept_map',\n",
       " 'cdm_synthea10.drug_strength',\n",
       " 'cdm_synthea10.cohort',\n",
       " 'cdm_synthea10.cohort_definition',\n",
       " 'cdm_synthea10.source_to_standard_vocab_map',\n",
       " 'cdm_synthea10.source_to_source_vocab_map',\n",
       " 'cdm_synthea10.all_visits',\n",
       " 'cdm_synthea10.assign_all_visit_ids',\n",
       " 'cdm_synthea10.final_visit_ids']"
      ]
     },
     "execution_count": 1,
     "metadata": {},
     "output_type": "execute_result"
    }
   ],
   "source": [
    "\"\"\"OMOP query API tutorial.\"\"\"\n",
    "\n",
    "import pandas as pd\n",
    "\n",
    "import cyclops.query.ops as qo\n",
    "from cyclops.query import OMOPQuerier\n",
    "\n",
    "\n",
    "querier = OMOPQuerier(\n",
    "    dbms=\"postgresql\",\n",
    "    port=5432,\n",
    "    host=\"localhost\",\n",
    "    database=\"synthea_integration_test\",\n",
    "    user=\"postgres\",\n",
    "    password=\"pwd\",\n",
    "    schema_name=\"cdm_synthea10\",\n",
    ")\n",
    "# List all tables.\n",
    "querier.list_tables(\"cdm_synthea10\")"
   ]
  },
  {
   "cell_type": "markdown",
   "id": "7b6214f8",
   "metadata": {
    "tags": []
   },
   "source": [
    "## Example 1. Get all patient visits in or after 2010."
   ]
  },
  {
   "cell_type": "code",
   "execution_count": 2,
   "id": "3a3d9cb9-fe40-45b8-ba2f-8de52a3b7f4f",
   "metadata": {
    "execution": {
     "iopub.execute_input": "2023-09-19T16:00:33.487317Z",
     "iopub.status.busy": "2023-09-19T16:00:33.485923Z",
     "iopub.status.idle": "2023-09-19T16:00:33.625848Z",
     "shell.execute_reply": "2023-09-19T16:00:33.625122Z"
    }
   },
   "outputs": [
    {
     "name": "stderr",
     "output_type": "stream",
     "text": [
      "2023-09-19 12:00:33,614 \u001b[1;37mINFO\u001b[0m cyclops.query.orm - Query returned successfully!\n"
     ]
    },
    {
     "name": "stderr",
     "output_type": "stream",
     "text": [
      "2023-09-19 12:00:33,615 \u001b[1;37mINFO\u001b[0m cyclops.utils.profile - Finished executing function run_query in 0.101939 s\n"
     ]
    },
    {
     "name": "stdout",
     "output_type": "stream",
     "text": [
      "100 rows extracted!\n"
     ]
    },
    {
     "data": {
      "text/plain": [
       "2010     2\n",
       "2011     1\n",
       "2012     3\n",
       "2013     7\n",
       "2014    13\n",
       "2015    15\n",
       "2016    13\n",
       "2017     7\n",
       "2018     8\n",
       "2019     7\n",
       "2020     9\n",
       "2021     9\n",
       "2022     3\n",
       "2023     3\n",
       "Name: visit_start_date, dtype: int64"
      ]
     },
     "execution_count": 2,
     "metadata": {},
     "output_type": "execute_result"
    }
   ],
   "source": [
    "visits = querier.visit_occurrence()\n",
    "visits = visits.ops(qo.ConditionAfterDate(\"visit_start_date\", \"2010-01-01\"))\n",
    "visits = visits.run(limit=100)\n",
    "print(f\"{len(visits)} rows extracted!\")\n",
    "pd.to_datetime(visits[\"visit_start_date\"]).dt.year.value_counts().sort_index()"
   ]
  },
  {
   "cell_type": "markdown",
   "id": "fcaea674-b967-4fbc-a7be-4d8b4492ef56",
   "metadata": {},
   "source": [
    "## Example 2. Get measurements for all visits in or after 2020."
   ]
  },
  {
   "cell_type": "code",
   "execution_count": 3,
   "id": "030e2491-a7cc-42f3-a1ca-618212b3524c",
   "metadata": {
    "execution": {
     "iopub.execute_input": "2023-09-19T16:00:33.628457Z",
     "iopub.status.busy": "2023-09-19T16:00:33.628142Z",
     "iopub.status.idle": "2023-09-19T16:00:33.752399Z",
     "shell.execute_reply": "2023-09-19T16:00:33.751092Z"
    }
   },
   "outputs": [
    {
     "name": "stderr",
     "output_type": "stream",
     "text": [
      "2023-09-19 12:00:33,746 \u001b[1;37mINFO\u001b[0m cyclops.query.orm - Query returned successfully!\n"
     ]
    },
    {
     "name": "stderr",
     "output_type": "stream",
     "text": [
      "2023-09-19 12:00:33,747 \u001b[1;37mINFO\u001b[0m cyclops.utils.profile - Finished executing function run_query in 0.062469 s\n"
     ]
    },
    {
     "name": "stdout",
     "output_type": "stream",
     "text": [
      "100 rows extracted!\n"
     ]
    }
   ],
   "source": [
    "visits = querier.visit_occurrence()\n",
    "visits = visits.ops(qo.ConditionAfterDate(\"visit_start_date\", \"2020-01-01\"))\n",
    "measurements = querier.measurement()\n",
    "visits_measurements = visits.join(\n",
    "    join_table=measurements,\n",
    "    on=\"visit_occurrence_id\",\n",
    ").run(limit=100)\n",
    "print(f\"{len(visits_measurements)} rows extracted!\")"
   ]
  },
  {
   "cell_type": "markdown",
   "id": "602273d9-8d78-4e69-8566-7f9d04553d3a",
   "metadata": {
    "tags": []
   },
   "source": [
    "2. [MIMIC-III v1.4](https://physionet.org/content/mimiciii/1.4/) in OMOP format.\n",
    "\n",
    "* First, setup the MIMIC-III database according to the instructions in [mimic-code](https://github.com/MIT-LCP/mimic-code/tree/main/mimic-iii/buildmimic/postgres).\n",
    "* Perform the ETL in the [mimic-omop](https://github.com/MIT-LCP/mimic-omop) repo.\n",
    "* The database is assumed to be hosted using postgres. Update the config parameters such as username and password, passed to `MIMICIIIQuerier` accordingly."
   ]
  },
  {
   "cell_type": "markdown",
   "id": "10da36a2-28e2-4975-83c7-68d0d366e459",
   "metadata": {},
   "source": [
    "## Imports and instantiate `OMOPQuerier`."
   ]
  },
  {
   "cell_type": "markdown",
   "id": "4a050fa9-442b-44dc-b241-86e73516e693",
   "metadata": {},
   "source": [
    "Pass in the `schema_name` which is the name of the postgres schema which houses all the OMOP tables."
   ]
  },
  {
   "cell_type": "code",
   "execution_count": 4,
   "id": "0622b3df-2864-4f32-bd98-806019f59c50",
   "metadata": {
    "execution": {
     "iopub.execute_input": "2023-09-19T16:00:33.756800Z",
     "iopub.status.busy": "2023-09-19T16:00:33.755783Z",
     "iopub.status.idle": "2023-09-19T16:00:43.080252Z",
     "shell.execute_reply": "2023-09-19T16:00:43.079495Z"
    },
    "tags": []
   },
   "outputs": [
    {
     "name": "stderr",
     "output_type": "stream",
     "text": [
      "2023-09-19 12:00:38,853 \u001b[1;37mINFO\u001b[0m cyclops.query.orm - Database setup, ready to run queries!\n"
     ]
    },
    {
     "data": {
      "text/plain": [
       "['information_schema', 'mimiciii', 'omop', 'public']"
      ]
     },
     "execution_count": 4,
     "metadata": {},
     "output_type": "execute_result"
    }
   ],
   "source": [
    "querier = OMOPQuerier(\n",
    "    dbms=\"postgresql\",\n",
    "    port=5432,\n",
    "    host=\"localhost\",\n",
    "    database=\"mimiciii\",\n",
    "    user=\"postgres\",\n",
    "    password=\"pwd\",\n",
    "    schema_name=\"omop\",\n",
    ")\n",
    "# List all schemas.\n",
    "querier.list_schemas()"
   ]
  },
  {
   "cell_type": "markdown",
   "id": "c4967160-bd45-4ce0-8b00-27f4f9742c68",
   "metadata": {},
   "source": [
    "## Example 1. Get all patient visits that ended in a mortality outcome in or after 2010."
   ]
  },
  {
   "cell_type": "code",
   "execution_count": 5,
   "id": "40ff2e83-75e4-4119-aa33-26f95e63ddaa",
   "metadata": {
    "execution": {
     "iopub.execute_input": "2023-09-19T16:00:43.086549Z",
     "iopub.status.busy": "2023-09-19T16:00:43.086152Z",
     "iopub.status.idle": "2023-09-19T16:00:44.568988Z",
     "shell.execute_reply": "2023-09-19T16:00:44.568079Z"
    },
    "tags": []
   },
   "outputs": [
    {
     "name": "stderr",
     "output_type": "stream",
     "text": [
      "2023-09-19 12:00:44,563 \u001b[1;37mINFO\u001b[0m cyclops.query.orm - Query returned successfully!\n"
     ]
    },
    {
     "name": "stderr",
     "output_type": "stream",
     "text": [
      "2023-09-19 12:00:44,564 \u001b[1;37mINFO\u001b[0m cyclops.utils.profile - Finished executing function run_query in 1.444780 s\n"
     ]
    },
    {
     "name": "stdout",
     "output_type": "stream",
     "text": [
      "5815 rows extracted!\n"
     ]
    }
   ],
   "source": [
    "visits = querier.visit_occurrence()\n",
    "visits = visits.ops(qo.ConditionAfterDate(\"visit_start_date\", \"2010-01-01\"))\n",
    "visits_concept_mapped = querier.map_concept_ids_to_name(\n",
    "    visits,\n",
    "    [\n",
    "        \"discharge_to_concept_id\",\n",
    "        \"admitting_concept_id\",\n",
    "    ],\n",
    ")\n",
    "visits_concept_mapped_died = visits_concept_mapped.ops(\n",
    "    qo.ConditionSubstring(\"discharge_to_concept_name\", \"died\"),\n",
    ").run()\n",
    "print(f\"{len(visits_concept_mapped_died)} rows extracted!\")"
   ]
  },
  {
   "cell_type": "markdown",
   "id": "996ad6ff-8213-43ea-b701-e52a1d0b01bf",
   "metadata": {
    "tags": []
   },
   "source": [
    "## Example 2. Get all measurements for female patient visits with `sepsis` diagnoses, that ended in a mortality outcome."
   ]
  },
  {
   "cell_type": "code",
   "execution_count": 6,
   "id": "46fd771c-5da7-4bce-aec7-08a5210a069b",
   "metadata": {
    "execution": {
     "iopub.execute_input": "2023-09-19T16:00:44.573069Z",
     "iopub.status.busy": "2023-09-19T16:00:44.572002Z",
     "iopub.status.idle": "2023-09-19T16:01:06.311647Z",
     "shell.execute_reply": "2023-09-19T16:01:06.310293Z"
    },
    "tags": []
   },
   "outputs": [
    {
     "name": "stderr",
     "output_type": "stream",
     "text": [
      "2023-09-19 12:01:06,304 \u001b[1;37mINFO\u001b[0m cyclops.query.orm - Query returned successfully!\n"
     ]
    },
    {
     "name": "stderr",
     "output_type": "stream",
     "text": [
      "2023-09-19 12:01:06,305 \u001b[1;37mINFO\u001b[0m cyclops.utils.profile - Finished executing function run_query in 21.518226 s\n"
     ]
    },
    {
     "name": "stdout",
     "output_type": "stream",
     "text": [
      "100 rows extracted!\n"
     ]
    }
   ],
   "source": [
    "persons = querier.person()\n",
    "persons = persons.ops(qo.ConditionSubstring(\"gender_concept_name\", \"FEMALE\"))\n",
    "visits = querier.visit_occurrence()\n",
    "person_visits = persons.join(visits, on=\"person_id\")\n",
    "conditions = querier.omop.condition_occurrence()\n",
    "person_visits_conditions = person_visits.join(\n",
    "    conditions,\n",
    "    on=\"visit_occurrence_id\",\n",
    "    isouter=True,\n",
    ")\n",
    "measurement = querier.measurement()\n",
    "person_visits_conditions_measurements = person_visits_conditions.join(\n",
    "    measurement,\n",
    "    on=\"visit_occurrence_id\",\n",
    "    isouter=True,\n",
    ")\n",
    "person_visits_conditions_measurements = querier.map_concept_ids_to_name(\n",
    "    person_visits_conditions_measurements,\n",
    "    [\n",
    "        \"discharge_to_concept_id\",\n",
    "        \"admitting_concept_id\",\n",
    "        \"condition_concept_id\",\n",
    "    ],\n",
    ")\n",
    "ops = qo.Sequential(\n",
    "    qo.ConditionSubstring(\"discharge_to_concept_name\", \"died\"),\n",
    "    qo.ConditionSubstring(\"condition_concept_name\", \"sepsis\"),\n",
    ")\n",
    "cohort = person_visits_conditions_measurements.ops(ops).run(limit=100)\n",
    "print(f\"{len(cohort)} rows extracted!\")"
   ]
  },
  {
   "cell_type": "code",
   "execution_count": 7,
   "id": "d20a2581-f613-4ab8-9feb-3e84b8835db1",
   "metadata": {
    "execution": {
     "iopub.execute_input": "2023-09-19T16:01:06.317135Z",
     "iopub.status.busy": "2023-09-19T16:01:06.316444Z",
     "iopub.status.idle": "2023-09-19T16:01:06.323802Z",
     "shell.execute_reply": "2023-09-19T16:01:06.323017Z"
    },
    "tags": []
   },
   "outputs": [
    {
     "data": {
      "text/plain": [
       "No matching concept    95\n",
       "Body temperature        5\n",
       "Name: measurement_concept_name, dtype: int64"
      ]
     },
     "execution_count": 7,
     "metadata": {},
     "output_type": "execute_result"
    }
   ],
   "source": [
    "cohort[\"measurement_concept_name\"].value_counts()"
   ]
  }
 ],
 "metadata": {
  "kernelspec": {
   "display_name": "cyclops",
   "language": "python",
   "name": "cyclops"
  },
  "language_info": {
   "codemirror_mode": {
    "name": "ipython",
    "version": 3
   },
   "file_extension": ".py",
   "mimetype": "text/x-python",
   "name": "python",
   "nbconvert_exporter": "python",
   "pygments_lexer": "ipython3",
   "version": "3.9.16"
  }
 },
 "nbformat": 4,
 "nbformat_minor": 5
}
