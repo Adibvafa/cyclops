{
 "cells": [
  {
   "cell_type": "markdown",
   "id": "e337389b-1cfe-4796-a846-b4e1ba5690d6",
   "metadata": {},
   "source": [
    "# OMOP query API tutorial"
   ]
  },
  {
   "cell_type": "markdown",
   "id": "1efffc64",
   "metadata": {},
   "source": [
    "This notebook shows examples of how to use the cyclops.query API to query EHR databases that follow the OMOP common data model. Each query is limit to 100 rows (for quick results).\n",
    "\n",
    "We showcase the examples on:\n",
    "\n",
    "1. [Synthea](https://github.com/synthetichealth/synthea) in OMOP format.\n",
    "\n",
    "    * First, generate synthea data using their releases. We used [v2.7.0](https://github.com/synthetichealth/synthea/releases/tag/v2.7.0) to generate data .\n",
    "    * Follow instructions provided in [ETL-Synthea](https://github.com/OHDSI/ETL-Synthea) to load the CSV data into a postgres database, and perform ETL to load the data into OMOP format."
   ]
  },
  {
   "cell_type": "markdown",
   "id": "12c18656-7f16-4230-85d0-944563d6a13e",
   "metadata": {},
   "source": [
    "## Imports and instantiate `OMOPQuerier`."
   ]
  },
  {
   "cell_type": "markdown",
   "id": "c4cfec2d-af3f-431d-a851-c8853e31df08",
   "metadata": {},
   "source": [
    "Pass in the `schema_name` which is the name of the postgres schema which houses all the OMOP tables."
   ]
  },
  {
   "cell_type": "code",
   "execution_count": 1,
   "id": "53009e6b",
   "metadata": {
    "execution": {
     "iopub.execute_input": "2023-07-11T13:37:30.590610Z",
     "iopub.status.busy": "2023-07-11T13:37:30.590009Z",
     "iopub.status.idle": "2023-07-11T13:37:34.296321Z",
     "shell.execute_reply": "2023-07-11T13:37:34.294967Z"
    }
   },
   "outputs": [
    {
     "name": "stderr",
     "output_type": "stream",
     "text": [
      "2023-07-11 09:37:33,117 \u001b[1;37mINFO\u001b[0m cyclops.query.orm - Database setup, ready to run queries!\n"
     ]
    },
    {
     "data": {
      "text/plain": [
       "['cdm_synthea10.source_to_standard_vocab_map',\n",
       " 'cdm_synthea10.source_to_source_vocab_map',\n",
       " 'cdm_synthea10.all_visits',\n",
       " 'cdm_synthea10.assign_all_visit_ids',\n",
       " 'cdm_synthea10.final_visit_ids',\n",
       " 'cdm_synthea10.device_exposure',\n",
       " 'cdm_synthea10.measurement',\n",
       " 'cdm_synthea10.person',\n",
       " 'cdm_synthea10.observation_period',\n",
       " 'cdm_synthea10.visit_occurrence',\n",
       " 'cdm_synthea10.visit_detail',\n",
       " 'cdm_synthea10.condition_occurrence',\n",
       " 'cdm_synthea10.drug_exposure',\n",
       " 'cdm_synthea10.procedure_occurrence',\n",
       " 'cdm_synthea10.observation',\n",
       " 'cdm_synthea10.death',\n",
       " 'cdm_synthea10.note',\n",
       " 'cdm_synthea10.note_nlp',\n",
       " 'cdm_synthea10.specimen',\n",
       " 'cdm_synthea10.fact_relationship',\n",
       " 'cdm_synthea10.location',\n",
       " 'cdm_synthea10.care_site',\n",
       " 'cdm_synthea10.provider',\n",
       " 'cdm_synthea10.payer_plan_period',\n",
       " 'cdm_synthea10.cost',\n",
       " 'cdm_synthea10.drug_era',\n",
       " 'cdm_synthea10.dose_era',\n",
       " 'cdm_synthea10.condition_era',\n",
       " 'cdm_synthea10.episode',\n",
       " 'cdm_synthea10.episode_event',\n",
       " 'metadata.name',\n",
       " 'cdm_synthea10.cdm_source',\n",
       " 'cdm_synthea10.concept',\n",
       " 'cdm_synthea10.vocabulary',\n",
       " 'cdm_synthea10.domain',\n",
       " 'cdm_synthea10.concept_class',\n",
       " 'cdm_synthea10.concept_relationship',\n",
       " 'cdm_synthea10.relationship',\n",
       " 'cdm_synthea10.concept_synonym',\n",
       " 'cdm_synthea10.concept_ancestor',\n",
       " 'cdm_synthea10.source_to_concept_map',\n",
       " 'cdm_synthea10.drug_strength',\n",
       " 'cdm_synthea10.cohort',\n",
       " 'cdm_synthea10.cohort_definition',\n",
       " 'information_schema.sql_packages',\n",
       " 'information_schema.sql_features',\n",
       " 'information_schema.sql_implementation_info',\n",
       " 'information_schema.sql_parts',\n",
       " 'information_schema.sql_languages',\n",
       " 'information_schema.sql_sizing',\n",
       " 'information_schema.sql_sizing_profiles',\n",
       " 'native.allergies',\n",
       " 'native.careplans',\n",
       " 'native.conditions',\n",
       " 'native.encounters',\n",
       " 'native.immunizations',\n",
       " 'native.imaging_studies',\n",
       " 'native.medications',\n",
       " 'native.observations',\n",
       " 'organizations.name',\n",
       " 'native.patients',\n",
       " 'native.procedures',\n",
       " 'providers.name',\n",
       " 'native.devices',\n",
       " 'native.claims',\n",
       " 'native.claims_transactions',\n",
       " 'native.payer_transitions',\n",
       " 'payers.name',\n",
       " 'native.supplies']"
      ]
     },
     "execution_count": 1,
     "metadata": {},
     "output_type": "execute_result"
    }
   ],
   "source": [
    "import pandas as pd\n",
    "\n",
    "import cyclops.query.ops as qo\n",
    "from cyclops.query import OMOPQuerier\n",
    "\n",
    "querier = OMOPQuerier(\n",
    "    dbms=\"postgresql\",\n",
    "    port=5432,\n",
    "    host=\"localhost\",\n",
    "    database=\"synthea_integration_test\",\n",
    "    user=\"postgres\",\n",
    "    password=\"pwd\",\n",
    "    schema_name=\"cdm_synthea10\",\n",
    ")\n",
    "# List all tables.\n",
    "querier.list_tables()"
   ]
  },
  {
   "cell_type": "markdown",
   "id": "7b6214f8",
   "metadata": {
    "tags": []
   },
   "source": [
    "## Example 1. Get all patient visits in or after 2010."
   ]
  },
  {
   "cell_type": "code",
   "execution_count": 2,
   "id": "3a3d9cb9-fe40-45b8-ba2f-8de52a3b7f4f",
   "metadata": {
    "execution": {
     "iopub.execute_input": "2023-07-11T13:37:34.303781Z",
     "iopub.status.busy": "2023-07-11T13:37:34.303112Z",
     "iopub.status.idle": "2023-07-11T13:37:34.387848Z",
     "shell.execute_reply": "2023-07-11T13:37:34.386887Z"
    }
   },
   "outputs": [
    {
     "name": "stderr",
     "output_type": "stream",
     "text": [
      "2023-07-11 09:37:34,374 \u001b[1;37mINFO\u001b[0m cyclops.query.orm - Query returned successfully!\n"
     ]
    },
    {
     "name": "stderr",
     "output_type": "stream",
     "text": [
      "2023-07-11 09:37:34,376 \u001b[1;37mINFO\u001b[0m cyclops.utils.profile - Finished executing function run_query in 0.047688 s\n"
     ]
    },
    {
     "name": "stdout",
     "output_type": "stream",
     "text": [
      "100 rows extracted!\n"
     ]
    },
    {
     "data": {
      "text/plain": [
       "2010     5\n",
       "2011     1\n",
       "2012     6\n",
       "2013    12\n",
       "2014    12\n",
       "2015    12\n",
       "2016    10\n",
       "2017     6\n",
       "2018     8\n",
       "2019     5\n",
       "2020     5\n",
       "2021    13\n",
       "2022     5\n",
       "Name: visit_start_date, dtype: int64"
      ]
     },
     "execution_count": 2,
     "metadata": {},
     "output_type": "execute_result"
    }
   ],
   "source": [
    "ops = qo.Sequential([qo.ConditionAfterDate(\"visit_start_date\", \"2010-01-01\")])\n",
    "visits = querier.visit_occurrence(ops=ops).run(limit=100)\n",
    "print(f\"{len(visits)} rows extracted!\")\n",
    "pd.to_datetime(visits[\"visit_start_date\"]).dt.year.value_counts().sort_index()"
   ]
  },
  {
   "cell_type": "markdown",
   "id": "fcaea674-b967-4fbc-a7be-4d8b4492ef56",
   "metadata": {},
   "source": [
    "## Example 2. Get measurements for all visits in or after 2020."
   ]
  },
  {
   "cell_type": "code",
   "execution_count": 3,
   "id": "030e2491-a7cc-42f3-a1ca-618212b3524c",
   "metadata": {
    "execution": {
     "iopub.execute_input": "2023-07-11T13:37:34.393424Z",
     "iopub.status.busy": "2023-07-11T13:37:34.393048Z",
     "iopub.status.idle": "2023-07-11T13:37:34.557586Z",
     "shell.execute_reply": "2023-07-11T13:37:34.556476Z"
    }
   },
   "outputs": [
    {
     "name": "stderr",
     "output_type": "stream",
     "text": [
      "2023-07-11 09:37:34,551 \u001b[1;37mINFO\u001b[0m cyclops.query.orm - Query returned successfully!\n"
     ]
    },
    {
     "name": "stderr",
     "output_type": "stream",
     "text": [
      "2023-07-11 09:37:34,552 \u001b[1;37mINFO\u001b[0m cyclops.utils.profile - Finished executing function run_query in 0.044035 s\n"
     ]
    },
    {
     "name": "stdout",
     "output_type": "stream",
     "text": [
      "100 rows extracted!\n"
     ]
    }
   ],
   "source": [
    "ops = qo.Sequential([qo.ConditionAfterDate(\"visit_start_date\", \"2020-01-01\")])\n",
    "visits = querier.visit_occurrence(ops=ops)\n",
    "measurements = querier.measurement(\n",
    "    join=qo.JoinArgs(join_table=visits.query, on=\"visit_occurrence_id\")\n",
    ").run(limit=100)\n",
    "print(f\"{len(measurements)} rows extracted!\")"
   ]
  },
  {
   "cell_type": "markdown",
   "id": "602273d9-8d78-4e69-8566-7f9d04553d3a",
   "metadata": {
    "tags": []
   },
   "source": [
    "2. [MIMIC-III v1.4](https://physionet.org/content/mimiciii/1.4/) in OMOP format.\n",
    "\n",
    "* First, setup the MIMIC-III database according to the instructions in [mimic-code](https://github.com/MIT-LCP/mimic-code/tree/main/mimic-iii/buildmimic/postgres).\n",
    "* Perform the ETL in the [mimic-omop](https://github.com/MIT-LCP/mimic-omop) repo.\n",
    "* The database is assumed to be hosted using postgres. Update the config parameters such as username and password, passed to `MIMICIIIQuerier` accordingly."
   ]
  },
  {
   "cell_type": "markdown",
   "id": "10da36a2-28e2-4975-83c7-68d0d366e459",
   "metadata": {},
   "source": [
    "## Imports and instantiate `OMOPQuerier`."
   ]
  },
  {
   "cell_type": "markdown",
   "id": "4a050fa9-442b-44dc-b241-86e73516e693",
   "metadata": {},
   "source": [
    "Pass in the `schema_name` which is the name of the postgres schema which houses all the OMOP tables."
   ]
  },
  {
   "cell_type": "code",
   "execution_count": 4,
   "id": "0622b3df-2864-4f32-bd98-806019f59c50",
   "metadata": {
    "execution": {
     "iopub.execute_input": "2023-07-11T13:37:34.563204Z",
     "iopub.status.busy": "2023-07-11T13:37:34.562834Z",
     "iopub.status.idle": "2023-07-11T13:37:45.066999Z",
     "shell.execute_reply": "2023-07-11T13:37:45.065353Z"
    },
    "tags": []
   },
   "outputs": [
    {
     "name": "stderr",
     "output_type": "stream",
     "text": [
      "2023-07-11 09:37:40,216 \u001b[1;37mINFO\u001b[0m cyclops.query.orm - Database setup, ready to run queries!\n"
     ]
    },
    {
     "data": {
      "text/plain": [
       "['information_schema', 'mimiciii', 'omop', 'public']"
      ]
     },
     "execution_count": 4,
     "metadata": {},
     "output_type": "execute_result"
    }
   ],
   "source": [
    "querier = OMOPQuerier(\n",
    "    dbms=\"postgresql\",\n",
    "    port=5432,\n",
    "    host=\"localhost\",\n",
    "    database=\"mimiciii\",\n",
    "    user=\"postgres\",\n",
    "    password=\"pwd\",\n",
    "    schema_name=\"omop\",\n",
    ")\n",
    "# List all schemas.\n",
    "querier.list_schemas()"
   ]
  },
  {
   "cell_type": "markdown",
   "id": "c4967160-bd45-4ce0-8b00-27f4f9742c68",
   "metadata": {},
   "source": [
    "## Example 1. Get all patient visits that ended in a mortality outcome in or after 2010."
   ]
  },
  {
   "cell_type": "code",
   "execution_count": 5,
   "id": "40ff2e83-75e4-4119-aa33-26f95e63ddaa",
   "metadata": {
    "execution": {
     "iopub.execute_input": "2023-07-11T13:37:45.074044Z",
     "iopub.status.busy": "2023-07-11T13:37:45.073443Z",
     "iopub.status.idle": "2023-07-11T13:37:45.195993Z",
     "shell.execute_reply": "2023-07-11T13:37:45.194425Z"
    },
    "tags": []
   },
   "outputs": [
    {
     "name": "stderr",
     "output_type": "stream",
     "text": [
      "2023-07-11 09:37:45,189 \u001b[1;37mINFO\u001b[0m cyclops.query.orm - Query returned successfully!\n"
     ]
    },
    {
     "name": "stderr",
     "output_type": "stream",
     "text": [
      "2023-07-11 09:37:45,191 \u001b[1;37mINFO\u001b[0m cyclops.utils.profile - Finished executing function run_query in 0.081492 s\n"
     ]
    },
    {
     "name": "stdout",
     "output_type": "stream",
     "text": [
      "100 rows extracted!\n"
     ]
    }
   ],
   "source": [
    "ops = qo.Sequential(\n",
    "    [\n",
    "        qo.ConditionAfterDate(\"visit_start_date\", \"2010-01-01\"),\n",
    "    ]\n",
    ")\n",
    "visits = querier.visit_occurrence(ops=ops)\n",
    "visits_concept_mapped = querier.map_concept_ids_to_name(\n",
    "    visits.query,\n",
    "    [\n",
    "        \"discharge_to_concept_id\",\n",
    "        \"admitting_concept_id\",\n",
    "    ],\n",
    ")\n",
    "visits_ops = qo.Sequential(\n",
    "    [\n",
    "        qo.ConditionSubstring(\"discharge_to_concept_name\", \"died\"),\n",
    "    ]\n",
    ")\n",
    "visits = querier.get_interface(visits_concept_mapped, ops=visits_ops).run(limit=100)\n",
    "print(f\"{len(visits)} rows extracted!\")"
   ]
  },
  {
   "cell_type": "markdown",
   "id": "996ad6ff-8213-43ea-b701-e52a1d0b01bf",
   "metadata": {
    "tags": []
   },
   "source": [
    "## Example 2. Get all measurements for female patient visits with `sepsis` diagnoses, that ended in a mortality outcome."
   ]
  },
  {
   "cell_type": "code",
   "execution_count": 6,
   "id": "46fd771c-5da7-4bce-aec7-08a5210a069b",
   "metadata": {
    "execution": {
     "iopub.execute_input": "2023-07-11T13:37:45.202530Z",
     "iopub.status.busy": "2023-07-11T13:37:45.201996Z",
     "iopub.status.idle": "2023-07-11T13:39:18.617326Z",
     "shell.execute_reply": "2023-07-11T13:39:18.616409Z"
    },
    "tags": []
   },
   "outputs": [
    {
     "name": "stderr",
     "output_type": "stream",
     "text": [
      "2023-07-11 09:39:18,611 \u001b[1;37mINFO\u001b[0m cyclops.query.orm - Query returned successfully!\n"
     ]
    },
    {
     "name": "stderr",
     "output_type": "stream",
     "text": [
      "2023-07-11 09:39:18,612 \u001b[1;37mINFO\u001b[0m cyclops.utils.profile - Finished executing function run_query in 92.768036 s\n"
     ]
    },
    {
     "name": "stdout",
     "output_type": "stream",
     "text": [
      "100 rows extracted!\n"
     ]
    }
   ],
   "source": [
    "persons_ops = qo.Sequential(\n",
    "    [\n",
    "        qo.ConditionSubstring(\"gender_concept_name\", \"FEMALE\"),\n",
    "    ]\n",
    ")\n",
    "cohort = querier.person(ops=persons_ops)\n",
    "cohort = querier.visit_occurrence(join=qo.JoinArgs(cohort.query, on=\"person_id\"))\n",
    "cohort = querier.omop.condition_occurrence(\n",
    "    join=qo.JoinArgs(cohort.query, on=\"visit_occurrence_id\", isouter=True)\n",
    ")\n",
    "cohort = querier.measurement(\n",
    "    join=qo.JoinArgs(cohort.query, on=\"visit_occurrence_id\", isouter=True)\n",
    ")\n",
    "cohort_query = querier.map_concept_ids_to_name(\n",
    "    cohort.query,\n",
    "    [\n",
    "        \"discharge_to_concept_id\",\n",
    "        \"admitting_concept_id\",\n",
    "        \"condition_concept_id\",\n",
    "    ],\n",
    ")\n",
    "sepsis_died_filter = qo.Sequential(\n",
    "    [\n",
    "        qo.ConditionSubstring(\"discharge_to_concept_name\", \"died\"),\n",
    "        qo.ConditionSubstring(\"condition_concept_name\", \"sepsis\"),\n",
    "    ]\n",
    ")\n",
    "cohort = querier.get_interface(cohort_query, ops=sepsis_died_filter).run(limit=100)\n",
    "print(f\"{len(cohort)} rows extracted!\")"
   ]
  },
  {
   "cell_type": "code",
   "execution_count": 7,
   "id": "d20a2581-f613-4ab8-9feb-3e84b8835db1",
   "metadata": {
    "execution": {
     "iopub.execute_input": "2023-07-11T13:39:18.628040Z",
     "iopub.status.busy": "2023-07-11T13:39:18.627507Z",
     "iopub.status.idle": "2023-07-11T13:39:18.639488Z",
     "shell.execute_reply": "2023-07-11T13:39:18.638289Z"
    },
    "tags": []
   },
   "outputs": [
    {
     "data": {
      "text/plain": [
       "Body weight                 43\n",
       "No matching concept         38\n",
       "Glasgow coma score motor    19\n",
       "Name: measurement_concept_name, dtype: int64"
      ]
     },
     "execution_count": 7,
     "metadata": {},
     "output_type": "execute_result"
    }
   ],
   "source": [
    "cohort[\"measurement_concept_name\"].value_counts()"
   ]
  }
 ],
 "metadata": {
  "kernelspec": {
   "display_name": "cyclops",
   "language": "python",
   "name": "cyclops"
  },
  "language_info": {
   "codemirror_mode": {
    "name": "ipython",
    "version": 3
   },
   "file_extension": ".py",
   "mimetype": "text/x-python",
   "name": "python",
   "nbconvert_exporter": "python",
   "pygments_lexer": "ipython3",
   "version": "3.9.16"
  }
 },
 "nbformat": 4,
 "nbformat_minor": 5
}
