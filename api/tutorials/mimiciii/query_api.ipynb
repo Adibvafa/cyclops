{
 "cells": [
  {
   "cell_type": "markdown",
   "id": "28288104-b8ce-43fa-a22b-8f02239551a5",
   "metadata": {},
   "source": [
    "# MIMIC-III query API tutorial"
   ]
  },
  {
   "cell_type": "markdown",
   "id": "74b155b9-9ba6-455c-b987-4c261c339364",
   "metadata": {},
   "source": [
    "This notebook shows examples of how to use the cyclops.query API on [MIMIC-III v1.4](https://physionet.org/content/mimiciii/1.4/).\n",
    "\n",
    "Each query is limit to 100 rows (for quick results).\n",
    "\n",
    "* First, setup the MIMIC-III database according to the instructions in [mimic-code](https://github.com/MIT-LCP/mimic-code/tree/main/mimic-iii/buildmimic/postgres).\n",
    "* The database is assumed to be hosted using postgres. Update the config parameters such as username and password, passed to `MIMICIIIQuerier` accordingly."
   ]
  },
  {
   "cell_type": "markdown",
   "id": "0c7c1635-3a70-42d1-99a6-c7f7a9cf9d21",
   "metadata": {},
   "source": [
    "## Imports and instantiate `MIMICIIIQuerier`"
   ]
  },
  {
   "cell_type": "code",
   "execution_count": 1,
   "id": "75a140e0-fb27-4319-862f-be54397abe5c",
   "metadata": {
    "execution": {
     "iopub.execute_input": "2023-08-28T17:23:34.094071Z",
     "iopub.status.busy": "2023-08-28T17:23:34.093317Z",
     "iopub.status.idle": "2023-08-28T17:23:46.210792Z",
     "shell.execute_reply": "2023-08-28T17:23:46.210183Z"
    },
    "tags": []
   },
   "outputs": [
    {
     "name": "stderr",
     "output_type": "stream",
     "text": [
      "2023-08-28 13:23:41,419 \u001b[1;37mINFO\u001b[0m cyclops.query.orm - Database setup, ready to run queries!\n"
     ]
    },
    {
     "data": {
      "text/plain": [
       "['chartevents', 'diagnoses', 'labevents']"
      ]
     },
     "execution_count": 1,
     "metadata": {},
     "output_type": "execute_result"
    }
   ],
   "source": [
    "\"\"\"MIMICIII query API tutorial.\"\"\"\n",
    "\n",
    "import cyclops.query.ops as qo\n",
    "from cyclops.query import MIMICIIIQuerier\n",
    "\n",
    "\n",
    "querier = MIMICIIIQuerier(\n",
    "    dbms=\"postgresql\",\n",
    "    port=5432,\n",
    "    host=\"localhost\",\n",
    "    database=\"mimiciii\",\n",
    "    user=\"postgres\",\n",
    "    password=\"pwd\",\n",
    ")\n",
    "# List all custom table methods.\n",
    "querier.list_custom_tables()"
   ]
  },
  {
   "cell_type": "markdown",
   "id": "ea04cc11-e947-4097-91df-729f28b3732c",
   "metadata": {},
   "source": [
    "## Example 1. Get all male patients with a mortality outcome."
   ]
  },
  {
   "cell_type": "code",
   "execution_count": 2,
   "id": "c1efa964-8978-4a0e-9892-5ea4ce9953a3",
   "metadata": {
    "execution": {
     "iopub.execute_input": "2023-08-28T17:23:46.217800Z",
     "iopub.status.busy": "2023-08-28T17:23:46.217543Z",
     "iopub.status.idle": "2023-08-28T17:23:46.252613Z",
     "shell.execute_reply": "2023-08-28T17:23:46.251386Z"
    },
    "tags": []
   },
   "outputs": [
    {
     "name": "stderr",
     "output_type": "stream",
     "text": [
      "2023-08-28 13:23:46,246 \u001b[1;37mINFO\u001b[0m cyclops.query.orm - Query returned successfully!\n"
     ]
    },
    {
     "name": "stderr",
     "output_type": "stream",
     "text": [
      "2023-08-28 13:23:46,247 \u001b[1;37mINFO\u001b[0m cyclops.utils.profile - Finished executing function run_query in 0.026690 s\n"
     ]
    },
    {
     "name": "stdout",
     "output_type": "stream",
     "text": [
      "100 rows extracted!\n"
     ]
    }
   ],
   "source": [
    "ops = qo.Sequential(\n",
    "    [\n",
    "        qo.ConditionEquals(\"expire_flag\", 1),\n",
    "        qo.ConditionEquals(\"gender\", \"M\"),\n",
    "    ],\n",
    ")\n",
    "patients = querier.mimiciii.patients(ops=ops).run(limit=100)\n",
    "print(f\"{len(patients)} rows extracted!\")"
   ]
  },
  {
   "cell_type": "markdown",
   "id": "cd43679b-3d33-4135-b97c-373447289a9c",
   "metadata": {
    "tags": []
   },
   "source": [
    "## Example 2. Get all female patient encounters with diagnoses (`gastroenteritis` in ICD-9 long title)."
   ]
  },
  {
   "cell_type": "code",
   "execution_count": 3,
   "id": "a7ab5fa3-e26b-47a7-818f-1bf367a55760",
   "metadata": {
    "execution": {
     "iopub.execute_input": "2023-08-28T17:23:46.260463Z",
     "iopub.status.busy": "2023-08-28T17:23:46.259877Z",
     "iopub.status.idle": "2023-08-28T17:23:47.998160Z",
     "shell.execute_reply": "2023-08-28T17:23:47.996754Z"
    },
    "tags": []
   },
   "outputs": [
    {
     "name": "stderr",
     "output_type": "stream",
     "text": [
      "2023-08-28 13:23:47,991 \u001b[1;37mINFO\u001b[0m cyclops.query.orm - Query returned successfully!\n"
     ]
    },
    {
     "name": "stderr",
     "output_type": "stream",
     "text": [
      "2023-08-28 13:23:47,992 \u001b[1;37mINFO\u001b[0m cyclops.utils.profile - Finished executing function run_query in 0.090329 s\n"
     ]
    },
    {
     "name": "stdout",
     "output_type": "stream",
     "text": [
      "100 rows extracted!\n"
     ]
    }
   ],
   "source": [
    "ops = qo.Sequential(\n",
    "    [\n",
    "        qo.ConditionEquals(\"gender\", \"F\"),\n",
    "    ],\n",
    ")\n",
    "diagnoses_ops = qo.Sequential(\n",
    "    [\n",
    "        qo.ConditionSubstring(\"long_title\", \"gastroenteritis\"),\n",
    "    ],\n",
    ")\n",
    "patients = querier.mimiciii.patients(ops=ops)\n",
    "admissions = querier.mimiciii.admissions(\n",
    "    join=qo.JoinArgs(join_table=patients.query, on=\"subject_id\"),\n",
    ")\n",
    "diagnoses = querier.diagnoses(\n",
    "    join=qo.JoinArgs(\n",
    "        join_table=admissions.query,\n",
    "        on=[\"subject_id\", \"hadm_id\"],\n",
    "    ),\n",
    "    ops=diagnoses_ops,\n",
    ").run(limit=100)\n",
    "print(f\"{len(diagnoses)} rows extracted!\")"
   ]
  },
  {
   "cell_type": "markdown",
   "id": "241f7d10-9e04-44ae-b325-87f5a4046df2",
   "metadata": {},
   "source": [
    "## Example 3. Get potassium lab tests for female patient encounters."
   ]
  },
  {
   "cell_type": "code",
   "execution_count": 4,
   "id": "24043abc-1878-4e00-8229-36d4a0368b98",
   "metadata": {
    "execution": {
     "iopub.execute_input": "2023-08-28T17:23:48.004315Z",
     "iopub.status.busy": "2023-08-28T17:23:48.003586Z",
     "iopub.status.idle": "2023-08-28T17:23:48.050316Z",
     "shell.execute_reply": "2023-08-28T17:23:48.049398Z"
    },
    "tags": []
   },
   "outputs": [
    {
     "name": "stderr",
     "output_type": "stream",
     "text": [
      "2023-08-28 13:23:48,044 \u001b[1;37mINFO\u001b[0m cyclops.query.orm - Query returned successfully!\n"
     ]
    },
    {
     "name": "stderr",
     "output_type": "stream",
     "text": [
      "2023-08-28 13:23:48,045 \u001b[1;37mINFO\u001b[0m cyclops.utils.profile - Finished executing function run_query in 0.023201 s\n"
     ]
    },
    {
     "name": "stdout",
     "output_type": "stream",
     "text": [
      "100 rows extracted!\n"
     ]
    }
   ],
   "source": [
    "ops = qo.Sequential(\n",
    "    [\n",
    "        qo.ConditionEquals(\"gender\", \"F\"),\n",
    "    ],\n",
    ")\n",
    "patients = querier.mimiciii.patients(ops=ops)\n",
    "lab_ops = qo.Sequential(\n",
    "    [\n",
    "        qo.ConditionEquals(\"label\", \"potassium\"),\n",
    "    ],\n",
    ")\n",
    "labs = querier.labevents(ops=lab_ops).run(limit=100)\n",
    "print(f\"{len(labs)} rows extracted!\")"
   ]
  },
  {
   "cell_type": "markdown",
   "id": "2dbf0fdc-8d99-4fde-ab3e-7c8a67b72f8b",
   "metadata": {},
   "source": [
    "## Example 4. Get AaDO2 carevue chart events for male patients that have a `valuenum` of less than 20."
   ]
  },
  {
   "cell_type": "code",
   "execution_count": 5,
   "id": "f6142f27-e8d1-453c-bfe2-2265d9ff1914",
   "metadata": {
    "execution": {
     "iopub.execute_input": "2023-08-28T17:23:48.056486Z",
     "iopub.status.busy": "2023-08-28T17:23:48.056224Z",
     "iopub.status.idle": "2023-08-28T17:25:01.658469Z",
     "shell.execute_reply": "2023-08-28T17:25:01.657219Z"
    },
    "tags": []
   },
   "outputs": [
    {
     "name": "stderr",
     "output_type": "stream",
     "text": [
      "2023-08-28 13:25:01,651 \u001b[1;37mINFO\u001b[0m cyclops.query.orm - Query returned successfully!\n"
     ]
    },
    {
     "name": "stderr",
     "output_type": "stream",
     "text": [
      "2023-08-28 13:25:01,653 \u001b[1;37mINFO\u001b[0m cyclops.utils.profile - Finished executing function run_query in 73.577140 s\n"
     ]
    },
    {
     "name": "stdout",
     "output_type": "stream",
     "text": [
      "13 rows extracted!\n"
     ]
    }
   ],
   "source": [
    "ops = qo.Sequential(\n",
    "    [\n",
    "        qo.ConditionEquals(\"gender\", \"M\"),\n",
    "    ],\n",
    ")\n",
    "chartevents_ops = qo.Sequential(\n",
    "    [\n",
    "        qo.ConditionEquals(\"dbsource\", \"carevue\"),\n",
    "        qo.ConditionEquals(\"label\", \"AaDO2\"),\n",
    "        qo.ConditionLessThan(\"valuenum\", 20),\n",
    "    ],\n",
    ")\n",
    "patients = querier.mimiciii.patients(ops=ops)\n",
    "chart_events = querier.chartevents(ops=chartevents_ops).run(limit=100)\n",
    "print(f\"{len(chart_events)} rows extracted!\")"
   ]
  }
 ],
 "metadata": {
  "kernelspec": {
   "display_name": "cyclops",
   "language": "python",
   "name": "cyclops"
  },
  "language_info": {
   "codemirror_mode": {
    "name": "ipython",
    "version": 3
   },
   "file_extension": ".py",
   "mimetype": "text/x-python",
   "name": "python",
   "nbconvert_exporter": "python",
   "pygments_lexer": "ipython3",
   "version": "3.9.16"
  }
 },
 "nbformat": 4,
 "nbformat_minor": 5
}
