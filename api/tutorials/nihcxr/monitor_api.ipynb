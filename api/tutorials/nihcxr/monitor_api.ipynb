{
 "cells": [
  {
   "cell_type": "markdown",
   "id": "6b2520a8-d4ad-4941-8ea7-71fdd631225f",
   "metadata": {},
   "source": [
    "# NIHCXR Clinical Drift Experiments Tutorial"
   ]
  },
  {
   "cell_type": "markdown",
   "id": "275fdb05",
   "metadata": {},
   "source": [
    "## Import Libraries and Load NIHCXR Dataset"
   ]
  },
  {
   "cell_type": "code",
   "execution_count": 1,
   "id": "8aa3302d",
   "metadata": {
    "execution": {
     "iopub.execute_input": "2023-08-08T16:55:05.798041Z",
     "iopub.status.busy": "2023-08-08T16:55:05.797575Z",
     "iopub.status.idle": "2023-08-08T16:55:10.125839Z",
     "shell.execute_reply": "2023-08-08T16:55:10.124542Z"
    }
   },
   "outputs": [
    {
     "name": "stderr",
     "output_type": "stream",
     "text": [
      "/home/amritk/.cache/pypoetry/virtualenvs/pycyclops-mhx6UJW0-py3.9/lib/python3.9/site-packages/tqdm/auto.py:21: TqdmWarning: IProgress not found. Please update jupyter and ipywidgets. See https://ipywidgets.readthedocs.io/en/stable/user_install.html\n",
      "  from .autonotebook import tqdm as notebook_tqdm\n"
     ]
    }
   ],
   "source": [
    "from functools import partial\n",
    "\n",
    "from monai.transforms import AddChanneld, Compose, Lambdad, Resized, ToDeviced\n",
    "from torchxrayvision.models import DenseNet\n",
    "\n",
    "from cyclops.data.loader import load_nihcxr\n",
    "from cyclops.data.slicer import SliceSpec\n",
    "from cyclops.data.utils import apply_transforms\n",
    "from cyclops.monitor import ClinicalShiftApplicator, Detector, Reductor, TSTester\n",
    "from cyclops.monitor.plotter import plot_drift_experiment, plot_drift_timeseries\n",
    "from cyclops.monitor.utils import get_device\n",
    "\n",
    "device = get_device()\n",
    "\n",
    "nih_ds = load_nihcxr(\"/mnt/data/clinical_datasets/NIHCXR\")"
   ]
  },
  {
   "cell_type": "markdown",
   "id": "ebcc72bb",
   "metadata": {},
   "source": [
    "## Example 1. Generate Source/Target Dataset for Experiments (1-2)"
   ]
  },
  {
   "cell_type": "code",
   "execution_count": 2,
   "id": "e11920db",
   "metadata": {
    "execution": {
     "iopub.execute_input": "2023-08-08T16:55:10.131486Z",
     "iopub.status.busy": "2023-08-08T16:55:10.131214Z",
     "iopub.status.idle": "2023-08-08T16:55:12.292106Z",
     "shell.execute_reply": "2023-08-08T16:55:12.291414Z"
    }
   },
   "outputs": [
    {
     "name": "stderr",
     "output_type": "stream",
     "text": [
      "\r",
      "Filter (num_proc=6):   0%|          | 0/112120 [00:00<?, ? examples/s]"
     ]
    },
    {
     "name": "stderr",
     "output_type": "stream",
     "text": [
      "\r",
      "Filter (num_proc=6):  17%|█▋        | 18687/112120 [00:00<00:01, 71201.82 examples/s]"
     ]
    },
    {
     "name": "stderr",
     "output_type": "stream",
     "text": [
      "\r",
      "Filter (num_proc=6):  33%|███▎      | 37374/112120 [00:00<00:00, 99304.75 examples/s]"
     ]
    },
    {
     "name": "stderr",
     "output_type": "stream",
     "text": [
      "\r",
      "Filter (num_proc=6):  50%|█████     | 56061/112120 [00:00<00:00, 116191.12 examples/s]"
     ]
    },
    {
     "name": "stderr",
     "output_type": "stream",
     "text": [
      "\r",
      "Filter (num_proc=6):  67%|██████▋   | 74748/112120 [00:00<00:00, 135821.77 examples/s]"
     ]
    },
    {
     "name": "stderr",
     "output_type": "stream",
     "text": [
      "\r",
      "Filter (num_proc=6):  83%|████████▎ | 93434/112120 [00:00<00:00, 142193.47 examples/s]"
     ]
    },
    {
     "name": "stderr",
     "output_type": "stream",
     "text": [
      "\r",
      "Filter (num_proc=6): 100%|██████████| 112120/112120 [00:00<00:00, 148653.71 examples/s]"
     ]
    },
    {
     "name": "stderr",
     "output_type": "stream",
     "text": [
      "\r",
      "Filter (num_proc=6): 100%|██████████| 112120/112120 [00:00<00:00, 117983.47 examples/s]"
     ]
    },
    {
     "name": "stderr",
     "output_type": "stream",
     "text": [
      "\n"
     ]
    },
    {
     "name": "stderr",
     "output_type": "stream",
     "text": [
      "\r",
      "Filter (num_proc=6):   0%|          | 0/112120 [00:00<?, ? examples/s]"
     ]
    },
    {
     "name": "stderr",
     "output_type": "stream",
     "text": [
      "\r",
      "Filter (num_proc=6):  17%|█▋        | 18687/112120 [00:00<00:01, 79312.79 examples/s]"
     ]
    },
    {
     "name": "stderr",
     "output_type": "stream",
     "text": [
      "\r",
      "Filter (num_proc=6):  33%|███▎      | 37374/112120 [00:00<00:00, 112157.86 examples/s]"
     ]
    },
    {
     "name": "stderr",
     "output_type": "stream",
     "text": [
      "\r",
      "Filter (num_proc=6):  50%|█████     | 56061/112120 [00:00<00:00, 130892.65 examples/s]"
     ]
    },
    {
     "name": "stderr",
     "output_type": "stream",
     "text": [
      "\r",
      "Filter (num_proc=6):  67%|██████▋   | 74748/112120 [00:00<00:00, 139817.77 examples/s]"
     ]
    },
    {
     "name": "stderr",
     "output_type": "stream",
     "text": [
      "\r",
      "Filter (num_proc=6):  83%|████████▎ | 93434/112120 [00:00<00:00, 146222.38 examples/s]"
     ]
    },
    {
     "name": "stderr",
     "output_type": "stream",
     "text": [
      "\r",
      "Filter (num_proc=6): 100%|██████████| 112120/112120 [00:00<00:00, 151629.32 examples/s]"
     ]
    },
    {
     "name": "stderr",
     "output_type": "stream",
     "text": [
      "\r",
      "Filter (num_proc=6): 100%|██████████| 112120/112120 [00:00<00:00, 123513.71 examples/s]"
     ]
    },
    {
     "name": "stderr",
     "output_type": "stream",
     "text": [
      "\n"
     ]
    }
   ],
   "source": [
    "shifter = ClinicalShiftApplicator(\n",
    "    \"sex\", source=None, target=\"F\", shift_id=\"Patient Gender\"\n",
    ")\n",
    "source_ds, target_ds = shifter.apply_shift(nih_ds, num_proc=6)\n",
    "\n",
    "transforms = Compose(\n",
    "    [\n",
    "        AddChanneld(keys=(\"features\",), allow_missing_keys=True),\n",
    "        Resized(\n",
    "            keys=(\"features\",), spatial_size=(1, 224, 224), allow_missing_keys=True\n",
    "        ),\n",
    "        Lambdad(\n",
    "            keys=(\"features\",),\n",
    "            func=lambda x: ((2 * (x / 255.0)) - 1.0) * 1024,\n",
    "            allow_missing_keys=True,\n",
    "        ),\n",
    "        ToDeviced(keys=(\"features\",), device=device, allow_missing_keys=True),\n",
    "    ]\n",
    ")\n",
    "\n",
    "source_ds = source_ds.with_transform(\n",
    "    partial(apply_transforms, transforms=transforms),\n",
    "    columns=[\"features\"],\n",
    "    output_all_columns=True,\n",
    ")\n",
    "target_ds = target_ds.with_transform(\n",
    "    partial(apply_transforms, transforms=transforms),\n",
    "    columns=[\"features\"],\n",
    "    output_all_columns=True,\n",
    ")"
   ]
  },
  {
   "cell_type": "markdown",
   "id": "ab403dc5",
   "metadata": {},
   "source": [
    "## Example 2. Sensitivity test experiment with 3 dimensionality reduction techniques\n"
   ]
  },
  {
   "cell_type": "code",
   "execution_count": 3,
   "id": "54a3523a",
   "metadata": {
    "execution": {
     "iopub.execute_input": "2023-08-08T16:55:12.296659Z",
     "iopub.status.busy": "2023-08-08T16:55:12.296325Z",
     "iopub.status.idle": "2023-08-08T16:56:34.351725Z",
     "shell.execute_reply": "2023-08-08T16:56:34.351102Z"
    }
   },
   "outputs": [
    {
     "name": "stderr",
     "output_type": "stream",
     "text": [
      "\r",
      "Map:   0%|          | 0/50 [00:00<?, ? examples/s]"
     ]
    },
    {
     "name": "stderr",
     "output_type": "stream",
     "text": [
      "\r",
      "Map:  64%|██████▍   | 32/50 [00:01<00:01, 17.34 examples/s]"
     ]
    },
    {
     "name": "stderr",
     "output_type": "stream",
     "text": [
      "\r",
      "Map: 100%|██████████| 50/50 [00:02<00:00, 25.57 examples/s]"
     ]
    },
    {
     "name": "stderr",
     "output_type": "stream",
     "text": [
      "\r",
      "Map: 100%|██████████| 50/50 [00:02<00:00, 23.38 examples/s]"
     ]
    },
    {
     "name": "stderr",
     "output_type": "stream",
     "text": [
      "\n"
     ]
    },
    {
     "name": "stderr",
     "output_type": "stream",
     "text": [
      "\r",
      "Map:   0%|          | 0/10 [00:00<?, ? examples/s]"
     ]
    },
    {
     "name": "stderr",
     "output_type": "stream",
     "text": [
      "\r",
      "Map: 100%|██████████| 10/10 [00:00<00:00, 16.58 examples/s]"
     ]
    },
    {
     "name": "stderr",
     "output_type": "stream",
     "text": [
      "\r",
      "Map: 100%|██████████| 10/10 [00:00<00:00, 16.46 examples/s]"
     ]
    },
    {
     "name": "stderr",
     "output_type": "stream",
     "text": [
      "\n"
     ]
    },
    {
     "name": "stderr",
     "output_type": "stream",
     "text": [
      "\r",
      "Map:   0%|          | 0/25 [00:00<?, ? examples/s]"
     ]
    },
    {
     "name": "stderr",
     "output_type": "stream",
     "text": [
      "\r",
      "Map: 100%|██████████| 25/25 [00:01<00:00, 17.06 examples/s]"
     ]
    },
    {
     "name": "stderr",
     "output_type": "stream",
     "text": [
      "\r",
      "Map: 100%|██████████| 25/25 [00:01<00:00, 17.01 examples/s]"
     ]
    },
    {
     "name": "stderr",
     "output_type": "stream",
     "text": [
      "\n"
     ]
    },
    {
     "name": "stderr",
     "output_type": "stream",
     "text": [
      "\r",
      "Map:   0%|          | 0/50 [00:00<?, ? examples/s]"
     ]
    },
    {
     "name": "stderr",
     "output_type": "stream",
     "text": [
      "\r",
      "Map:  64%|██████▍   | 32/50 [00:01<00:01, 17.49 examples/s]"
     ]
    },
    {
     "name": "stderr",
     "output_type": "stream",
     "text": [
      "\r",
      "Map: 100%|██████████| 50/50 [00:02<00:00, 25.04 examples/s]"
     ]
    },
    {
     "name": "stderr",
     "output_type": "stream",
     "text": [
      "\r",
      "Map: 100%|██████████| 50/50 [00:02<00:00, 23.05 examples/s]"
     ]
    },
    {
     "name": "stderr",
     "output_type": "stream",
     "text": [
      "\n"
     ]
    },
    {
     "name": "stderr",
     "output_type": "stream",
     "text": [
      "\r",
      "Map:   0%|          | 0/50 [00:00<?, ? examples/s]"
     ]
    },
    {
     "name": "stderr",
     "output_type": "stream",
     "text": [
      "\r",
      "Map:  64%|██████▍   | 32/50 [00:01<00:01, 17.27 examples/s]"
     ]
    },
    {
     "name": "stderr",
     "output_type": "stream",
     "text": [
      "\r",
      "Map: 100%|██████████| 50/50 [00:02<00:00, 25.01 examples/s]"
     ]
    },
    {
     "name": "stderr",
     "output_type": "stream",
     "text": [
      "\r",
      "Map: 100%|██████████| 50/50 [00:02<00:00, 22.97 examples/s]"
     ]
    },
    {
     "name": "stderr",
     "output_type": "stream",
     "text": [
      "\n"
     ]
    },
    {
     "name": "stderr",
     "output_type": "stream",
     "text": [
      "\r",
      "Map:   0%|          | 0/10 [00:00<?, ? examples/s]"
     ]
    },
    {
     "name": "stderr",
     "output_type": "stream",
     "text": [
      "\r",
      "Map: 100%|██████████| 10/10 [00:00<00:00, 15.53 examples/s]"
     ]
    },
    {
     "name": "stderr",
     "output_type": "stream",
     "text": [
      "\r",
      "Map: 100%|██████████| 10/10 [00:00<00:00, 15.40 examples/s]"
     ]
    },
    {
     "name": "stderr",
     "output_type": "stream",
     "text": [
      "\n"
     ]
    },
    {
     "name": "stderr",
     "output_type": "stream",
     "text": [
      "\r",
      "Map:   0%|          | 0/25 [00:00<?, ? examples/s]"
     ]
    },
    {
     "name": "stderr",
     "output_type": "stream",
     "text": [
      "\r",
      "Map: 100%|██████████| 25/25 [00:01<00:00, 16.74 examples/s]"
     ]
    },
    {
     "name": "stderr",
     "output_type": "stream",
     "text": [
      "\r",
      "Map: 100%|██████████| 25/25 [00:01<00:00, 16.67 examples/s]"
     ]
    },
    {
     "name": "stderr",
     "output_type": "stream",
     "text": [
      "\n"
     ]
    },
    {
     "name": "stderr",
     "output_type": "stream",
     "text": [
      "\r",
      "Map:   0%|          | 0/50 [00:00<?, ? examples/s]"
     ]
    },
    {
     "name": "stderr",
     "output_type": "stream",
     "text": [
      "\r",
      "Map:  64%|██████▍   | 32/50 [00:01<00:01, 17.07 examples/s]"
     ]
    },
    {
     "name": "stderr",
     "output_type": "stream",
     "text": [
      "\r",
      "Map: 100%|██████████| 50/50 [00:02<00:00, 24.07 examples/s]"
     ]
    },
    {
     "name": "stderr",
     "output_type": "stream",
     "text": [
      "\r",
      "Map: 100%|██████████| 50/50 [00:02<00:00, 22.25 examples/s]"
     ]
    },
    {
     "name": "stderr",
     "output_type": "stream",
     "text": [
      "\n"
     ]
    },
    {
     "name": "stderr",
     "output_type": "stream",
     "text": [
      "\r",
      "Map:   0%|          | 0/50 [00:00<?, ? examples/s]"
     ]
    },
    {
     "name": "stderr",
     "output_type": "stream",
     "text": [
      "\r",
      "Map:  64%|██████▍   | 32/50 [00:01<00:01, 17.91 examples/s]"
     ]
    },
    {
     "name": "stderr",
     "output_type": "stream",
     "text": [
      "\r",
      "Map: 100%|██████████| 50/50 [00:02<00:00, 25.90 examples/s]"
     ]
    },
    {
     "name": "stderr",
     "output_type": "stream",
     "text": [
      "\r",
      "Map: 100%|██████████| 50/50 [00:02<00:00, 23.81 examples/s]"
     ]
    },
    {
     "name": "stderr",
     "output_type": "stream",
     "text": [
      "\n"
     ]
    },
    {
     "name": "stderr",
     "output_type": "stream",
     "text": [
      "\r",
      "Map:   0%|          | 0/10 [00:00<?, ? examples/s]"
     ]
    },
    {
     "name": "stderr",
     "output_type": "stream",
     "text": [
      "\r",
      "Map: 100%|██████████| 10/10 [00:00<00:00, 16.99 examples/s]"
     ]
    },
    {
     "name": "stderr",
     "output_type": "stream",
     "text": [
      "\r",
      "Map: 100%|██████████| 10/10 [00:00<00:00, 16.87 examples/s]"
     ]
    },
    {
     "name": "stderr",
     "output_type": "stream",
     "text": [
      "\n"
     ]
    },
    {
     "name": "stderr",
     "output_type": "stream",
     "text": [
      "\r",
      "Map:   0%|          | 0/25 [00:00<?, ? examples/s]"
     ]
    },
    {
     "name": "stderr",
     "output_type": "stream",
     "text": [
      "\r",
      "Map: 100%|██████████| 25/25 [00:01<00:00, 17.47 examples/s]"
     ]
    },
    {
     "name": "stderr",
     "output_type": "stream",
     "text": [
      "\r",
      "Map: 100%|██████████| 25/25 [00:01<00:00, 17.42 examples/s]"
     ]
    },
    {
     "name": "stderr",
     "output_type": "stream",
     "text": [
      "\n"
     ]
    },
    {
     "name": "stderr",
     "output_type": "stream",
     "text": [
      "\r",
      "Map:   0%|          | 0/50 [00:00<?, ? examples/s]"
     ]
    },
    {
     "name": "stderr",
     "output_type": "stream",
     "text": [
      "\r",
      "Map:  64%|██████▍   | 32/50 [00:01<00:01, 17.47 examples/s]"
     ]
    },
    {
     "name": "stderr",
     "output_type": "stream",
     "text": [
      "\r",
      "Map: 100%|██████████| 50/50 [00:02<00:00, 25.24 examples/s]"
     ]
    },
    {
     "name": "stderr",
     "output_type": "stream",
     "text": [
      "\r",
      "Map: 100%|██████████| 50/50 [00:02<00:00, 23.20 examples/s]"
     ]
    },
    {
     "name": "stderr",
     "output_type": "stream",
     "text": [
      "\n"
     ]
    },
    {
     "data": {
      "image/png": "[encoded data removed]",
      "text/plain": [
       "<Figure size 1100x800 with 1 Axes>"
      ]
     },
     "metadata": {},
     "output_type": "display_data"
    }
   ],
   "source": [
    "model = DenseNet(weights=\"densenet121-res224-all\")\n",
    "dr_methods = {\n",
    "    \"BBSE\": \"bbse-soft\",\n",
    "    \"BBSE + TXRV-AE\": \"bbse-soft+txrv-ae\",\n",
    "    \"TXRV-AE\": \"txrv-ae\",\n",
    "}\n",
    "results = {}\n",
    "\n",
    "for name, dr_method in dr_methods.items():\n",
    "    if name == \"TXRV-AE\":\n",
    "        reductor = Reductor(dr_method=dr_method, device=device)\n",
    "    else:\n",
    "        reductor = Reductor(dr_method=dr_method, model=model, device=device)\n",
    "    detector = Detector(\n",
    "        \"sensitivity_test\",\n",
    "        reductor=reductor,\n",
    "        tester=TSTester(tester_method=\"ks\"),\n",
    "        source_sample_size=50,\n",
    "        target_sample_size=[10, 25, 50],\n",
    "        num_runs=1,\n",
    "    )\n",
    "    result = detector.detect_shift(source_ds, target_ds)\n",
    "    results[name] = result\n",
    "plot_drift_experiment(results)"
   ]
  },
  {
   "cell_type": "markdown",
   "id": "ec20a728",
   "metadata": {},
   "source": [
    "## Example 3. Sensitivity test experiment with models trained on different datasets"
   ]
  },
  {
   "cell_type": "code",
   "execution_count": 4,
   "id": "40b5a90f",
   "metadata": {
    "execution": {
     "iopub.execute_input": "2023-08-08T16:56:34.357648Z",
     "iopub.status.busy": "2023-08-08T16:56:34.357452Z",
     "iopub.status.idle": "2023-08-08T16:57:35.359189Z",
     "shell.execute_reply": "2023-08-08T16:57:35.358557Z"
    }
   },
   "outputs": [
    {
     "name": "stderr",
     "output_type": "stream",
     "text": [
      "\r",
      "Map:   0%|          | 0/50 [00:00<?, ? examples/s]"
     ]
    },
    {
     "name": "stderr",
     "output_type": "stream",
     "text": [
      "\r",
      "Map:  64%|██████▍   | 32/50 [00:01<00:00, 18.14 examples/s]"
     ]
    },
    {
     "name": "stderr",
     "output_type": "stream",
     "text": [
      "\r",
      "Map: 100%|██████████| 50/50 [00:02<00:00, 26.50 examples/s]"
     ]
    },
    {
     "name": "stderr",
     "output_type": "stream",
     "text": [
      "\r",
      "Map: 100%|██████████| 50/50 [00:02<00:00, 24.28 examples/s]"
     ]
    },
    {
     "name": "stderr",
     "output_type": "stream",
     "text": [
      "\n"
     ]
    },
    {
     "name": "stderr",
     "output_type": "stream",
     "text": [
      "\r",
      "Map:   0%|          | 0/10 [00:00<?, ? examples/s]"
     ]
    },
    {
     "name": "stderr",
     "output_type": "stream",
     "text": [
      "\r",
      "Map: 100%|██████████| 10/10 [00:00<00:00, 16.21 examples/s]"
     ]
    },
    {
     "name": "stderr",
     "output_type": "stream",
     "text": [
      "\r",
      "Map: 100%|██████████| 10/10 [00:00<00:00, 16.08 examples/s]"
     ]
    },
    {
     "name": "stderr",
     "output_type": "stream",
     "text": [
      "\n"
     ]
    },
    {
     "name": "stderr",
     "output_type": "stream",
     "text": [
      "\r",
      "Map:   0%|          | 0/25 [00:00<?, ? examples/s]"
     ]
    },
    {
     "name": "stderr",
     "output_type": "stream",
     "text": [
      "\r",
      "Map: 100%|██████████| 25/25 [00:01<00:00, 17.77 examples/s]"
     ]
    },
    {
     "name": "stderr",
     "output_type": "stream",
     "text": [
      "\r",
      "Map: 100%|██████████| 25/25 [00:01<00:00, 17.70 examples/s]"
     ]
    },
    {
     "name": "stderr",
     "output_type": "stream",
     "text": [
      "\n"
     ]
    },
    {
     "name": "stderr",
     "output_type": "stream",
     "text": [
      "\r",
      "Map:   0%|          | 0/50 [00:00<?, ? examples/s]"
     ]
    },
    {
     "name": "stderr",
     "output_type": "stream",
     "text": [
      "\r",
      "Map:  64%|██████▍   | 32/50 [00:01<00:01, 17.81 examples/s]"
     ]
    },
    {
     "name": "stderr",
     "output_type": "stream",
     "text": [
      "\r",
      "Map: 100%|██████████| 50/50 [00:02<00:00, 25.74 examples/s]"
     ]
    },
    {
     "name": "stderr",
     "output_type": "stream",
     "text": [
      "\r",
      "Map: 100%|██████████| 50/50 [00:02<00:00, 23.66 examples/s]"
     ]
    },
    {
     "name": "stderr",
     "output_type": "stream",
     "text": [
      "\n"
     ]
    },
    {
     "name": "stderr",
     "output_type": "stream",
     "text": [
      "\r",
      "Map:   0%|          | 0/50 [00:00<?, ? examples/s]"
     ]
    },
    {
     "name": "stderr",
     "output_type": "stream",
     "text": [
      "\r",
      "Map:  64%|██████▍   | 32/50 [00:01<00:00, 18.20 examples/s]"
     ]
    },
    {
     "name": "stderr",
     "output_type": "stream",
     "text": [
      "\r",
      "Map: 100%|██████████| 50/50 [00:02<00:00, 26.78 examples/s]"
     ]
    },
    {
     "name": "stderr",
     "output_type": "stream",
     "text": [
      "\r",
      "Map: 100%|██████████| 50/50 [00:02<00:00, 24.49 examples/s]"
     ]
    },
    {
     "name": "stderr",
     "output_type": "stream",
     "text": [
      "\n"
     ]
    },
    {
     "name": "stderr",
     "output_type": "stream",
     "text": [
      "\r",
      "Map:   0%|          | 0/10 [00:00<?, ? examples/s]"
     ]
    },
    {
     "name": "stderr",
     "output_type": "stream",
     "text": [
      "\r",
      "Map: 100%|██████████| 10/10 [00:00<00:00, 16.97 examples/s]"
     ]
    },
    {
     "name": "stderr",
     "output_type": "stream",
     "text": [
      "\r",
      "Map: 100%|██████████| 10/10 [00:00<00:00, 16.83 examples/s]"
     ]
    },
    {
     "name": "stderr",
     "output_type": "stream",
     "text": [
      "\n"
     ]
    },
    {
     "name": "stderr",
     "output_type": "stream",
     "text": [
      "\r",
      "Map:   0%|          | 0/25 [00:00<?, ? examples/s]"
     ]
    },
    {
     "name": "stderr",
     "output_type": "stream",
     "text": [
      "\r",
      "Map: 100%|██████████| 25/25 [00:01<00:00, 16.06 examples/s]"
     ]
    },
    {
     "name": "stderr",
     "output_type": "stream",
     "text": [
      "\r",
      "Map: 100%|██████████| 25/25 [00:01<00:00, 16.01 examples/s]"
     ]
    },
    {
     "name": "stderr",
     "output_type": "stream",
     "text": [
      "\n"
     ]
    },
    {
     "name": "stderr",
     "output_type": "stream",
     "text": [
      "\r",
      "Map:   0%|          | 0/50 [00:00<?, ? examples/s]"
     ]
    },
    {
     "name": "stderr",
     "output_type": "stream",
     "text": [
      "\r",
      "Map:  64%|██████▍   | 32/50 [00:01<00:00, 18.17 examples/s]"
     ]
    },
    {
     "name": "stderr",
     "output_type": "stream",
     "text": [
      "\r",
      "Map: 100%|██████████| 50/50 [00:02<00:00, 25.81 examples/s]"
     ]
    },
    {
     "name": "stderr",
     "output_type": "stream",
     "text": [
      "\r",
      "Map: 100%|██████████| 50/50 [00:02<00:00, 23.82 examples/s]"
     ]
    },
    {
     "name": "stderr",
     "output_type": "stream",
     "text": [
      "\n"
     ]
    },
    {
     "name": "stderr",
     "output_type": "stream",
     "text": [
      "\r",
      "Map:   0%|          | 0/50 [00:00<?, ? examples/s]"
     ]
    },
    {
     "name": "stderr",
     "output_type": "stream",
     "text": [
      "\r",
      "Map:  64%|██████▍   | 32/50 [00:01<00:00, 18.08 examples/s]"
     ]
    },
    {
     "name": "stderr",
     "output_type": "stream",
     "text": [
      "\r",
      "Map: 100%|██████████| 50/50 [00:02<00:00, 26.38 examples/s]"
     ]
    },
    {
     "name": "stderr",
     "output_type": "stream",
     "text": [
      "\r",
      "Map: 100%|██████████| 50/50 [00:02<00:00, 24.19 examples/s]"
     ]
    },
    {
     "name": "stderr",
     "output_type": "stream",
     "text": [
      "\n"
     ]
    },
    {
     "name": "stderr",
     "output_type": "stream",
     "text": [
      "\r",
      "Map:   0%|          | 0/10 [00:00<?, ? examples/s]"
     ]
    },
    {
     "name": "stderr",
     "output_type": "stream",
     "text": [
      "\r",
      "Map: 100%|██████████| 10/10 [00:00<00:00, 16.57 examples/s]"
     ]
    },
    {
     "name": "stderr",
     "output_type": "stream",
     "text": [
      "\r",
      "Map: 100%|██████████| 10/10 [00:00<00:00, 16.44 examples/s]"
     ]
    },
    {
     "name": "stderr",
     "output_type": "stream",
     "text": [
      "\n"
     ]
    },
    {
     "name": "stderr",
     "output_type": "stream",
     "text": [
      "\r",
      "Map:   0%|          | 0/25 [00:00<?, ? examples/s]"
     ]
    },
    {
     "name": "stderr",
     "output_type": "stream",
     "text": [
      "\r",
      "Map: 100%|██████████| 25/25 [00:01<00:00, 17.26 examples/s]"
     ]
    },
    {
     "name": "stderr",
     "output_type": "stream",
     "text": [
      "\r",
      "Map: 100%|██████████| 25/25 [00:01<00:00, 17.20 examples/s]"
     ]
    },
    {
     "name": "stderr",
     "output_type": "stream",
     "text": [
      "\n"
     ]
    },
    {
     "name": "stderr",
     "output_type": "stream",
     "text": [
      "\r",
      "Map:   0%|          | 0/50 [00:00<?, ? examples/s]"
     ]
    },
    {
     "name": "stderr",
     "output_type": "stream",
     "text": [
      "\r",
      "Map:  64%|██████▍   | 32/50 [00:01<00:01, 17.82 examples/s]"
     ]
    },
    {
     "name": "stderr",
     "output_type": "stream",
     "text": [
      "\r",
      "Map: 100%|██████████| 50/50 [00:02<00:00, 25.92 examples/s]"
     ]
    },
    {
     "name": "stderr",
     "output_type": "stream",
     "text": [
      "\r",
      "Map: 100%|██████████| 50/50 [00:02<00:00, 23.79 examples/s]"
     ]
    },
    {
     "name": "stderr",
     "output_type": "stream",
     "text": [
      "\n"
     ]
    },
    {
     "data": {
      "image/png": "[encoded data removed]",
      "text/plain": [
       "<Figure size 1100x800 with 1 Axes>"
      ]
     },
     "metadata": {},
     "output_type": "display_data"
    }
   ],
   "source": [
    "models = {\n",
    "    \"MODEL: NIH\": \"densenet121-res224-nih\",\n",
    "    \"MODEL: CHEXPERT\": \"densenet121-res224-chex\",\n",
    "    \"MODEL: PADCHEST\": \"densenet121-res224-pc\",\n",
    "}\n",
    "results = {}\n",
    "\n",
    "for model_name, model in models.items():\n",
    "    detector = Detector(\n",
    "        \"sensitivity_test\",\n",
    "        reductor=Reductor(\n",
    "            dr_method=\"bbse-soft\", model=DenseNet(weights=model), device=device\n",
    "        ),\n",
    "        tester=TSTester(tester_method=\"ks\"),\n",
    "        source_sample_size=50,\n",
    "        target_sample_size=[10, 25, 50],\n",
    "        num_runs=1,\n",
    "    )\n",
    "    results[model_name] = detector.detect_shift(source_ds, target_ds)\n",
    "plot_drift_experiment(results)"
   ]
  },
  {
   "cell_type": "markdown",
   "id": "0e8ebcf1",
   "metadata": {},
   "source": [
    "## Example 4. Sensitivity test experiment with different clinical shifts"
   ]
  },
  {
   "cell_type": "code",
   "execution_count": 5,
   "id": "9ba03fac",
   "metadata": {
    "execution": {
     "iopub.execute_input": "2023-08-08T16:57:35.365321Z",
     "iopub.status.busy": "2023-08-08T16:57:35.365140Z",
     "iopub.status.idle": "2023-08-08T16:59:10.380046Z",
     "shell.execute_reply": "2023-08-08T16:59:10.379408Z"
    }
   },
   "outputs": [
    {
     "name": "stderr",
     "output_type": "stream",
     "text": [
      "\r",
      "Filter (num_proc=6):   0%|          | 0/112120 [00:00<?, ? examples/s]"
     ]
    },
    {
     "name": "stderr",
     "output_type": "stream",
     "text": [
      "\r",
      "Filter (num_proc=6):  17%|█▋        | 18687/112120 [00:00<00:01, 55424.08 examples/s]"
     ]
    },
    {
     "name": "stderr",
     "output_type": "stream",
     "text": [
      "\r",
      "Filter (num_proc=6):  33%|███▎      | 37374/112120 [00:00<00:00, 75124.88 examples/s]"
     ]
    },
    {
     "name": "stderr",
     "output_type": "stream",
     "text": [
      "\r",
      "Filter (num_proc=6):  50%|█████     | 56061/112120 [00:00<00:00, 84699.78 examples/s]"
     ]
    },
    {
     "name": "stderr",
     "output_type": "stream",
     "text": [
      "\r",
      "Filter (num_proc=6):  67%|██████▋   | 74748/112120 [00:00<00:00, 96759.85 examples/s]"
     ]
    },
    {
     "name": "stderr",
     "output_type": "stream",
     "text": [
      "\r",
      "Filter (num_proc=6):  83%|████████▎ | 93434/112120 [00:01<00:00, 104017.90 examples/s]"
     ]
    },
    {
     "name": "stderr",
     "output_type": "stream",
     "text": [
      "\r",
      "Filter (num_proc=6): 100%|██████████| 112120/112120 [00:01<00:00, 110021.25 examples/s]"
     ]
    },
    {
     "name": "stderr",
     "output_type": "stream",
     "text": [
      "\r",
      "Filter (num_proc=6): 100%|██████████| 112120/112120 [00:01<00:00, 86741.64 examples/s] "
     ]
    },
    {
     "name": "stderr",
     "output_type": "stream",
     "text": [
      "\n"
     ]
    },
    {
     "name": "stderr",
     "output_type": "stream",
     "text": [
      "\r",
      "Filter (num_proc=6):   0%|          | 0/112120 [00:00<?, ? examples/s]"
     ]
    },
    {
     "name": "stderr",
     "output_type": "stream",
     "text": [
      "\r",
      "Filter (num_proc=6):  17%|█▋        | 18687/112120 [00:00<00:01, 54584.03 examples/s]"
     ]
    },
    {
     "name": "stderr",
     "output_type": "stream",
     "text": [
      "\r",
      "Filter (num_proc=6):  33%|███▎      | 37374/112120 [00:00<00:00, 76871.45 examples/s]"
     ]
    },
    {
     "name": "stderr",
     "output_type": "stream",
     "text": [
      "\r",
      "Filter (num_proc=6):  44%|████▍     | 49374/112120 [00:00<00:00, 69657.77 examples/s]"
     ]
    },
    {
     "name": "stderr",
     "output_type": "stream",
     "text": [
      "\r",
      "Filter (num_proc=6):  67%|██████▋   | 74748/112120 [00:00<00:00, 93905.70 examples/s]"
     ]
    },
    {
     "name": "stderr",
     "output_type": "stream",
     "text": [
      "\r",
      "Filter (num_proc=6):  83%|████████▎ | 93434/112120 [00:01<00:00, 100263.27 examples/s]"
     ]
    },
    {
     "name": "stderr",
     "output_type": "stream",
     "text": [
      "\r",
      "Filter (num_proc=6): 100%|██████████| 112120/112120 [00:01<00:00, 107194.85 examples/s]"
     ]
    },
    {
     "name": "stderr",
     "output_type": "stream",
     "text": [
      "\r",
      "Filter (num_proc=6): 100%|██████████| 112120/112120 [00:01<00:00, 83714.74 examples/s] "
     ]
    },
    {
     "name": "stderr",
     "output_type": "stream",
     "text": [
      "\n"
     ]
    },
    {
     "name": "stderr",
     "output_type": "stream",
     "text": [
      "\r",
      "Map:   0%|          | 0/50 [00:00<?, ? examples/s]"
     ]
    },
    {
     "name": "stderr",
     "output_type": "stream",
     "text": [
      "\r",
      "Map:  64%|██████▍   | 32/50 [00:01<00:01, 17.88 examples/s]"
     ]
    },
    {
     "name": "stderr",
     "output_type": "stream",
     "text": [
      "\r",
      "Map: 100%|██████████| 50/50 [00:02<00:00, 26.31 examples/s]"
     ]
    },
    {
     "name": "stderr",
     "output_type": "stream",
     "text": [
      "\r",
      "Map: 100%|██████████| 50/50 [00:02<00:00, 24.06 examples/s]"
     ]
    },
    {
     "name": "stderr",
     "output_type": "stream",
     "text": [
      "\n"
     ]
    },
    {
     "name": "stderr",
     "output_type": "stream",
     "text": [
      "\r",
      "Map:   0%|          | 0/10 [00:00<?, ? examples/s]"
     ]
    },
    {
     "name": "stderr",
     "output_type": "stream",
     "text": [
      "\r",
      "Map: 100%|██████████| 10/10 [00:00<00:00, 16.36 examples/s]"
     ]
    },
    {
     "name": "stderr",
     "output_type": "stream",
     "text": [
      "\r",
      "Map: 100%|██████████| 10/10 [00:00<00:00, 16.24 examples/s]"
     ]
    },
    {
     "name": "stderr",
     "output_type": "stream",
     "text": [
      "\n"
     ]
    },
    {
     "name": "stderr",
     "output_type": "stream",
     "text": [
      "\r",
      "Map:   0%|          | 0/25 [00:00<?, ? examples/s]"
     ]
    },
    {
     "name": "stderr",
     "output_type": "stream",
     "text": [
      "\r",
      "Map: 100%|██████████| 25/25 [00:01<00:00, 17.49 examples/s]"
     ]
    },
    {
     "name": "stderr",
     "output_type": "stream",
     "text": [
      "\r",
      "Map: 100%|██████████| 25/25 [00:01<00:00, 17.43 examples/s]"
     ]
    },
    {
     "name": "stderr",
     "output_type": "stream",
     "text": [
      "\n"
     ]
    },
    {
     "name": "stderr",
     "output_type": "stream",
     "text": [
      "\r",
      "Map:   0%|          | 0/50 [00:00<?, ? examples/s]"
     ]
    },
    {
     "name": "stderr",
     "output_type": "stream",
     "text": [
      "\r",
      "Map:  64%|██████▍   | 32/50 [00:01<00:01, 17.57 examples/s]"
     ]
    },
    {
     "name": "stderr",
     "output_type": "stream",
     "text": [
      "\r",
      "Map: 100%|██████████| 50/50 [00:02<00:00, 25.53 examples/s]"
     ]
    },
    {
     "name": "stderr",
     "output_type": "stream",
     "text": [
      "\r",
      "Map: 100%|██████████| 50/50 [00:02<00:00, 23.43 examples/s]"
     ]
    },
    {
     "name": "stderr",
     "output_type": "stream",
     "text": [
      "\n"
     ]
    },
    {
     "name": "stderr",
     "output_type": "stream",
     "text": [
      "\r",
      "Filter (num_proc=6):   0%|          | 0/112120 [00:00<?, ? examples/s]"
     ]
    },
    {
     "name": "stderr",
     "output_type": "stream",
     "text": [
      "\r",
      "Filter (num_proc=6):  17%|█▋        | 18687/112120 [00:00<00:01, 56445.36 examples/s]"
     ]
    },
    {
     "name": "stderr",
     "output_type": "stream",
     "text": [
      "\r",
      "Filter (num_proc=6):  33%|███▎      | 37374/112120 [00:00<00:00, 79899.03 examples/s]"
     ]
    },
    {
     "name": "stderr",
     "output_type": "stream",
     "text": [
      "\r",
      "Filter (num_proc=6):  50%|█████     | 56061/112120 [00:00<00:00, 92967.70 examples/s]"
     ]
    },
    {
     "name": "stderr",
     "output_type": "stream",
     "text": [
      "\r",
      "Filter (num_proc=6):  67%|██████▋   | 74748/112120 [00:00<00:00, 101145.03 examples/s]"
     ]
    },
    {
     "name": "stderr",
     "output_type": "stream",
     "text": [
      "\r",
      "Filter (num_proc=6):  83%|████████▎ | 93434/112120 [00:00<00:00, 106274.28 examples/s]"
     ]
    },
    {
     "name": "stderr",
     "output_type": "stream",
     "text": [
      "\r",
      "Filter (num_proc=6): 100%|██████████| 112120/112120 [00:01<00:00, 114634.49 examples/s]"
     ]
    },
    {
     "name": "stderr",
     "output_type": "stream",
     "text": [
      "\r",
      "Filter (num_proc=6): 100%|██████████| 112120/112120 [00:01<00:00, 89953.38 examples/s] "
     ]
    },
    {
     "name": "stderr",
     "output_type": "stream",
     "text": [
      "\n"
     ]
    },
    {
     "name": "stderr",
     "output_type": "stream",
     "text": [
      "\r",
      "Filter (num_proc=6):   0%|          | 0/112120 [00:00<?, ? examples/s]"
     ]
    },
    {
     "name": "stderr",
     "output_type": "stream",
     "text": [
      "\r",
      "Filter (num_proc=6):  17%|█▋        | 18687/112120 [00:00<00:01, 58206.20 examples/s]"
     ]
    },
    {
     "name": "stderr",
     "output_type": "stream",
     "text": [
      "\r",
      "Filter (num_proc=6):  33%|███▎      | 37374/112120 [00:00<00:00, 81180.61 examples/s]"
     ]
    },
    {
     "name": "stderr",
     "output_type": "stream",
     "text": [
      "\r",
      "Filter (num_proc=6):  50%|█████     | 56061/112120 [00:00<00:00, 94245.48 examples/s]"
     ]
    },
    {
     "name": "stderr",
     "output_type": "stream",
     "text": [
      "\r",
      "Filter (num_proc=6):  67%|██████▋   | 74748/112120 [00:00<00:00, 106430.03 examples/s]"
     ]
    },
    {
     "name": "stderr",
     "output_type": "stream",
     "text": [
      "\r",
      "Filter (num_proc=6):  83%|████████▎ | 93434/112120 [00:00<00:00, 108935.61 examples/s]"
     ]
    },
    {
     "name": "stderr",
     "output_type": "stream",
     "text": [
      "\r",
      "Filter (num_proc=6): 100%|██████████| 112120/112120 [00:01<00:00, 110231.47 examples/s]"
     ]
    },
    {
     "name": "stderr",
     "output_type": "stream",
     "text": [
      "\r",
      "Filter (num_proc=6): 100%|██████████| 112120/112120 [00:01<00:00, 89797.53 examples/s] "
     ]
    },
    {
     "name": "stderr",
     "output_type": "stream",
     "text": [
      "\n"
     ]
    },
    {
     "name": "stderr",
     "output_type": "stream",
     "text": [
      "\r",
      "Map:   0%|          | 0/50 [00:00<?, ? examples/s]"
     ]
    },
    {
     "name": "stderr",
     "output_type": "stream",
     "text": [
      "\r",
      "Map:  64%|██████▍   | 32/50 [00:01<00:01, 17.60 examples/s]"
     ]
    },
    {
     "name": "stderr",
     "output_type": "stream",
     "text": [
      "\r",
      "Map: 100%|██████████| 50/50 [00:02<00:00, 25.95 examples/s]"
     ]
    },
    {
     "name": "stderr",
     "output_type": "stream",
     "text": [
      "\r",
      "Map: 100%|██████████| 50/50 [00:02<00:00, 23.73 examples/s]"
     ]
    },
    {
     "name": "stderr",
     "output_type": "stream",
     "text": [
      "\n"
     ]
    },
    {
     "name": "stderr",
     "output_type": "stream",
     "text": [
      "\r",
      "Map:   0%|          | 0/10 [00:00<?, ? examples/s]"
     ]
    },
    {
     "name": "stderr",
     "output_type": "stream",
     "text": [
      "\r",
      "Map: 100%|██████████| 10/10 [00:00<00:00, 16.31 examples/s]"
     ]
    },
    {
     "name": "stderr",
     "output_type": "stream",
     "text": [
      "\r",
      "Map: 100%|██████████| 10/10 [00:00<00:00, 16.18 examples/s]"
     ]
    },
    {
     "name": "stderr",
     "output_type": "stream",
     "text": [
      "\n"
     ]
    },
    {
     "name": "stderr",
     "output_type": "stream",
     "text": [
      "\r",
      "Map:   0%|          | 0/25 [00:00<?, ? examples/s]"
     ]
    },
    {
     "name": "stderr",
     "output_type": "stream",
     "text": [
      "\r",
      "Map: 100%|██████████| 25/25 [00:01<00:00, 17.81 examples/s]"
     ]
    },
    {
     "name": "stderr",
     "output_type": "stream",
     "text": [
      "\r",
      "Map: 100%|██████████| 25/25 [00:01<00:00, 17.75 examples/s]"
     ]
    },
    {
     "name": "stderr",
     "output_type": "stream",
     "text": [
      "\n"
     ]
    },
    {
     "name": "stderr",
     "output_type": "stream",
     "text": [
      "\r",
      "Map:   0%|          | 0/50 [00:00<?, ? examples/s]"
     ]
    },
    {
     "name": "stderr",
     "output_type": "stream",
     "text": [
      "\r",
      "Map:  64%|██████▍   | 32/50 [00:01<00:01, 17.96 examples/s]"
     ]
    },
    {
     "name": "stderr",
     "output_type": "stream",
     "text": [
      "\r",
      "Map: 100%|██████████| 50/50 [00:02<00:00, 25.53 examples/s]"
     ]
    },
    {
     "name": "stderr",
     "output_type": "stream",
     "text": [
      "\r",
      "Map: 100%|██████████| 50/50 [00:02<00:00, 23.56 examples/s]"
     ]
    },
    {
     "name": "stderr",
     "output_type": "stream",
     "text": [
      "\n"
     ]
    },
    {
     "name": "stderr",
     "output_type": "stream",
     "text": [
      "\r",
      "Filter (num_proc=6):   0%|          | 0/112120 [00:00<?, ? examples/s]"
     ]
    },
    {
     "name": "stderr",
     "output_type": "stream",
     "text": [
      "\r",
      "Filter (num_proc=6):  17%|█▋        | 18687/112120 [00:00<00:01, 54883.69 examples/s]"
     ]
    },
    {
     "name": "stderr",
     "output_type": "stream",
     "text": [
      "\r",
      "Filter (num_proc=6):  33%|███▎      | 37374/112120 [00:00<00:01, 74742.12 examples/s]"
     ]
    },
    {
     "name": "stderr",
     "output_type": "stream",
     "text": [
      "\r",
      "Filter (num_proc=6):  50%|█████     | 56061/112120 [00:00<00:00, 84351.07 examples/s]"
     ]
    },
    {
     "name": "stderr",
     "output_type": "stream",
     "text": [
      "\r",
      "Filter (num_proc=6):  67%|██████▋   | 74748/112120 [00:00<00:00, 94946.61 examples/s]"
     ]
    },
    {
     "name": "stderr",
     "output_type": "stream",
     "text": [
      "\r",
      "Filter (num_proc=6):  83%|████████▎ | 93434/112120 [00:01<00:00, 104007.59 examples/s]"
     ]
    },
    {
     "name": "stderr",
     "output_type": "stream",
     "text": [
      "\r",
      "Filter (num_proc=6): 100%|██████████| 112120/112120 [00:01<00:00, 117620.78 examples/s]"
     ]
    },
    {
     "name": "stderr",
     "output_type": "stream",
     "text": [
      "\r",
      "Filter (num_proc=6): 100%|██████████| 112120/112120 [00:01<00:00, 87972.65 examples/s] "
     ]
    },
    {
     "name": "stderr",
     "output_type": "stream",
     "text": [
      "\n"
     ]
    },
    {
     "name": "stderr",
     "output_type": "stream",
     "text": [
      "\r",
      "Filter (num_proc=6):   0%|          | 0/112120 [00:00<?, ? examples/s]"
     ]
    },
    {
     "name": "stderr",
     "output_type": "stream",
     "text": [
      "\r",
      "Filter (num_proc=6):  17%|█▋        | 18687/112120 [00:00<00:01, 52830.21 examples/s]"
     ]
    },
    {
     "name": "stderr",
     "output_type": "stream",
     "text": [
      "\r",
      "Filter (num_proc=6):  33%|███▎      | 37374/112120 [00:00<00:00, 77343.84 examples/s]"
     ]
    },
    {
     "name": "stderr",
     "output_type": "stream",
     "text": [
      "\r",
      "Filter (num_proc=6):  50%|█████     | 56061/112120 [00:00<00:00, 91217.70 examples/s]"
     ]
    },
    {
     "name": "stderr",
     "output_type": "stream",
     "text": [
      "\r",
      "Filter (num_proc=6):  67%|██████▋   | 74748/112120 [00:00<00:00, 99924.81 examples/s]"
     ]
    },
    {
     "name": "stderr",
     "output_type": "stream",
     "text": [
      "\r",
      "Filter (num_proc=6):  83%|████████▎ | 93434/112120 [00:00<00:00, 105726.03 examples/s]"
     ]
    },
    {
     "name": "stderr",
     "output_type": "stream",
     "text": [
      "\r",
      "Filter (num_proc=6): 100%|██████████| 112120/112120 [00:01<00:00, 109833.38 examples/s]"
     ]
    },
    {
     "name": "stderr",
     "output_type": "stream",
     "text": [
      "\r",
      "Filter (num_proc=6): 100%|██████████| 112120/112120 [00:01<00:00, 87333.61 examples/s] "
     ]
    },
    {
     "name": "stderr",
     "output_type": "stream",
     "text": [
      "\n"
     ]
    },
    {
     "name": "stderr",
     "output_type": "stream",
     "text": [
      "\r",
      "Map:   0%|          | 0/50 [00:00<?, ? examples/s]"
     ]
    },
    {
     "name": "stderr",
     "output_type": "stream",
     "text": [
      "\r",
      "Map:  64%|██████▍   | 32/50 [00:01<00:01, 17.84 examples/s]"
     ]
    },
    {
     "name": "stderr",
     "output_type": "stream",
     "text": [
      "\r",
      "Map: 100%|██████████| 50/50 [00:02<00:00, 25.79 examples/s]"
     ]
    },
    {
     "name": "stderr",
     "output_type": "stream",
     "text": [
      "\r",
      "Map: 100%|██████████| 50/50 [00:02<00:00, 23.70 examples/s]"
     ]
    },
    {
     "name": "stderr",
     "output_type": "stream",
     "text": [
      "\n"
     ]
    },
    {
     "name": "stderr",
     "output_type": "stream",
     "text": [
      "\r",
      "Map:   0%|          | 0/10 [00:00<?, ? examples/s]"
     ]
    },
    {
     "name": "stderr",
     "output_type": "stream",
     "text": [
      "\r",
      "Map: 100%|██████████| 10/10 [00:00<00:00, 16.28 examples/s]"
     ]
    },
    {
     "name": "stderr",
     "output_type": "stream",
     "text": [
      "\r",
      "Map: 100%|██████████| 10/10 [00:00<00:00, 16.16 examples/s]"
     ]
    },
    {
     "name": "stderr",
     "output_type": "stream",
     "text": [
      "\n"
     ]
    },
    {
     "name": "stderr",
     "output_type": "stream",
     "text": [
      "\r",
      "Map:   0%|          | 0/25 [00:00<?, ? examples/s]"
     ]
    },
    {
     "name": "stderr",
     "output_type": "stream",
     "text": [
      "\r",
      "Map: 100%|██████████| 25/25 [00:01<00:00, 17.66 examples/s]"
     ]
    },
    {
     "name": "stderr",
     "output_type": "stream",
     "text": [
      "\r",
      "Map: 100%|██████████| 25/25 [00:01<00:00, 17.60 examples/s]"
     ]
    },
    {
     "name": "stderr",
     "output_type": "stream",
     "text": [
      "\n"
     ]
    },
    {
     "name": "stderr",
     "output_type": "stream",
     "text": [
      "\r",
      "Map:   0%|          | 0/50 [00:00<?, ? examples/s]"
     ]
    },
    {
     "name": "stderr",
     "output_type": "stream",
     "text": [
      "\r",
      "Map:  64%|██████▍   | 32/50 [00:01<00:01, 17.01 examples/s]"
     ]
    },
    {
     "name": "stderr",
     "output_type": "stream",
     "text": [
      "\r",
      "Map: 100%|██████████| 50/50 [00:02<00:00, 24.89 examples/s]"
     ]
    },
    {
     "name": "stderr",
     "output_type": "stream",
     "text": [
      "\r",
      "Map: 100%|██████████| 50/50 [00:02<00:00, 22.81 examples/s]"
     ]
    },
    {
     "name": "stderr",
     "output_type": "stream",
     "text": [
      "\n"
     ]
    },
    {
     "name": "stderr",
     "output_type": "stream",
     "text": [
      "\r",
      "Filter (num_proc=6):   0%|          | 0/112120 [00:00<?, ? examples/s]"
     ]
    },
    {
     "name": "stderr",
     "output_type": "stream",
     "text": [
      "\r",
      "Filter (num_proc=6):  17%|█▋        | 18687/112120 [00:00<00:01, 57968.79 examples/s]"
     ]
    },
    {
     "name": "stderr",
     "output_type": "stream",
     "text": [
      "\r",
      "Filter (num_proc=6):  33%|███▎      | 37374/112120 [00:00<00:00, 83050.02 examples/s]"
     ]
    },
    {
     "name": "stderr",
     "output_type": "stream",
     "text": [
      "\r",
      "Filter (num_proc=6):  50%|█████     | 56061/112120 [00:00<00:00, 95605.51 examples/s]"
     ]
    },
    {
     "name": "stderr",
     "output_type": "stream",
     "text": [
      "\r",
      "Filter (num_proc=6):  67%|██████▋   | 74748/112120 [00:00<00:00, 102563.53 examples/s]"
     ]
    },
    {
     "name": "stderr",
     "output_type": "stream",
     "text": [
      "\r",
      "Filter (num_proc=6):  83%|████████▎ | 93434/112120 [00:00<00:00, 107501.86 examples/s]"
     ]
    },
    {
     "name": "stderr",
     "output_type": "stream",
     "text": [
      "\r",
      "Filter (num_proc=6): 100%|██████████| 112120/112120 [00:01<00:00, 110704.53 examples/s]"
     ]
    },
    {
     "name": "stderr",
     "output_type": "stream",
     "text": [
      "\r",
      "Filter (num_proc=6): 100%|██████████| 112120/112120 [00:01<00:00, 90156.21 examples/s] "
     ]
    },
    {
     "name": "stderr",
     "output_type": "stream",
     "text": [
      "\n"
     ]
    },
    {
     "name": "stderr",
     "output_type": "stream",
     "text": [
      "\r",
      "Filter (num_proc=6):   0%|          | 0/112120 [00:00<?, ? examples/s]"
     ]
    },
    {
     "name": "stderr",
     "output_type": "stream",
     "text": [
      "\r",
      "Filter (num_proc=6):  17%|█▋        | 18687/112120 [00:00<00:01, 54384.96 examples/s]"
     ]
    },
    {
     "name": "stderr",
     "output_type": "stream",
     "text": [
      "\r",
      "Filter (num_proc=6):  33%|███▎      | 37374/112120 [00:00<00:01, 74350.62 examples/s]"
     ]
    },
    {
     "name": "stderr",
     "output_type": "stream",
     "text": [
      "\r",
      "Filter (num_proc=6):  50%|█████     | 56061/112120 [00:00<00:00, 83806.50 examples/s]"
     ]
    },
    {
     "name": "stderr",
     "output_type": "stream",
     "text": [
      "\r",
      "Filter (num_proc=6):  67%|██████▋   | 74748/112120 [00:00<00:00, 85340.28 examples/s]"
     ]
    },
    {
     "name": "stderr",
     "output_type": "stream",
     "text": [
      "\r",
      "Filter (num_proc=6):  79%|███████▉  | 88748/112120 [00:01<00:00, 81276.32 examples/s]"
     ]
    },
    {
     "name": "stderr",
     "output_type": "stream",
     "text": [
      "\r",
      "Filter (num_proc=6): 100%|██████████| 112120/112120 [00:01<00:00, 105279.75 examples/s]"
     ]
    },
    {
     "name": "stderr",
     "output_type": "stream",
     "text": [
      "\r",
      "Filter (num_proc=6): 100%|██████████| 112120/112120 [00:01<00:00, 80947.09 examples/s] "
     ]
    },
    {
     "name": "stderr",
     "output_type": "stream",
     "text": [
      "\n"
     ]
    },
    {
     "name": "stderr",
     "output_type": "stream",
     "text": [
      "\r",
      "Map:   0%|          | 0/50 [00:00<?, ? examples/s]"
     ]
    },
    {
     "name": "stderr",
     "output_type": "stream",
     "text": [
      "\r",
      "Map:  64%|██████▍   | 32/50 [00:01<00:01, 17.91 examples/s]"
     ]
    },
    {
     "name": "stderr",
     "output_type": "stream",
     "text": [
      "\r",
      "Map: 100%|██████████| 50/50 [00:02<00:00, 26.41 examples/s]"
     ]
    },
    {
     "name": "stderr",
     "output_type": "stream",
     "text": [
      "\r",
      "Map: 100%|██████████| 50/50 [00:02<00:00, 24.15 examples/s]"
     ]
    },
    {
     "name": "stderr",
     "output_type": "stream",
     "text": [
      "\n"
     ]
    },
    {
     "name": "stderr",
     "output_type": "stream",
     "text": [
      "\r",
      "Map:   0%|          | 0/10 [00:00<?, ? examples/s]"
     ]
    },
    {
     "name": "stderr",
     "output_type": "stream",
     "text": [
      "\r",
      "Map: 100%|██████████| 10/10 [00:00<00:00, 16.07 examples/s]"
     ]
    },
    {
     "name": "stderr",
     "output_type": "stream",
     "text": [
      "\r",
      "Map: 100%|██████████| 10/10 [00:00<00:00, 15.94 examples/s]"
     ]
    },
    {
     "name": "stderr",
     "output_type": "stream",
     "text": [
      "\n"
     ]
    },
    {
     "name": "stderr",
     "output_type": "stream",
     "text": [
      "\r",
      "Map:   0%|          | 0/25 [00:00<?, ? examples/s]"
     ]
    },
    {
     "name": "stderr",
     "output_type": "stream",
     "text": [
      "\r",
      "Map: 100%|██████████| 25/25 [00:01<00:00, 17.22 examples/s]"
     ]
    },
    {
     "name": "stderr",
     "output_type": "stream",
     "text": [
      "\r",
      "Map: 100%|██████████| 25/25 [00:01<00:00, 17.16 examples/s]"
     ]
    },
    {
     "name": "stderr",
     "output_type": "stream",
     "text": [
      "\n"
     ]
    },
    {
     "name": "stderr",
     "output_type": "stream",
     "text": [
      "\r",
      "Map:   0%|          | 0/50 [00:00<?, ? examples/s]"
     ]
    },
    {
     "name": "stderr",
     "output_type": "stream",
     "text": [
      "\r",
      "Map:  64%|██████▍   | 32/50 [00:01<00:01, 17.61 examples/s]"
     ]
    },
    {
     "name": "stderr",
     "output_type": "stream",
     "text": [
      "\r",
      "Map: 100%|██████████| 50/50 [00:02<00:00, 25.49 examples/s]"
     ]
    },
    {
     "name": "stderr",
     "output_type": "stream",
     "text": [
      "\r",
      "Map: 100%|██████████| 50/50 [00:02<00:00, 23.42 examples/s]"
     ]
    },
    {
     "name": "stderr",
     "output_type": "stream",
     "text": [
      "\n"
     ]
    },
    {
     "data": {
      "image/png": "[encoded data removed]",
      "text/plain": [
       "<Figure size 1100x800 with 1 Axes>"
      ]
     },
     "metadata": {},
     "output_type": "display_data"
    }
   ],
   "source": [
    "model = DenseNet(weights=\"densenet121-res224-all\")\n",
    "source_slice = None\n",
    "target_slices = {\n",
    "    \"SEX: MALE\": SliceSpec(spec_list=[{\"Patient Gender\": {\"value\": \"M\"}}]),\n",
    "    \"SEX: FEMALE\": SliceSpec(spec_list=[{\"Patient Gender\": {\"value\": \"F\"}}]),\n",
    "    \"AGE: 18-35\": SliceSpec(\n",
    "        spec_list=[{\"Patient Age\": {\"min_value\": 18, \"max_value\": 35}}]\n",
    "    ),\n",
    "    \"AGE: 35-65\": SliceSpec(\n",
    "        spec_list=[{\"Patient Age\": {\"min_value\": 35, \"max_value\": 65}}]\n",
    "    ),\n",
    "}\n",
    "results = {}\n",
    "\n",
    "for name, target_slice in target_slices.items():\n",
    "    source_slice = None\n",
    "    shifter = ClinicalShiftApplicator(\n",
    "        \"custom\", source=source_slice, target=target_slice\n",
    "    )\n",
    "    ds_source, ds_target = shifter.apply_shift(nih_ds, num_proc=6)\n",
    "\n",
    "    ds_source = ds_source.with_transform(\n",
    "        partial(apply_transforms, transforms=transforms),\n",
    "        columns=[\"features\"],\n",
    "        output_all_columns=True,\n",
    "    )\n",
    "    ds_target = ds_target.with_transform(\n",
    "        partial(apply_transforms, transforms=transforms),\n",
    "        columns=[\"features\"],\n",
    "        output_all_columns=True,\n",
    "    )\n",
    "\n",
    "    detector = Detector(\n",
    "        \"sensitivity_test\",\n",
    "        reductor=Reductor(dr_method=\"bbse-soft\", model=model, device=device),\n",
    "        tester=TSTester(tester_method=\"ks\"),\n",
    "        source_sample_size=50,\n",
    "        target_sample_size=[10, 25, 50],\n",
    "        num_runs=1,\n",
    "    )\n",
    "    results[name] = detector.detect_shift(ds_source, ds_target)\n",
    "plot_drift_experiment(results)"
   ]
  },
  {
   "cell_type": "markdown",
   "id": "7571bc9f",
   "metadata": {},
   "source": [
    "## Example 5. Rolling window experiment with synthetic timestamps using biweekly window"
   ]
  },
  {
   "cell_type": "code",
   "execution_count": 6,
   "id": "77e4b383",
   "metadata": {
    "execution": {
     "iopub.execute_input": "2023-08-08T16:59:10.385981Z",
     "iopub.status.busy": "2023-08-08T16:59:10.385787Z",
     "iopub.status.idle": "2023-08-08T17:00:12.526619Z",
     "shell.execute_reply": "2023-08-08T17:00:12.525648Z"
    },
    "tags": []
   },
   "outputs": [
    {
     "name": "stderr",
     "output_type": "stream",
     "text": [
      "\r",
      "Map:   0%|          | 0/50 [00:00<?, ? examples/s]"
     ]
    },
    {
     "name": "stderr",
     "output_type": "stream",
     "text": [
      "\r",
      "Map:  64%|██████▍   | 32/50 [00:01<00:00, 18.04 examples/s]"
     ]
    },
    {
     "name": "stderr",
     "output_type": "stream",
     "text": [
      "\r",
      "Map: 100%|██████████| 50/50 [00:02<00:00, 26.38 examples/s]"
     ]
    },
    {
     "name": "stderr",
     "output_type": "stream",
     "text": [
      "\r",
      "Map: 100%|██████████| 50/50 [00:02<00:00, 24.17 examples/s]"
     ]
    },
    {
     "name": "stderr",
     "output_type": "stream",
     "text": [
      "\n"
     ]
    },
    {
     "name": "stderr",
     "output_type": "stream",
     "text": [
      "\r",
      "Map:   0%|          | 0/10 [00:00<?, ? examples/s]"
     ]
    },
    {
     "name": "stderr",
     "output_type": "stream",
     "text": [
      "\r",
      "Map: 100%|██████████| 10/10 [00:00<00:00, 16.78 examples/s]"
     ]
    },
    {
     "name": "stderr",
     "output_type": "stream",
     "text": [
      "\r",
      "Map: 100%|██████████| 10/10 [00:00<00:00, 16.65 examples/s]"
     ]
    },
    {
     "name": "stderr",
     "output_type": "stream",
     "text": [
      "\n"
     ]
    },
    {
     "name": "stderr",
     "output_type": "stream",
     "text": [
      "\r",
      "Map:   0%|          | 0/10 [00:00<?, ? examples/s]"
     ]
    },
    {
     "name": "stderr",
     "output_type": "stream",
     "text": [
      "\r",
      "Map: 100%|██████████| 10/10 [00:00<00:00, 16.11 examples/s]"
     ]
    },
    {
     "name": "stderr",
     "output_type": "stream",
     "text": [
      "\r",
      "Map: 100%|██████████| 10/10 [00:00<00:00, 15.99 examples/s]"
     ]
    },
    {
     "name": "stderr",
     "output_type": "stream",
     "text": [
      "\n"
     ]
    },
    {
     "name": "stderr",
     "output_type": "stream",
     "text": [
      "\r",
      "Map:   0%|          | 0/10 [00:00<?, ? examples/s]"
     ]
    },
    {
     "name": "stderr",
     "output_type": "stream",
     "text": [
      "\r",
      "Map: 100%|██████████| 10/10 [00:00<00:00, 16.48 examples/s]"
     ]
    },
    {
     "name": "stderr",
     "output_type": "stream",
     "text": [
      "\r",
      "Map: 100%|██████████| 10/10 [00:00<00:00, 16.35 examples/s]"
     ]
    },
    {
     "name": "stderr",
     "output_type": "stream",
     "text": [
      "\n"
     ]
    },
    {
     "name": "stderr",
     "output_type": "stream",
     "text": [
      "\r",
      "Map:   0%|          | 0/10 [00:00<?, ? examples/s]"
     ]
    },
    {
     "name": "stderr",
     "output_type": "stream",
     "text": [
      "\r",
      "Map: 100%|██████████| 10/10 [00:00<00:00, 16.53 examples/s]"
     ]
    },
    {
     "name": "stderr",
     "output_type": "stream",
     "text": [
      "\r",
      "Map: 100%|██████████| 10/10 [00:00<00:00, 16.40 examples/s]"
     ]
    },
    {
     "name": "stderr",
     "output_type": "stream",
     "text": [
      "\n"
     ]
    },
    {
     "name": "stderr",
     "output_type": "stream",
     "text": [
      "\r",
      "Map:   0%|          | 0/10 [00:00<?, ? examples/s]"
     ]
    },
    {
     "name": "stderr",
     "output_type": "stream",
     "text": [
      "\r",
      "Map: 100%|██████████| 10/10 [00:00<00:00, 16.56 examples/s]"
     ]
    },
    {
     "name": "stderr",
     "output_type": "stream",
     "text": [
      "\r",
      "Map: 100%|██████████| 10/10 [00:00<00:00, 16.44 examples/s]"
     ]
    },
    {
     "name": "stderr",
     "output_type": "stream",
     "text": [
      "\n"
     ]
    },
    {
     "name": "stderr",
     "output_type": "stream",
     "text": [
      "\r",
      "Map:   0%|          | 0/10 [00:00<?, ? examples/s]"
     ]
    },
    {
     "name": "stderr",
     "output_type": "stream",
     "text": [
      "\r",
      "Map: 100%|██████████| 10/10 [00:00<00:00, 16.84 examples/s]"
     ]
    },
    {
     "name": "stderr",
     "output_type": "stream",
     "text": [
      "\r",
      "Map: 100%|██████████| 10/10 [00:00<00:00, 16.70 examples/s]"
     ]
    },
    {
     "name": "stderr",
     "output_type": "stream",
     "text": [
      "\n"
     ]
    },
    {
     "name": "stderr",
     "output_type": "stream",
     "text": [
      "\r",
      "Map:   0%|          | 0/10 [00:00<?, ? examples/s]"
     ]
    },
    {
     "name": "stderr",
     "output_type": "stream",
     "text": [
      "\r",
      "Map: 100%|██████████| 10/10 [00:00<00:00, 15.64 examples/s]"
     ]
    },
    {
     "name": "stderr",
     "output_type": "stream",
     "text": [
      "\r",
      "Map: 100%|██████████| 10/10 [00:00<00:00, 15.53 examples/s]"
     ]
    },
    {
     "name": "stderr",
     "output_type": "stream",
     "text": [
      "\n"
     ]
    },
    {
     "name": "stderr",
     "output_type": "stream",
     "text": [
      "\r",
      "Map:   0%|          | 0/10 [00:00<?, ? examples/s]"
     ]
    },
    {
     "name": "stderr",
     "output_type": "stream",
     "text": [
      "\r",
      "Map: 100%|██████████| 10/10 [00:00<00:00, 15.97 examples/s]"
     ]
    },
    {
     "name": "stderr",
     "output_type": "stream",
     "text": [
      "\r",
      "Map: 100%|██████████| 10/10 [00:00<00:00, 15.85 examples/s]"
     ]
    },
    {
     "name": "stderr",
     "output_type": "stream",
     "text": [
      "\n"
     ]
    },
    {
     "name": "stderr",
     "output_type": "stream",
     "text": [
      "\r",
      "Map:   0%|          | 0/10 [00:00<?, ? examples/s]"
     ]
    },
    {
     "name": "stderr",
     "output_type": "stream",
     "text": [
      "\r",
      "Map: 100%|██████████| 10/10 [00:00<00:00, 16.58 examples/s]"
     ]
    },
    {
     "name": "stderr",
     "output_type": "stream",
     "text": [
      "\r",
      "Map: 100%|██████████| 10/10 [00:00<00:00, 16.44 examples/s]"
     ]
    },
    {
     "name": "stderr",
     "output_type": "stream",
     "text": [
      "\n"
     ]
    },
    {
     "name": "stderr",
     "output_type": "stream",
     "text": [
      "\r",
      "Map:   0%|          | 0/10 [00:00<?, ? examples/s]"
     ]
    },
    {
     "name": "stderr",
     "output_type": "stream",
     "text": [
      "\r",
      "Map: 100%|██████████| 10/10 [00:00<00:00, 16.69 examples/s]"
     ]
    },
    {
     "name": "stderr",
     "output_type": "stream",
     "text": [
      "\r",
      "Map: 100%|██████████| 10/10 [00:00<00:00, 16.48 examples/s]"
     ]
    },
    {
     "name": "stderr",
     "output_type": "stream",
     "text": [
      "\n"
     ]
    },
    {
     "name": "stderr",
     "output_type": "stream",
     "text": [
      "\r",
      "Map:   0%|          | 0/10 [00:00<?, ? examples/s]"
     ]
    },
    {
     "name": "stderr",
     "output_type": "stream",
     "text": [
      "\r",
      "Map: 100%|██████████| 10/10 [00:00<00:00, 16.45 examples/s]"
     ]
    },
    {
     "name": "stderr",
     "output_type": "stream",
     "text": [
      "\r",
      "Map: 100%|██████████| 10/10 [00:00<00:00, 16.27 examples/s]"
     ]
    },
    {
     "name": "stderr",
     "output_type": "stream",
     "text": [
      "\n"
     ]
    },
    {
     "name": "stderr",
     "output_type": "stream",
     "text": [
      "\r",
      "Map:   0%|          | 0/10 [00:00<?, ? examples/s]"
     ]
    },
    {
     "name": "stderr",
     "output_type": "stream",
     "text": [
      "\r",
      "Map: 100%|██████████| 10/10 [00:00<00:00, 16.07 examples/s]"
     ]
    },
    {
     "name": "stderr",
     "output_type": "stream",
     "text": [
      "\r",
      "Map: 100%|██████████| 10/10 [00:00<00:00, 15.94 examples/s]"
     ]
    },
    {
     "name": "stderr",
     "output_type": "stream",
     "text": [
      "\n"
     ]
    },
    {
     "name": "stderr",
     "output_type": "stream",
     "text": [
      "\r",
      "Map:   0%|          | 0/10 [00:00<?, ? examples/s]"
     ]
    },
    {
     "name": "stderr",
     "output_type": "stream",
     "text": [
      "\r",
      "Map: 100%|██████████| 10/10 [00:00<00:00, 16.91 examples/s]"
     ]
    },
    {
     "name": "stderr",
     "output_type": "stream",
     "text": [
      "\r",
      "Map: 100%|██████████| 10/10 [00:00<00:00, 16.78 examples/s]"
     ]
    },
    {
     "name": "stderr",
     "output_type": "stream",
     "text": [
      "\n"
     ]
    },
    {
     "name": "stderr",
     "output_type": "stream",
     "text": [
      "\r",
      "Map:   0%|          | 0/10 [00:00<?, ? examples/s]"
     ]
    },
    {
     "name": "stderr",
     "output_type": "stream",
     "text": [
      "\r",
      "Map: 100%|██████████| 10/10 [00:00<00:00, 16.21 examples/s]"
     ]
    },
    {
     "name": "stderr",
     "output_type": "stream",
     "text": [
      "\r",
      "Map: 100%|██████████| 10/10 [00:00<00:00, 16.09 examples/s]"
     ]
    },
    {
     "name": "stderr",
     "output_type": "stream",
     "text": [
      "\n"
     ]
    },
    {
     "data": {
      "image/png": "[encoded data removed]",
      "text/plain": [
       "<Figure size 1600x1000 with 1 Axes>"
      ]
     },
     "metadata": {},
     "output_type": "display_data"
    }
   ],
   "source": [
    "model = DenseNet(weights=\"densenet121-res224-all\")\n",
    "detector = Detector(\n",
    "    \"rolling_window_drift\",\n",
    "    reductor=Reductor(dr_method=\"bbse-soft\", model=model, device=device),\n",
    "    tester=TSTester(tester_method=\"ks\"),\n",
    "    source_sample_size=50,\n",
    "    target_sample_size=10,\n",
    "    timestamp_column=\"timestamp\",\n",
    "    window_size=\"4W\",\n",
    ")\n",
    "\n",
    "results = detector.detect_shift(source_ds, target_ds)\n",
    "plot_drift_timeseries(results)"
   ]
  }
 ],
 "metadata": {
  "kernelspec": {
   "display_name": "pycyclops-4J2PL5I8-py3.9",
   "language": "python",
   "name": "python3"
  },
  "language_info": {
   "codemirror_mode": {
    "name": "ipython",
    "version": 3
   },
   "file_extension": ".py",
   "mimetype": "text/x-python",
   "name": "python",
   "nbconvert_exporter": "python",
   "pygments_lexer": "ipython3",
   "version": "3.9.16"
  }
 },
 "nbformat": 4,
 "nbformat_minor": 5
}
