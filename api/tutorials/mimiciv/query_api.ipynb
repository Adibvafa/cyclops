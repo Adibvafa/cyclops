{
 "cells": [
  {
   "cell_type": "markdown",
   "id": "e337389b-1cfe-4796-a846-b4e1ba5690d6",
   "metadata": {},
   "source": [
    "# MIMIC-IV query API tutorial"
   ]
  },
  {
   "cell_type": "markdown",
   "id": "1efffc64",
   "metadata": {},
   "source": [
    "This notebook shows examples of how to use the cyclops.query API on [MIMIC-IV v2.0](https://physionet.org/content/mimiciv/2.0/).\n",
    "\n",
    "Each query is limit to 100 rows (for quick results).\n",
    "\n",
    "* First, setup the MIMIC-IV database according to the instructions in [mimic-code](https://github.com/MIT-LCP/mimic-code/tree/main/mimic-iv/buildmimic/postgres).\n",
    "* The database is assumed to be hosted using postgres. Update the config parameters such as username and password, passed to `MIMICIVQuerier` accordingly."
   ]
  },
  {
   "cell_type": "markdown",
   "id": "12c18656-7f16-4230-85d0-944563d6a13e",
   "metadata": {},
   "source": [
    "## Imports and instantiate `MIMICIVQuerier`"
   ]
  },
  {
   "cell_type": "code",
   "execution_count": 1,
   "id": "53009e6b",
   "metadata": {
    "execution": {
     "iopub.execute_input": "2023-07-13T01:55:41.630910Z",
     "iopub.status.busy": "2023-07-13T01:55:41.630272Z",
     "iopub.status.idle": "2023-07-13T01:55:47.327243Z",
     "shell.execute_reply": "2023-07-13T01:55:47.325277Z"
    },
    "tags": []
   },
   "outputs": [
    {
     "name": "stderr",
     "output_type": "stream",
     "text": [
      "2023-07-12 21:55:44,731 \u001b[1;37mINFO\u001b[0m cyclops.query.orm - Database setup, ready to run queries!\n"
     ]
    },
    {
     "data": {
      "text/plain": [
       "['fhir_etl',\n",
       " 'fhir_trm',\n",
       " 'information_schema',\n",
       " 'mimic_fhir',\n",
       " 'mimiciv_derived',\n",
       " 'mimiciv_ed',\n",
       " 'mimiciv_hosp',\n",
       " 'mimiciv_icu',\n",
       " 'public']"
      ]
     },
     "execution_count": 1,
     "metadata": {},
     "output_type": "execute_result"
    }
   ],
   "source": [
    "import cyclops.query.ops as qo\n",
    "from cyclops.query import MIMICIVQuerier\n",
    "\n",
    "querier = MIMICIVQuerier(\n",
    "    dbms=\"postgresql\",\n",
    "    port=5432,\n",
    "    host=\"localhost\",\n",
    "    database=\"mimiciv-2.0\",\n",
    "    user=\"postgres\",\n",
    "    password=\"pwd\",\n",
    ")\n",
    "# List all schemas.\n",
    "querier.list_schemas()"
   ]
  },
  {
   "cell_type": "markdown",
   "id": "7b6214f8",
   "metadata": {
    "tags": []
   },
   "source": [
    "## Example 1. Get all patient admissions from 2021 or later (approx year of admission)"
   ]
  },
  {
   "cell_type": "code",
   "execution_count": 2,
   "id": "cdfadaa4-6fd6-4fd7-85cf-e012aa0799e1",
   "metadata": {
    "execution": {
     "iopub.execute_input": "2023-07-13T01:55:47.335822Z",
     "iopub.status.busy": "2023-07-13T01:55:47.335382Z",
     "iopub.status.idle": "2023-07-13T01:55:47.675806Z",
     "shell.execute_reply": "2023-07-13T01:55:47.674361Z"
    }
   },
   "outputs": [
    {
     "name": "stderr",
     "output_type": "stream",
     "text": [
      "2023-07-12 21:55:47,669 \u001b[1;37mINFO\u001b[0m cyclops.query.orm - Query returned successfully!\n"
     ]
    },
    {
     "name": "stderr",
     "output_type": "stream",
     "text": [
      "2023-07-12 21:55:47,670 \u001b[1;37mINFO\u001b[0m cyclops.utils.profile - Finished executing function run_query in 0.286618 s\n"
     ]
    },
    {
     "name": "stdout",
     "output_type": "stream",
     "text": [
      "100 rows extracted!\n"
     ]
    }
   ],
   "source": [
    "patients = querier.patients()\n",
    "ops = qo.Sequential(\n",
    "    [\n",
    "        qo.AddDeltaColumn([\"admittime\", \"dischtime\"], years=\"anchor_year_difference\"),\n",
    "        qo.ConditionAfterDate(\"admittime\", \"2021-01-01\"),\n",
    "    ]\n",
    ")\n",
    "admissions = querier.mimiciv_hosp.admissions(\n",
    "    join=qo.JoinArgs(join_table=patients.query, on=\"subject_id\"),\n",
    "    ops=ops,\n",
    ").run(limit=100)\n",
    "print(f\"{len(admissions)} rows extracted!\")"
   ]
  },
  {
   "cell_type": "markdown",
   "id": "80d9f06e",
   "metadata": {},
   "source": [
    "## Example 2. Get all patient encounters with diagnoses (`schizophrenia` in ICD-10 long title), in the year 2015."
   ]
  },
  {
   "cell_type": "code",
   "execution_count": 3,
   "id": "a89a9cf0",
   "metadata": {
    "execution": {
     "iopub.execute_input": "2023-07-13T01:55:47.682199Z",
     "iopub.status.busy": "2023-07-13T01:55:47.681678Z",
     "iopub.status.idle": "2023-07-13T01:55:48.608913Z",
     "shell.execute_reply": "2023-07-13T01:55:48.607903Z"
    }
   },
   "outputs": [
    {
     "name": "stderr",
     "output_type": "stream",
     "text": [
      "2023-07-12 21:55:48,604 \u001b[1;37mINFO\u001b[0m cyclops.query.orm - Query returned successfully!\n"
     ]
    },
    {
     "name": "stderr",
     "output_type": "stream",
     "text": [
      "2023-07-12 21:55:48,605 \u001b[1;37mINFO\u001b[0m cyclops.utils.profile - Finished executing function run_query in 0.817982 s\n"
     ]
    },
    {
     "name": "stdout",
     "output_type": "stream",
     "text": [
      "100 rows extracted!\n"
     ]
    }
   ],
   "source": [
    "diagnoses_ops = qo.Sequential(\n",
    "    [\n",
    "        qo.ConditionEquals(\"icd_version\", 10),\n",
    "        qo.ConditionSubstring(\"long_title\", \"schizophrenia\"),\n",
    "    ]\n",
    ")\n",
    "admissions_ops = qo.Sequential(\n",
    "    [\n",
    "        qo.AddDeltaColumn([\"admittime\", \"dischtime\"], years=\"anchor_year_difference\"),\n",
    "        qo.ConditionInYears(\"admittime\", \"2015\"),\n",
    "    ]\n",
    ")\n",
    "patients = querier.patients()\n",
    "admissions = querier.mimiciv_hosp.admissions(\n",
    "    join=qo.JoinArgs(join_table=patients.query, on=\"subject_id\"),\n",
    "    ops=admissions_ops,\n",
    ")\n",
    "diagnoses = querier.diagnoses(\n",
    "    join=qo.JoinArgs(\n",
    "        join_table=admissions.query,\n",
    "        on=[\"subject_id\", \"hadm_id\"],\n",
    "    ),\n",
    "    ops=diagnoses_ops,\n",
    ").run(limit=100)\n",
    "print(f\"{len(diagnoses)} rows extracted!\")"
   ]
  },
  {
   "cell_type": "markdown",
   "id": "e2baea54",
   "metadata": {},
   "source": [
    "## Example 3. Advanced - uses `ConditionRegexMatch` from `cyclops.query.ops`. Get all patient encounters with diagnoses (ICD-9 long title contains `schizophrenia` and `chronic` ), in the year 2015."
   ]
  },
  {
   "cell_type": "code",
   "execution_count": 4,
   "id": "03936cee",
   "metadata": {
    "execution": {
     "iopub.execute_input": "2023-07-13T01:55:48.615642Z",
     "iopub.status.busy": "2023-07-13T01:55:48.615138Z",
     "iopub.status.idle": "2023-07-13T01:55:50.300706Z",
     "shell.execute_reply": "2023-07-13T01:55:50.299313Z"
    }
   },
   "outputs": [
    {
     "name": "stderr",
     "output_type": "stream",
     "text": [
      "2023-07-12 21:55:50,294 \u001b[1;37mINFO\u001b[0m cyclops.query.orm - Query returned successfully!\n"
     ]
    },
    {
     "name": "stderr",
     "output_type": "stream",
     "text": [
      "2023-07-12 21:55:50,295 \u001b[1;37mINFO\u001b[0m cyclops.utils.profile - Finished executing function run_query in 1.481553 s\n"
     ]
    },
    {
     "name": "stdout",
     "output_type": "stream",
     "text": [
      "82 rows extracted!\n"
     ]
    }
   ],
   "source": [
    "admissions_ops = qo.Sequential(\n",
    "    [\n",
    "        qo.AddDeltaColumn([\"admittime\", \"dischtime\"], years=\"anchor_year_difference\"),\n",
    "        qo.ConditionInYears(\"admittime\", \"2015\"),\n",
    "    ]\n",
    ")\n",
    "diagnoses_ops = qo.Sequential(\n",
    "    [\n",
    "        qo.ConditionEquals(\"icd_version\", 9),\n",
    "        qo.ConditionRegexMatch(\"long_title\", r\"(?=.*schizophrenia)(?=.*chronic)\"),\n",
    "    ]\n",
    ")\n",
    "patients = querier.patients()\n",
    "admissions = querier.mimiciv_hosp.admissions(\n",
    "    join=qo.JoinArgs(join_table=patients.query, on=\"subject_id\"),\n",
    "    ops=admissions_ops,\n",
    ")\n",
    "diagnoses = querier.diagnoses(\n",
    "    join=qo.JoinArgs(\n",
    "        join_table=admissions.query,\n",
    "        on=[\"subject_id\", \"hadm_id\"],\n",
    "    ),\n",
    "    ops=diagnoses_ops,\n",
    ").run(limit=100)\n",
    "print(f\"{len(diagnoses)} rows extracted!\")"
   ]
  },
  {
   "cell_type": "markdown",
   "id": "30b0d604",
   "metadata": {},
   "source": [
    "## Example 4. Get routine vital signs for patients from year 2015."
   ]
  },
  {
   "cell_type": "code",
   "execution_count": 5,
   "id": "56a72377",
   "metadata": {
    "execution": {
     "iopub.execute_input": "2023-07-13T01:55:50.306169Z",
     "iopub.status.busy": "2023-07-13T01:55:50.305723Z",
     "iopub.status.idle": "2023-07-13T01:57:16.913360Z",
     "shell.execute_reply": "2023-07-13T01:57:16.912712Z"
    }
   },
   "outputs": [
    {
     "name": "stderr",
     "output_type": "stream",
     "text": [
      "2023-07-12 21:57:16,908 \u001b[1;37mINFO\u001b[0m cyclops.query.orm - Query returned successfully!\n"
     ]
    },
    {
     "name": "stderr",
     "output_type": "stream",
     "text": [
      "2023-07-12 21:57:16,910 \u001b[1;37mINFO\u001b[0m cyclops.utils.profile - Finished executing function run_query in 86.487724 s\n"
     ]
    },
    {
     "name": "stdout",
     "output_type": "stream",
     "text": [
      "100 rows extracted!\n"
     ]
    }
   ],
   "source": [
    "admissions_ops = qo.Sequential(\n",
    "    [\n",
    "        qo.AddDeltaColumn([\"admittime\", \"dischtime\"], years=\"anchor_year_difference\"),\n",
    "        qo.ConditionInYears(\"admittime\", \"2015\"),\n",
    "    ]\n",
    ")\n",
    "chartevents_ops = qo.Sequential([qo.ConditionEquals(\"category\", \"Routine Vital Signs\")])\n",
    "patients = querier.patients()\n",
    "admissions = querier.mimiciv_hosp.admissions(\n",
    "    join=qo.JoinArgs(join_table=patients.query, on=\"subject_id\"),\n",
    "    ops=admissions_ops,\n",
    ")\n",
    "vitals = querier.chartevents(\n",
    "    join=qo.JoinArgs(\n",
    "        join_table=admissions.query,\n",
    "        on=[\"subject_id\", \"hadm_id\"],\n",
    "    ),\n",
    "    ops=chartevents_ops,\n",
    ").run(limit=100)\n",
    "print(f\"{len(vitals)} rows extracted!\")"
   ]
  },
  {
   "cell_type": "markdown",
   "id": "621479f0",
   "metadata": {},
   "source": [
    "## Example 5. Get hemoglobin lab tests for patients from year 2009."
   ]
  },
  {
   "cell_type": "code",
   "execution_count": 6,
   "id": "bce11f81",
   "metadata": {
    "execution": {
     "iopub.execute_input": "2023-07-13T01:57:16.920676Z",
     "iopub.status.busy": "2023-07-13T01:57:16.920249Z",
     "iopub.status.idle": "2023-07-13T01:58:26.825597Z",
     "shell.execute_reply": "2023-07-13T01:58:26.823991Z"
    }
   },
   "outputs": [
    {
     "name": "stderr",
     "output_type": "stream",
     "text": [
      "2023-07-12 21:58:26,816 \u001b[1;37mINFO\u001b[0m cyclops.query.orm - Query returned successfully!\n"
     ]
    },
    {
     "name": "stderr",
     "output_type": "stream",
     "text": [
      "2023-07-12 21:58:26,818 \u001b[1;37mINFO\u001b[0m cyclops.utils.profile - Finished executing function run_query in 69.778767 s\n"
     ]
    },
    {
     "name": "stdout",
     "output_type": "stream",
     "text": [
      "100 rows extracted!\n"
     ]
    }
   ],
   "source": [
    "admissions_ops = qo.Sequential(\n",
    "    [\n",
    "        qo.AddDeltaColumn([\"admittime\", \"dischtime\"], years=\"anchor_year_difference\"),\n",
    "        qo.ConditionInYears(\"admittime\", \"2009\"),\n",
    "    ]\n",
    ")\n",
    "labevents_ops = qo.Sequential([qo.ConditionEquals(\"label\", \"hemoglobin\")])\n",
    "patients = querier.patients()\n",
    "admissions = querier.mimiciv_hosp.admissions(\n",
    "    join=qo.JoinArgs(join_table=patients.query, on=\"subject_id\"),\n",
    "    ops=admissions_ops,\n",
    ")\n",
    "labs = querier.chartevents(\n",
    "    join=qo.JoinArgs(\n",
    "        join_table=admissions.query,\n",
    "        on=[\"subject_id\", \"hadm_id\"],\n",
    "    ),\n",
    "    ops=labevents_ops,\n",
    ").run(limit=100)\n",
    "print(f\"{len(labs)} rows extracted!\")"
   ]
  },
  {
   "cell_type": "markdown",
   "id": "801c5ec5-6c7e-44af-8fb7-275d66ca82b0",
   "metadata": {},
   "source": [
    "## Example 6. Get all female patient encounters from year 2015, and return as dask dataframe (lazy evaluation) with 4 partitions (batches) aggregated based on `subject_id`."
   ]
  },
  {
   "cell_type": "code",
   "execution_count": 7,
   "id": "28683d70-376e-4d9b-883d-1a7de634e455",
   "metadata": {
    "execution": {
     "iopub.execute_input": "2023-07-13T01:58:26.831658Z",
     "iopub.status.busy": "2023-07-13T01:58:26.831173Z",
     "iopub.status.idle": "2023-07-13T01:58:28.364761Z",
     "shell.execute_reply": "2023-07-13T01:58:28.362897Z"
    }
   },
   "outputs": [
    {
     "name": "stderr",
     "output_type": "stream",
     "text": [
      "2023-07-12 21:58:27,253 \u001b[1;37mINFO\u001b[0m cyclops.query.orm - Query returned successfully!\n"
     ]
    },
    {
     "name": "stderr",
     "output_type": "stream",
     "text": [
      "2023-07-12 21:58:27,254 \u001b[1;37mINFO\u001b[0m cyclops.utils.profile - Finished executing function run_query in 0.362763 s\n"
     ]
    },
    {
     "name": "stdout",
     "output_type": "stream",
     "text": [
      "35639 rows extracted!\n",
      "Return type: <class 'dask.dataframe.core.DataFrame'>\n",
      "Number of partitions: 4\n"
     ]
    }
   ],
   "source": [
    "admissions_ops = qo.Sequential(\n",
    "    [\n",
    "        qo.AddDeltaColumn([\"admittime\", \"dischtime\"], years=\"anchor_year_difference\"),\n",
    "        qo.ConditionInYears(\"admittime\", \"2015\"),\n",
    "        qo.Cast(\"gender\", \"str\"),\n",
    "        qo.ConditionEquals(\"gender\", \"F\"),\n",
    "    ]\n",
    ")\n",
    "patients = querier.patients()\n",
    "admissions = querier.mimiciv_hosp.admissions(\n",
    "    join=qo.JoinArgs(join_table=patients.query, on=\"subject_id\"),\n",
    "    ops=admissions_ops,\n",
    ").run(backend=\"dask\", index_col=\"subject_id\", n_partitions=4)\n",
    "print(f\"{len(admissions)} rows extracted!\")\n",
    "print(f\"Return type: {type(admissions)}\")\n",
    "print(f\"Number of partitions: {admissions.npartitions}\")"
   ]
  },
  {
   "cell_type": "markdown",
   "id": "e1ed2708",
   "metadata": {},
   "source": [
    "## Example 7. Running a raw SQL string."
   ]
  },
  {
   "cell_type": "code",
   "execution_count": 8,
   "id": "a853deec",
   "metadata": {
    "execution": {
     "iopub.execute_input": "2023-07-13T01:58:28.371766Z",
     "iopub.status.busy": "2023-07-13T01:58:28.371068Z",
     "iopub.status.idle": "2023-07-13T01:58:28.391254Z",
     "shell.execute_reply": "2023-07-13T01:58:28.389539Z"
    },
    "tags": []
   },
   "outputs": [
    {
     "name": "stderr",
     "output_type": "stream",
     "text": [
      "2023-07-12 21:58:28,382 \u001b[1;37mINFO\u001b[0m cyclops.query.orm - Query returned successfully!\n"
     ]
    },
    {
     "name": "stderr",
     "output_type": "stream",
     "text": [
      "2023-07-12 21:58:28,383 \u001b[1;37mINFO\u001b[0m cyclops.utils.profile - Finished executing function run_query in 0.009990 s\n"
     ]
    },
    {
     "name": "stdout",
     "output_type": "stream",
     "text": [
      "100 rows extracted!\n"
     ]
    }
   ],
   "source": [
    "data = querier.db.run_query(\"SELECT * FROM mimiciv_hosp.admissions LIMIT 100\")\n",
    "print(f\"{len(data)} rows extracted!\")"
   ]
  }
 ],
 "metadata": {
  "kernelspec": {
   "display_name": "cyclops",
   "language": "python",
   "name": "cyclops"
  },
  "language_info": {
   "codemirror_mode": {
    "name": "ipython",
    "version": 3
   },
   "file_extension": ".py",
   "mimetype": "text/x-python",
   "name": "python",
   "nbconvert_exporter": "python",
   "pygments_lexer": "ipython3",
   "version": "3.9.16"
  }
 },
 "nbformat": 4,
 "nbformat_minor": 5
}
