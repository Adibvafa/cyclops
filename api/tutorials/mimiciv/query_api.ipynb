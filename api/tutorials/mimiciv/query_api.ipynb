{
 "cells": [
  {
   "cell_type": "markdown",
   "id": "e337389b-1cfe-4796-a846-b4e1ba5690d6",
   "metadata": {},
   "source": [
    "# MIMIC-IV query API tutorial"
   ]
  },
  {
   "cell_type": "markdown",
   "id": "1efffc64",
   "metadata": {},
   "source": [
    "This notebook shows examples of how to use the cyclops.query API on [MIMIC-IV v2.0](https://physionet.org/content/mimiciv/2.0/).\n",
    "\n",
    "Each query is limit to 100 rows (for quick results).\n",
    "\n",
    "* First, setup the MIMIC-IV database according to the instructions in [mimic-code](https://github.com/MIT-LCP/mimic-code/tree/main/mimic-iv/buildmimic/postgres).\n",
    "* The database is assumed to be hosted using postgres. Update the config parameters such as username and password, passed to `MIMICIVQuerier` accordingly."
   ]
  },
  {
   "cell_type": "markdown",
   "id": "12c18656-7f16-4230-85d0-944563d6a13e",
   "metadata": {},
   "source": [
    "## Imports and instantiate `MIMICIVQuerier`"
   ]
  },
  {
   "cell_type": "code",
   "execution_count": 1,
   "id": "53009e6b",
   "metadata": {
    "execution": {
     "iopub.execute_input": "2023-08-29T01:30:25.540434Z",
     "iopub.status.busy": "2023-08-29T01:30:25.539779Z",
     "iopub.status.idle": "2023-08-29T01:30:31.410898Z",
     "shell.execute_reply": "2023-08-29T01:30:31.409371Z"
    },
    "tags": []
   },
   "outputs": [
    {
     "name": "stderr",
     "output_type": "stream",
     "text": [
      "2023-08-28 21:30:28,694 \u001b[1;37mINFO\u001b[0m cyclops.query.orm - Database setup, ready to run queries!\n"
     ]
    },
    {
     "data": {
      "text/plain": [
       "['fhir_etl',\n",
       " 'fhir_trm',\n",
       " 'information_schema',\n",
       " 'mimic_fhir',\n",
       " 'mimiciv_derived',\n",
       " 'mimiciv_ed',\n",
       " 'mimiciv_hosp',\n",
       " 'mimiciv_icu',\n",
       " 'mimiciv_note',\n",
       " 'public']"
      ]
     },
     "execution_count": 1,
     "metadata": {},
     "output_type": "execute_result"
    }
   ],
   "source": [
    "\"\"\"MIMICIV query API tutorial.\"\"\"\n",
    "\n",
    "import cyclops.query.ops as qo\n",
    "from cyclops.query import MIMICIVQuerier\n",
    "\n",
    "\n",
    "querier = MIMICIVQuerier(\n",
    "    dbms=\"postgresql\",\n",
    "    port=5432,\n",
    "    host=\"localhost\",\n",
    "    database=\"mimiciv-2.0\",\n",
    "    user=\"postgres\",\n",
    "    password=\"pwd\",\n",
    ")\n",
    "# List all schemas.\n",
    "querier.list_schemas()"
   ]
  },
  {
   "cell_type": "markdown",
   "id": "7b6214f8",
   "metadata": {
    "tags": []
   },
   "source": [
    "## Example 1. Get all patient admissions from 2021 or later (approx year of admission)"
   ]
  },
  {
   "cell_type": "code",
   "execution_count": 2,
   "id": "cdfadaa4-6fd6-4fd7-85cf-e012aa0799e1",
   "metadata": {
    "execution": {
     "iopub.execute_input": "2023-08-29T01:30:31.417236Z",
     "iopub.status.busy": "2023-08-29T01:30:31.416781Z",
     "iopub.status.idle": "2023-08-29T01:30:31.780942Z",
     "shell.execute_reply": "2023-08-29T01:30:31.779645Z"
    }
   },
   "outputs": [
    {
     "name": "stderr",
     "output_type": "stream",
     "text": [
      "2023-08-28 21:30:31,774 \u001b[1;37mINFO\u001b[0m cyclops.query.orm - Query returned successfully!\n"
     ]
    },
    {
     "name": "stderr",
     "output_type": "stream",
     "text": [
      "2023-08-28 21:30:31,775 \u001b[1;37mINFO\u001b[0m cyclops.utils.profile - Finished executing function run_query in 0.299208 s\n"
     ]
    },
    {
     "name": "stdout",
     "output_type": "stream",
     "text": [
      "100 rows extracted!\n"
     ]
    }
   ],
   "source": [
    "patients = querier.patients()\n",
    "ops = qo.Sequential(\n",
    "    [\n",
    "        qo.AddDeltaColumn([\"admittime\", \"dischtime\"], years=\"anchor_year_difference\"),\n",
    "        qo.ConditionAfterDate(\"admittime\", \"2021-01-01\"),\n",
    "    ],\n",
    ")\n",
    "admissions = querier.mimiciv_hosp.admissions(\n",
    "    join=qo.JoinArgs(join_table=patients.query, on=\"subject_id\"),\n",
    "    ops=ops,\n",
    ").run(limit=100)\n",
    "print(f\"{len(admissions)} rows extracted!\")"
   ]
  },
  {
   "cell_type": "markdown",
   "id": "80d9f06e",
   "metadata": {},
   "source": [
    "## Example 2. Get all patient encounters with diagnoses (`schizophrenia` in ICD-10 long title), in the year 2015."
   ]
  },
  {
   "cell_type": "code",
   "execution_count": 3,
   "id": "a89a9cf0",
   "metadata": {
    "execution": {
     "iopub.execute_input": "2023-08-29T01:30:31.786232Z",
     "iopub.status.busy": "2023-08-29T01:30:31.785757Z",
     "iopub.status.idle": "2023-08-29T01:30:32.734649Z",
     "shell.execute_reply": "2023-08-29T01:30:32.733424Z"
    }
   },
   "outputs": [
    {
     "name": "stderr",
     "output_type": "stream",
     "text": [
      "2023-08-28 21:30:32,728 \u001b[1;37mINFO\u001b[0m cyclops.query.orm - Query returned successfully!\n"
     ]
    },
    {
     "name": "stderr",
     "output_type": "stream",
     "text": [
      "2023-08-28 21:30:32,729 \u001b[1;37mINFO\u001b[0m cyclops.utils.profile - Finished executing function run_query in 0.818572 s\n"
     ]
    },
    {
     "name": "stdout",
     "output_type": "stream",
     "text": [
      "100 rows extracted!\n"
     ]
    }
   ],
   "source": [
    "diagnoses_ops = qo.Sequential(\n",
    "    [\n",
    "        qo.ConditionEquals(\"icd_version\", 10),\n",
    "        qo.ConditionSubstring(\"long_title\", \"schizophrenia\"),\n",
    "    ],\n",
    ")\n",
    "admissions_ops = qo.Sequential(\n",
    "    [\n",
    "        qo.AddDeltaColumn([\"admittime\", \"dischtime\"], years=\"anchor_year_difference\"),\n",
    "        qo.ConditionInYears(\"admittime\", \"2015\"),\n",
    "    ],\n",
    ")\n",
    "patients = querier.patients()\n",
    "admissions = querier.mimiciv_hosp.admissions(\n",
    "    join=qo.JoinArgs(join_table=patients.query, on=\"subject_id\"),\n",
    "    ops=admissions_ops,\n",
    ")\n",
    "diagnoses = querier.diagnoses(\n",
    "    join=qo.JoinArgs(\n",
    "        join_table=admissions.query,\n",
    "        on=[\"subject_id\", \"hadm_id\"],\n",
    "    ),\n",
    "    ops=diagnoses_ops,\n",
    ").run(limit=100)\n",
    "print(f\"{len(diagnoses)} rows extracted!\")"
   ]
  },
  {
   "cell_type": "markdown",
   "id": "e2baea54",
   "metadata": {},
   "source": [
    "## Example 3. Advanced - uses `ConditionRegexMatch` from `cyclops.query.ops`. Get all patient encounters with diagnoses (ICD-9 long title contains `schizophrenia` and `chronic` ), in the year 2015."
   ]
  },
  {
   "cell_type": "code",
   "execution_count": 4,
   "id": "03936cee",
   "metadata": {
    "execution": {
     "iopub.execute_input": "2023-08-29T01:30:32.739006Z",
     "iopub.status.busy": "2023-08-29T01:30:32.738517Z",
     "iopub.status.idle": "2023-08-29T01:30:34.442318Z",
     "shell.execute_reply": "2023-08-29T01:30:34.441102Z"
    }
   },
   "outputs": [
    {
     "name": "stderr",
     "output_type": "stream",
     "text": [
      "2023-08-28 21:30:34,435 \u001b[1;37mINFO\u001b[0m cyclops.query.orm - Query returned successfully!\n"
     ]
    },
    {
     "name": "stderr",
     "output_type": "stream",
     "text": [
      "2023-08-28 21:30:34,436 \u001b[1;37mINFO\u001b[0m cyclops.utils.profile - Finished executing function run_query in 1.497628 s\n"
     ]
    },
    {
     "name": "stdout",
     "output_type": "stream",
     "text": [
      "82 rows extracted!\n"
     ]
    }
   ],
   "source": [
    "admissions_ops = qo.Sequential(\n",
    "    [\n",
    "        qo.AddDeltaColumn([\"admittime\", \"dischtime\"], years=\"anchor_year_difference\"),\n",
    "        qo.ConditionInYears(\"admittime\", \"2015\"),\n",
    "    ],\n",
    ")\n",
    "diagnoses_ops = qo.Sequential(\n",
    "    [\n",
    "        qo.ConditionEquals(\"icd_version\", 9),\n",
    "        qo.ConditionRegexMatch(\"long_title\", r\"(?=.*schizophrenia)(?=.*chronic)\"),\n",
    "    ],\n",
    ")\n",
    "patients = querier.patients()\n",
    "admissions = querier.mimiciv_hosp.admissions(\n",
    "    join=qo.JoinArgs(join_table=patients.query, on=\"subject_id\"),\n",
    "    ops=admissions_ops,\n",
    ")\n",
    "diagnoses = querier.diagnoses(\n",
    "    join=qo.JoinArgs(\n",
    "        join_table=admissions.query,\n",
    "        on=[\"subject_id\", \"hadm_id\"],\n",
    "    ),\n",
    "    ops=diagnoses_ops,\n",
    ").run(limit=100)\n",
    "print(f\"{len(diagnoses)} rows extracted!\")"
   ]
  },
  {
   "cell_type": "markdown",
   "id": "30b0d604",
   "metadata": {},
   "source": [
    "## Example 4. Get routine vital signs for patients from year 2015."
   ]
  },
  {
   "cell_type": "code",
   "execution_count": 5,
   "id": "56a72377",
   "metadata": {
    "execution": {
     "iopub.execute_input": "2023-08-29T01:30:34.448773Z",
     "iopub.status.busy": "2023-08-29T01:30:34.447900Z",
     "iopub.status.idle": "2023-08-29T01:32:00.113901Z",
     "shell.execute_reply": "2023-08-29T01:32:00.112809Z"
    }
   },
   "outputs": [
    {
     "name": "stderr",
     "output_type": "stream",
     "text": [
      "2023-08-28 21:32:00,108 \u001b[1;37mINFO\u001b[0m cyclops.query.orm - Query returned successfully!\n"
     ]
    },
    {
     "name": "stderr",
     "output_type": "stream",
     "text": [
      "2023-08-28 21:32:00,109 \u001b[1;37mINFO\u001b[0m cyclops.utils.profile - Finished executing function run_query in 85.539719 s\n"
     ]
    },
    {
     "name": "stdout",
     "output_type": "stream",
     "text": [
      "100 rows extracted!\n"
     ]
    }
   ],
   "source": [
    "admissions_ops = qo.Sequential(\n",
    "    [\n",
    "        qo.AddDeltaColumn([\"admittime\", \"dischtime\"], years=\"anchor_year_difference\"),\n",
    "        qo.ConditionInYears(\"admittime\", \"2015\"),\n",
    "    ],\n",
    ")\n",
    "chartevents_ops = qo.Sequential([qo.ConditionEquals(\"category\", \"Routine Vital Signs\")])\n",
    "patients = querier.patients()\n",
    "admissions = querier.mimiciv_hosp.admissions(\n",
    "    join=qo.JoinArgs(join_table=patients.query, on=\"subject_id\"),\n",
    "    ops=admissions_ops,\n",
    ")\n",
    "vitals = querier.chartevents(\n",
    "    join=qo.JoinArgs(\n",
    "        join_table=admissions.query,\n",
    "        on=[\"subject_id\", \"hadm_id\"],\n",
    "    ),\n",
    "    ops=chartevents_ops,\n",
    ").run(limit=100)\n",
    "print(f\"{len(vitals)} rows extracted!\")"
   ]
  },
  {
   "cell_type": "markdown",
   "id": "621479f0",
   "metadata": {},
   "source": [
    "## Example 5. Get hemoglobin lab tests for patients from year 2009."
   ]
  },
  {
   "cell_type": "code",
   "execution_count": 6,
   "id": "bce11f81",
   "metadata": {
    "execution": {
     "iopub.execute_input": "2023-08-29T01:32:00.119269Z",
     "iopub.status.busy": "2023-08-29T01:32:00.118557Z",
     "iopub.status.idle": "2023-08-29T01:33:06.700439Z",
     "shell.execute_reply": "2023-08-29T01:33:06.699095Z"
    }
   },
   "outputs": [
    {
     "name": "stderr",
     "output_type": "stream",
     "text": [
      "2023-08-28 21:33:06,693 \u001b[1;37mINFO\u001b[0m cyclops.query.orm - Query returned successfully!\n"
     ]
    },
    {
     "name": "stderr",
     "output_type": "stream",
     "text": [
      "2023-08-28 21:33:06,695 \u001b[1;37mINFO\u001b[0m cyclops.utils.profile - Finished executing function run_query in 66.428783 s\n"
     ]
    },
    {
     "name": "stdout",
     "output_type": "stream",
     "text": [
      "100 rows extracted!\n"
     ]
    }
   ],
   "source": [
    "admissions_ops = qo.Sequential(\n",
    "    [\n",
    "        qo.AddDeltaColumn([\"admittime\", \"dischtime\"], years=\"anchor_year_difference\"),\n",
    "        qo.ConditionInYears(\"admittime\", \"2009\"),\n",
    "    ],\n",
    ")\n",
    "labevents_ops = qo.Sequential([qo.ConditionEquals(\"label\", \"hemoglobin\")])\n",
    "patients = querier.patients()\n",
    "admissions = querier.mimiciv_hosp.admissions(\n",
    "    join=qo.JoinArgs(join_table=patients.query, on=\"subject_id\"),\n",
    "    ops=admissions_ops,\n",
    ")\n",
    "labs = querier.chartevents(\n",
    "    join=qo.JoinArgs(\n",
    "        join_table=admissions.query,\n",
    "        on=[\"subject_id\", \"hadm_id\"],\n",
    "    ),\n",
    "    ops=labevents_ops,\n",
    ").run(limit=100)\n",
    "print(f\"{len(labs)} rows extracted!\")"
   ]
  },
  {
   "cell_type": "markdown",
   "id": "801c5ec5-6c7e-44af-8fb7-275d66ca82b0",
   "metadata": {},
   "source": [
    "## Example 6. Get all female patient encounters from year 2015, and return as dask dataframe (lazy evaluation) with 4 partitions (batches) aggregated based on `subject_id`."
   ]
  },
  {
   "cell_type": "code",
   "execution_count": 7,
   "id": "28683d70-376e-4d9b-883d-1a7de634e455",
   "metadata": {
    "execution": {
     "iopub.execute_input": "2023-08-29T01:33:06.705977Z",
     "iopub.status.busy": "2023-08-29T01:33:06.705495Z",
     "iopub.status.idle": "2023-08-29T01:33:08.079966Z",
     "shell.execute_reply": "2023-08-29T01:33:08.078588Z"
    }
   },
   "outputs": [
    {
     "name": "stderr",
     "output_type": "stream",
     "text": [
      "2023-08-28 21:33:07,125 \u001b[1;37mINFO\u001b[0m cyclops.query.orm - Query returned successfully!\n"
     ]
    },
    {
     "name": "stderr",
     "output_type": "stream",
     "text": [
      "2023-08-28 21:33:07,126 \u001b[1;37mINFO\u001b[0m cyclops.utils.profile - Finished executing function run_query in 0.357738 s\n"
     ]
    },
    {
     "name": "stdout",
     "output_type": "stream",
     "text": [
      "35639 rows extracted!\n",
      "Return type: <class 'dask.dataframe.core.DataFrame'>\n",
      "Number of partitions: 4\n"
     ]
    }
   ],
   "source": [
    "admissions_ops = qo.Sequential(\n",
    "    [\n",
    "        qo.AddDeltaColumn([\"admittime\", \"dischtime\"], years=\"anchor_year_difference\"),\n",
    "        qo.ConditionInYears(\"admittime\", \"2015\"),\n",
    "        qo.Cast(\"gender\", \"str\"),\n",
    "        qo.ConditionEquals(\"gender\", \"F\"),\n",
    "    ],\n",
    ")\n",
    "patients = querier.patients()\n",
    "admissions = querier.mimiciv_hosp.admissions(\n",
    "    join=qo.JoinArgs(join_table=patients.query, on=\"subject_id\"),\n",
    "    ops=admissions_ops,\n",
    ").run(backend=\"dask\", index_col=\"subject_id\", n_partitions=4)\n",
    "print(f\"{len(admissions)} rows extracted!\")\n",
    "print(f\"Return type: {type(admissions)}\")\n",
    "print(f\"Number of partitions: {admissions.npartitions}\")"
   ]
  },
  {
   "cell_type": "markdown",
   "id": "e1ed2708",
   "metadata": {},
   "source": [
    "## Example 7. Running a raw SQL string."
   ]
  },
  {
   "cell_type": "code",
   "execution_count": 8,
   "id": "a853deec",
   "metadata": {
    "execution": {
     "iopub.execute_input": "2023-08-29T01:33:08.086099Z",
     "iopub.status.busy": "2023-08-29T01:33:08.085585Z",
     "iopub.status.idle": "2023-08-29T01:33:08.103887Z",
     "shell.execute_reply": "2023-08-29T01:33:08.102699Z"
    },
    "tags": []
   },
   "outputs": [
    {
     "name": "stderr",
     "output_type": "stream",
     "text": [
      "2023-08-28 21:33:08,097 \u001b[1;37mINFO\u001b[0m cyclops.query.orm - Query returned successfully!\n"
     ]
    },
    {
     "name": "stderr",
     "output_type": "stream",
     "text": [
      "2023-08-28 21:33:08,098 \u001b[1;37mINFO\u001b[0m cyclops.utils.profile - Finished executing function run_query in 0.010142 s\n"
     ]
    },
    {
     "name": "stdout",
     "output_type": "stream",
     "text": [
      "100 rows extracted!\n"
     ]
    }
   ],
   "source": [
    "data = querier.db.run_query(\"SELECT * FROM mimiciv_hosp.admissions LIMIT 100\")\n",
    "print(f\"{len(data)} rows extracted!\")"
   ]
  }
 ],
 "metadata": {
  "kernelspec": {
   "display_name": "cyclops",
   "language": "python",
   "name": "cyclops"
  },
  "language_info": {
   "codemirror_mode": {
    "name": "ipython",
    "version": 3
   },
   "file_extension": ".py",
   "mimetype": "text/x-python",
   "name": "python",
   "nbconvert_exporter": "python",
   "pygments_lexer": "ipython3",
   "version": "3.9.16"
  }
 },
 "nbformat": 4,
 "nbformat_minor": 5
}
