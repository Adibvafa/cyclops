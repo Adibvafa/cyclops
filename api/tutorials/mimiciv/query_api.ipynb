{
 "cells": [
  {
   "cell_type": "markdown",
   "id": "e337389b-1cfe-4796-a846-b4e1ba5690d6",
   "metadata": {},
   "source": [
    "# MIMIC-IV query API tutorial"
   ]
  },
  {
   "cell_type": "markdown",
   "id": "1efffc64",
   "metadata": {},
   "source": [
    "This notebook shows examples of how to use the cyclops.query API on [MIMIC-IV v2.0](https://physionet.org/content/mimiciv/2.0/).\n",
    "\n",
    "Each query is limit to 100 rows (for quick results).\n",
    "\n",
    "* First, setup the MIMIC-IV database according to the instructions in [mimic-code](https://github.com/MIT-LCP/mimic-code/tree/main/mimic-iv/buildmimic/postgres).\n",
    "* The database is assumed to be hosted using postgres. Update the config parameters such as username and password, passed to `MIMICIVQuerier` accordingly."
   ]
  },
  {
   "cell_type": "markdown",
   "id": "12c18656-7f16-4230-85d0-944563d6a13e",
   "metadata": {},
   "source": [
    "## Imports and instantiate `MIMICIVQuerier`"
   ]
  },
  {
   "cell_type": "code",
   "execution_count": 1,
   "id": "53009e6b",
   "metadata": {
    "execution": {
     "iopub.execute_input": "2023-09-12T13:23:02.281708Z",
     "iopub.status.busy": "2023-09-12T13:23:02.280871Z",
     "iopub.status.idle": "2023-09-12T13:23:07.974169Z",
     "shell.execute_reply": "2023-09-12T13:23:07.973173Z"
    },
    "tags": []
   },
   "outputs": [
    {
     "name": "stderr",
     "output_type": "stream",
     "text": [
      "2023-09-12 09:23:05,778 \u001b[1;37mINFO\u001b[0m cyclops.query.orm - Database setup, ready to run queries!\n"
     ]
    },
    {
     "data": {
      "text/plain": [
       "['fhir_etl',\n",
       " 'fhir_trm',\n",
       " 'information_schema',\n",
       " 'mimic_fhir',\n",
       " 'mimiciv_derived',\n",
       " 'mimiciv_ed',\n",
       " 'mimiciv_hosp',\n",
       " 'mimiciv_icu',\n",
       " 'mimiciv_note',\n",
       " 'public']"
      ]
     },
     "execution_count": 1,
     "metadata": {},
     "output_type": "execute_result"
    }
   ],
   "source": [
    "\"\"\"MIMICIV query API tutorial.\"\"\"\n",
    "\n",
    "import cyclops.query.ops as qo\n",
    "from cyclops.query import MIMICIVQuerier\n",
    "\n",
    "\n",
    "querier = MIMICIVQuerier(\n",
    "    dbms=\"postgresql\",\n",
    "    port=5432,\n",
    "    host=\"localhost\",\n",
    "    database=\"mimiciv-2.0\",\n",
    "    user=\"postgres\",\n",
    "    password=\"pwd\",\n",
    ")\n",
    "# List all schemas.\n",
    "querier.list_schemas()"
   ]
  },
  {
   "cell_type": "markdown",
   "id": "7b6214f8",
   "metadata": {
    "tags": []
   },
   "source": [
    "## Example 1. Get all patient admissions from 2021 or later (approx year of admission)"
   ]
  },
  {
   "cell_type": "code",
   "execution_count": 2,
   "id": "cdfadaa4-6fd6-4fd7-85cf-e012aa0799e1",
   "metadata": {
    "execution": {
     "iopub.execute_input": "2023-09-12T13:23:07.980302Z",
     "iopub.status.busy": "2023-09-12T13:23:07.979608Z",
     "iopub.status.idle": "2023-09-12T13:23:08.190705Z",
     "shell.execute_reply": "2023-09-12T13:23:08.189691Z"
    }
   },
   "outputs": [
    {
     "name": "stderr",
     "output_type": "stream",
     "text": [
      "2023-09-12 09:23:08,185 \u001b[1;37mINFO\u001b[0m cyclops.query.orm - Query returned successfully!\n"
     ]
    },
    {
     "name": "stderr",
     "output_type": "stream",
     "text": [
      "2023-09-12 09:23:08,186 \u001b[1;37mINFO\u001b[0m cyclops.utils.profile - Finished executing function run_query in 0.151730 s\n"
     ]
    },
    {
     "name": "stdout",
     "output_type": "stream",
     "text": [
      "100 rows extracted!\n"
     ]
    }
   ],
   "source": [
    "patients = querier.patients()\n",
    "ops = qo.Sequential(\n",
    "    qo.AddDeltaColumn([\"admittime\", \"dischtime\"], years=\"anchor_year_difference\"),\n",
    "    qo.ConditionAfterDate(\"admittime\", \"2021-01-01\"),\n",
    ")\n",
    "admissions = querier.mimiciv_hosp.admissions(\n",
    "    join=qo.JoinArgs(join_table=patients.query, on=\"subject_id\"),\n",
    "    ops=ops,\n",
    ").run(limit=100)\n",
    "print(f\"{len(admissions)} rows extracted!\")"
   ]
  },
  {
   "cell_type": "markdown",
   "id": "80d9f06e",
   "metadata": {},
   "source": [
    "## Example 2. Get all patient encounters with diagnoses (`schizophrenia` in ICD-10 long title), in the year 2015."
   ]
  },
  {
   "cell_type": "code",
   "execution_count": 3,
   "id": "a89a9cf0",
   "metadata": {
    "execution": {
     "iopub.execute_input": "2023-09-12T13:23:08.195805Z",
     "iopub.status.busy": "2023-09-12T13:23:08.195210Z",
     "iopub.status.idle": "2023-09-12T13:23:09.064287Z",
     "shell.execute_reply": "2023-09-12T13:23:09.063215Z"
    }
   },
   "outputs": [
    {
     "name": "stderr",
     "output_type": "stream",
     "text": [
      "2023-09-12 09:23:09,058 \u001b[1;37mINFO\u001b[0m cyclops.query.orm - Query returned successfully!\n"
     ]
    },
    {
     "name": "stderr",
     "output_type": "stream",
     "text": [
      "2023-09-12 09:23:09,059 \u001b[1;37mINFO\u001b[0m cyclops.utils.profile - Finished executing function run_query in 0.744115 s\n"
     ]
    },
    {
     "name": "stdout",
     "output_type": "stream",
     "text": [
      "100 rows extracted!\n"
     ]
    }
   ],
   "source": [
    "diagnoses_ops = qo.Sequential(\n",
    "    qo.ConditionEquals(\"icd_version\", 10),\n",
    "    qo.ConditionSubstring(\"long_title\", \"schizophrenia\"),\n",
    ")\n",
    "admissions_ops = qo.Sequential(\n",
    "    qo.AddDeltaColumn([\"admittime\", \"dischtime\"], years=\"anchor_year_difference\"),\n",
    "    qo.ConditionInYears(\"admittime\", \"2015\"),\n",
    ")\n",
    "patients = querier.patients()\n",
    "admissions = querier.mimiciv_hosp.admissions(\n",
    "    join=qo.JoinArgs(join_table=patients.query, on=\"subject_id\"),\n",
    "    ops=admissions_ops,\n",
    ")\n",
    "diagnoses = querier.diagnoses(\n",
    "    join=qo.JoinArgs(\n",
    "        join_table=admissions.query,\n",
    "        on=[\"subject_id\", \"hadm_id\"],\n",
    "    ),\n",
    "    ops=diagnoses_ops,\n",
    ").run(limit=100)\n",
    "print(f\"{len(diagnoses)} rows extracted!\")"
   ]
  },
  {
   "cell_type": "markdown",
   "id": "e2baea54",
   "metadata": {},
   "source": [
    "## Example 3. Advanced - uses `ConditionRegexMatch` from `cyclops.query.ops`. Get all patient encounters with diagnoses (ICD-9 long title contains `schizophrenia` and `chronic` ), in the year 2015."
   ]
  },
  {
   "cell_type": "code",
   "execution_count": 4,
   "id": "03936cee",
   "metadata": {
    "execution": {
     "iopub.execute_input": "2023-09-12T13:23:09.071051Z",
     "iopub.status.busy": "2023-09-12T13:23:09.070431Z",
     "iopub.status.idle": "2023-09-12T13:23:10.819550Z",
     "shell.execute_reply": "2023-09-12T13:23:10.818156Z"
    }
   },
   "outputs": [
    {
     "name": "stderr",
     "output_type": "stream",
     "text": [
      "2023-09-12 09:23:10,811 \u001b[1;37mINFO\u001b[0m cyclops.query.orm - Query returned successfully!\n"
     ]
    },
    {
     "name": "stderr",
     "output_type": "stream",
     "text": [
      "2023-09-12 09:23:10,813 \u001b[1;37mINFO\u001b[0m cyclops.utils.profile - Finished executing function run_query in 1.533932 s\n"
     ]
    },
    {
     "name": "stdout",
     "output_type": "stream",
     "text": [
      "82 rows extracted!\n"
     ]
    }
   ],
   "source": [
    "admissions_ops = qo.Sequential(\n",
    "    qo.AddDeltaColumn([\"admittime\", \"dischtime\"], years=\"anchor_year_difference\"),\n",
    "    qo.ConditionInYears(\"admittime\", \"2015\"),\n",
    ")\n",
    "diagnoses_ops = qo.Sequential(\n",
    "    qo.ConditionEquals(\"icd_version\", 9),\n",
    "    qo.ConditionRegexMatch(\"long_title\", r\"(?=.*schizophrenia)(?=.*chronic)\"),\n",
    ")\n",
    "patients = querier.patients()\n",
    "admissions = querier.mimiciv_hosp.admissions(\n",
    "    join=qo.JoinArgs(join_table=patients.query, on=\"subject_id\"),\n",
    "    ops=admissions_ops,\n",
    ")\n",
    "diagnoses = querier.diagnoses(\n",
    "    join=qo.JoinArgs(\n",
    "        join_table=admissions.query,\n",
    "        on=[\"subject_id\", \"hadm_id\"],\n",
    "    ),\n",
    "    ops=diagnoses_ops,\n",
    ").run(limit=100)\n",
    "print(f\"{len(diagnoses)} rows extracted!\")"
   ]
  },
  {
   "cell_type": "markdown",
   "id": "30b0d604",
   "metadata": {},
   "source": [
    "## Example 4. Get routine vital signs for patients from year 2015."
   ]
  },
  {
   "cell_type": "code",
   "execution_count": 5,
   "id": "56a72377",
   "metadata": {
    "execution": {
     "iopub.execute_input": "2023-09-12T13:23:10.824573Z",
     "iopub.status.busy": "2023-09-12T13:23:10.823897Z",
     "iopub.status.idle": "2023-09-12T13:24:21.972675Z",
     "shell.execute_reply": "2023-09-12T13:24:21.971389Z"
    }
   },
   "outputs": [
    {
     "name": "stderr",
     "output_type": "stream",
     "text": [
      "2023-09-12 09:24:21,966 \u001b[1;37mINFO\u001b[0m cyclops.query.orm - Query returned successfully!\n"
     ]
    },
    {
     "name": "stderr",
     "output_type": "stream",
     "text": [
      "2023-09-12 09:24:21,967 \u001b[1;37mINFO\u001b[0m cyclops.utils.profile - Finished executing function run_query in 71.017808 s\n"
     ]
    },
    {
     "name": "stdout",
     "output_type": "stream",
     "text": [
      "100 rows extracted!\n"
     ]
    }
   ],
   "source": [
    "admissions_ops = qo.Sequential(\n",
    "    qo.AddDeltaColumn([\"admittime\", \"dischtime\"], years=\"anchor_year_difference\"),\n",
    "    qo.ConditionInYears(\"admittime\", \"2015\"),\n",
    ")\n",
    "chartevents_ops = qo.ConditionEquals(\"category\", \"Routine Vital Signs\")\n",
    "patients = querier.patients()\n",
    "admissions = querier.mimiciv_hosp.admissions(\n",
    "    join=qo.JoinArgs(join_table=patients.query, on=\"subject_id\"),\n",
    "    ops=admissions_ops,\n",
    ")\n",
    "vitals = querier.chartevents(\n",
    "    join=qo.JoinArgs(\n",
    "        join_table=admissions.query,\n",
    "        on=[\"subject_id\", \"hadm_id\"],\n",
    "    ),\n",
    "    ops=chartevents_ops,\n",
    ").run(limit=100)\n",
    "print(f\"{len(vitals)} rows extracted!\")"
   ]
  },
  {
   "cell_type": "markdown",
   "id": "621479f0",
   "metadata": {},
   "source": [
    "## Example 5. Get hemoglobin lab tests for patients from year 2009."
   ]
  },
  {
   "cell_type": "code",
   "execution_count": 6,
   "id": "bce11f81",
   "metadata": {
    "execution": {
     "iopub.execute_input": "2023-09-12T13:24:21.978493Z",
     "iopub.status.busy": "2023-09-12T13:24:21.977887Z",
     "iopub.status.idle": "2023-09-12T13:25:33.128518Z",
     "shell.execute_reply": "2023-09-12T13:25:33.127664Z"
    }
   },
   "outputs": [
    {
     "name": "stderr",
     "output_type": "stream",
     "text": [
      "2023-09-12 09:25:33,121 \u001b[1;37mINFO\u001b[0m cyclops.query.orm - Query returned successfully!\n"
     ]
    },
    {
     "name": "stderr",
     "output_type": "stream",
     "text": [
      "2023-09-12 09:25:33,124 \u001b[1;37mINFO\u001b[0m cyclops.utils.profile - Finished executing function run_query in 71.024880 s\n"
     ]
    },
    {
     "name": "stdout",
     "output_type": "stream",
     "text": [
      "100 rows extracted!\n"
     ]
    }
   ],
   "source": [
    "admissions_ops = qo.Sequential(\n",
    "    qo.AddDeltaColumn([\"admittime\", \"dischtime\"], years=\"anchor_year_difference\"),\n",
    "    qo.ConditionInYears(\"admittime\", \"2009\"),\n",
    ")\n",
    "labevents_ops = qo.ConditionEquals(\"label\", \"hemoglobin\")\n",
    "patients = querier.patients()\n",
    "admissions = querier.mimiciv_hosp.admissions(\n",
    "    join=qo.JoinArgs(join_table=patients.query, on=\"subject_id\"),\n",
    "    ops=admissions_ops,\n",
    ")\n",
    "labs = querier.chartevents(\n",
    "    join=qo.JoinArgs(\n",
    "        join_table=admissions.query,\n",
    "        on=[\"subject_id\", \"hadm_id\"],\n",
    "    ),\n",
    "    ops=labevents_ops,\n",
    ").run(limit=100)\n",
    "print(f\"{len(labs)} rows extracted!\")"
   ]
  },
  {
   "cell_type": "markdown",
   "id": "b0a9bc12-dda3-4445-9156-52d295a1c48f",
   "metadata": {},
   "source": [
    "## Example 6. Get radiology reports and filter on keywords `lymphadenopathy` and `infectious` occurring together."
   ]
  },
  {
   "cell_type": "code",
   "execution_count": 7,
   "id": "f00d270c-d78f-4dc0-8dae-ff4d52958c8b",
   "metadata": {
    "execution": {
     "iopub.execute_input": "2023-09-12T13:25:33.141724Z",
     "iopub.status.busy": "2023-09-12T13:25:33.141266Z",
     "iopub.status.idle": "2023-09-12T13:25:43.171658Z",
     "shell.execute_reply": "2023-09-12T13:25:43.170285Z"
    },
    "tags": []
   },
   "outputs": [
    {
     "name": "stderr",
     "output_type": "stream",
     "text": [
      "2023-09-12 09:25:43,164 \u001b[1;37mINFO\u001b[0m cyclops.query.orm - Query returned successfully!\n"
     ]
    },
    {
     "name": "stderr",
     "output_type": "stream",
     "text": [
      "2023-09-12 09:25:43,166 \u001b[1;37mINFO\u001b[0m cyclops.utils.profile - Finished executing function run_query in 9.903182 s\n"
     ]
    },
    {
     "name": "stdout",
     "output_type": "stream",
     "text": [
      "100 rows extracted!\n"
     ]
    }
   ],
   "source": [
    "admissions_ops = qo.Sequential(\n",
    "    qo.AddDeltaColumn([\"admittime\", \"dischtime\"], years=\"anchor_year_difference\"),\n",
    "    qo.ConditionInYears(\"admittime\", \"2009\"),\n",
    ")\n",
    "patients = querier.patients()\n",
    "admissions = querier.mimiciv_hosp.admissions(\n",
    "    join=qo.JoinArgs(join_table=patients.query, on=\"subject_id\"),\n",
    "    ops=admissions_ops,\n",
    ")\n",
    "radiology_notes_ops = qo.Sequential(\n",
    "    qo.And(\n",
    "        [\n",
    "            qo.ConditionLike(\"text\", \"% lymphadenopathy %\"),\n",
    "            qo.ConditionLike(\"text\", \"% infectious %\"),\n",
    "        ],\n",
    "    ),\n",
    ")\n",
    "radiology_notes = querier.mimiciv_note.radiology(\n",
    "    join=qo.JoinArgs(\n",
    "        join_table=admissions.query,\n",
    "        on=[\"subject_id\", \"hadm_id\"],\n",
    "    ),\n",
    "    ops=radiology_notes_ops,\n",
    ").run(limit=100)\n",
    "print(f\"{len(radiology_notes)} rows extracted!\")"
   ]
  },
  {
   "cell_type": "markdown",
   "id": "9550ba62-c128-4259-a075-0cbd9c70b662",
   "metadata": {},
   "source": [
    "## Example 7. Get all female patient encounters from year 2015, and return as dask dataframe (lazy evaluation) with 4 partitions (batches) aggregated based on `subject_id`."
   ]
  },
  {
   "cell_type": "code",
   "execution_count": 8,
   "id": "28683d70-376e-4d9b-883d-1a7de634e455",
   "metadata": {
    "execution": {
     "iopub.execute_input": "2023-09-12T13:25:43.175613Z",
     "iopub.status.busy": "2023-09-12T13:25:43.175155Z",
     "iopub.status.idle": "2023-09-12T13:25:44.417563Z",
     "shell.execute_reply": "2023-09-12T13:25:44.416092Z"
    }
   },
   "outputs": [
    {
     "name": "stderr",
     "output_type": "stream",
     "text": [
      "2023-09-12 09:25:43,606 \u001b[1;37mINFO\u001b[0m cyclops.query.orm - Query returned successfully!\n"
     ]
    },
    {
     "name": "stderr",
     "output_type": "stream",
     "text": [
      "2023-09-12 09:25:43,607 \u001b[1;37mINFO\u001b[0m cyclops.utils.profile - Finished executing function run_query in 0.375206 s\n"
     ]
    },
    {
     "name": "stdout",
     "output_type": "stream",
     "text": [
      "35639 rows extracted!\n",
      "Return type: <class 'dask.dataframe.core.DataFrame'>\n",
      "Number of partitions: 4\n"
     ]
    }
   ],
   "source": [
    "admissions_ops = qo.Sequential(\n",
    "    qo.AddDeltaColumn([\"admittime\", \"dischtime\"], years=\"anchor_year_difference\"),\n",
    "    qo.ConditionInYears(\"admittime\", \"2015\"),\n",
    "    qo.Cast(\"gender\", \"str\"),\n",
    "    qo.ConditionEquals(\"gender\", \"F\"),\n",
    ")\n",
    "patients = querier.patients()\n",
    "admissions = querier.mimiciv_hosp.admissions(\n",
    "    join=qo.JoinArgs(join_table=patients.query, on=\"subject_id\"),\n",
    "    ops=admissions_ops,\n",
    ").run(backend=\"dask\", index_col=\"subject_id\", n_partitions=4)\n",
    "print(f\"{len(admissions)} rows extracted!\")\n",
    "print(f\"Return type: {type(admissions)}\")\n",
    "print(f\"Number of partitions: {admissions.npartitions}\")"
   ]
  },
  {
   "cell_type": "markdown",
   "id": "e1ed2708",
   "metadata": {},
   "source": [
    "## Example 8. Running a raw SQL string."
   ]
  },
  {
   "cell_type": "code",
   "execution_count": 9,
   "id": "a853deec",
   "metadata": {
    "execution": {
     "iopub.execute_input": "2023-09-12T13:25:44.423952Z",
     "iopub.status.busy": "2023-09-12T13:25:44.423436Z",
     "iopub.status.idle": "2023-09-12T13:25:44.440726Z",
     "shell.execute_reply": "2023-09-12T13:25:44.439533Z"
    },
    "tags": []
   },
   "outputs": [
    {
     "name": "stderr",
     "output_type": "stream",
     "text": [
      "2023-09-12 09:25:44,434 \u001b[1;37mINFO\u001b[0m cyclops.query.orm - Query returned successfully!\n"
     ]
    },
    {
     "name": "stderr",
     "output_type": "stream",
     "text": [
      "2023-09-12 09:25:44,436 \u001b[1;37mINFO\u001b[0m cyclops.utils.profile - Finished executing function run_query in 0.009939 s\n"
     ]
    },
    {
     "name": "stdout",
     "output_type": "stream",
     "text": [
      "100 rows extracted!\n"
     ]
    }
   ],
   "source": [
    "data = querier.db.run_query(\"SELECT * FROM mimiciv_hosp.admissions LIMIT 100\")\n",
    "print(f\"{len(data)} rows extracted!\")"
   ]
  }
 ],
 "metadata": {
  "kernelspec": {
   "display_name": "cyclops",
   "language": "python",
   "name": "cyclops"
  },
  "language_info": {
   "codemirror_mode": {
    "name": "ipython",
    "version": 3
   },
   "file_extension": ".py",
   "mimetype": "text/x-python",
   "name": "python",
   "nbconvert_exporter": "python",
   "pygments_lexer": "ipython3",
   "version": "3.9.16"
  }
 },
 "nbformat": 4,
 "nbformat_minor": 5
}
