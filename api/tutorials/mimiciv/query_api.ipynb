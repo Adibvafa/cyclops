{
 "cells": [
  {
   "cell_type": "markdown",
   "id": "e337389b-1cfe-4796-a846-b4e1ba5690d6",
   "metadata": {},
   "source": [
    "# MIMIC-IV query API tutorial"
   ]
  },
  {
   "cell_type": "markdown",
   "id": "1efffc64",
   "metadata": {},
   "source": [
    "This notebook shows examples of how to use the cyclops.query API on [MIMIC-IV v2.0](https://physionet.org/content/mimiciv/2.0/).\n",
    "\n",
    "Each query is limit to 100 rows (for quick results).\n",
    "\n",
    "* First, setup the MIMIC-IV database according to the instructions in [mimic-code](https://github.com/MIT-LCP/mimic-code/tree/main/mimic-iv/buildmimic/postgres).\n",
    "* The database is assumed to be hosted using postgres. Update the config parameters such as username and password, passed to `MIMICIVQuerier` accordingly."
   ]
  },
  {
   "cell_type": "markdown",
   "id": "12c18656-7f16-4230-85d0-944563d6a13e",
   "metadata": {},
   "source": [
    "## Imports and instantiate `MIMICIVQuerier`"
   ]
  },
  {
   "cell_type": "code",
   "execution_count": 1,
   "id": "53009e6b",
   "metadata": {
    "execution": {
     "iopub.execute_input": "2023-09-19T15:59:12.297843Z",
     "iopub.status.busy": "2023-09-19T15:59:12.297133Z",
     "iopub.status.idle": "2023-09-19T15:59:17.396087Z",
     "shell.execute_reply": "2023-09-19T15:59:17.394836Z"
    },
    "tags": []
   },
   "outputs": [
    {
     "name": "stderr",
     "output_type": "stream",
     "text": [
      "/home/amritk/.cache/pypoetry/virtualenvs/pycyclops-mhx6UJW0-py3.9/lib/python3.9/site-packages/tqdm/auto.py:21: TqdmWarning: IProgress not found. Please update jupyter and ipywidgets. See https://ipywidgets.readthedocs.io/en/stable/user_install.html\n",
      "  from .autonotebook import tqdm as notebook_tqdm\n"
     ]
    },
    {
     "name": "stderr",
     "output_type": "stream",
     "text": [
      "2023-09-19 11:59:15,401 \u001b[1;37mINFO\u001b[0m cyclops.query.orm - Database setup, ready to run queries!\n"
     ]
    },
    {
     "data": {
      "text/plain": [
       "['fhir_etl',\n",
       " 'fhir_trm',\n",
       " 'information_schema',\n",
       " 'mimic_fhir',\n",
       " 'mimiciv_derived',\n",
       " 'mimiciv_ed',\n",
       " 'mimiciv_hosp',\n",
       " 'mimiciv_icu',\n",
       " 'mimiciv_note',\n",
       " 'public']"
      ]
     },
     "execution_count": 1,
     "metadata": {},
     "output_type": "execute_result"
    }
   ],
   "source": [
    "\"\"\"MIMICIV query API tutorial.\"\"\"\n",
    "\n",
    "import cyclops.query.ops as qo\n",
    "from cyclops.query import MIMICIVQuerier\n",
    "\n",
    "\n",
    "querier = MIMICIVQuerier(\n",
    "    dbms=\"postgresql\",\n",
    "    port=5432,\n",
    "    host=\"localhost\",\n",
    "    database=\"mimiciv-2.0\",\n",
    "    user=\"postgres\",\n",
    "    password=\"pwd\",\n",
    ")\n",
    "# List all schemas.\n",
    "querier.list_schemas()"
   ]
  },
  {
   "cell_type": "markdown",
   "id": "7b6214f8",
   "metadata": {
    "tags": []
   },
   "source": [
    "## Example 1. Get all patient admissions from 2021 or later (approx year of admission)"
   ]
  },
  {
   "cell_type": "code",
   "execution_count": 2,
   "id": "cdfadaa4-6fd6-4fd7-85cf-e012aa0799e1",
   "metadata": {
    "execution": {
     "iopub.execute_input": "2023-09-19T15:59:17.403117Z",
     "iopub.status.busy": "2023-09-19T15:59:17.402587Z",
     "iopub.status.idle": "2023-09-19T15:59:17.606050Z",
     "shell.execute_reply": "2023-09-19T15:59:17.604903Z"
    }
   },
   "outputs": [
    {
     "name": "stderr",
     "output_type": "stream",
     "text": [
      "2023-09-19 11:59:17,601 \u001b[1;37mINFO\u001b[0m cyclops.query.orm - Query returned successfully!\n"
     ]
    },
    {
     "name": "stderr",
     "output_type": "stream",
     "text": [
      "2023-09-19 11:59:17,602 \u001b[1;37mINFO\u001b[0m cyclops.utils.profile - Finished executing function run_query in 0.182561 s\n"
     ]
    },
    {
     "name": "stdout",
     "output_type": "stream",
     "text": [
      "100 rows extracted!\n"
     ]
    }
   ],
   "source": [
    "patients = querier.patients()\n",
    "admissions = querier.mimiciv_hosp.admissions()\n",
    "patient_admissions = patients.join(admissions, on=\"subject_id\")\n",
    "ops = qo.Sequential(\n",
    "    qo.AddDeltaColumn([\"admittime\", \"dischtime\"], years=\"anchor_year_difference\"),\n",
    "    qo.ConditionAfterDate(\"admittime\", \"2021-01-01\"),\n",
    ")\n",
    "patient_admissions = patient_admissions.ops(ops).run(limit=100)\n",
    "print(f\"{len(patient_admissions)} rows extracted!\")"
   ]
  },
  {
   "cell_type": "markdown",
   "id": "80d9f06e",
   "metadata": {},
   "source": [
    "## Example 2. Get all patient encounters with diagnoses (`schizophrenia` in ICD-10 long title), in the year 2015."
   ]
  },
  {
   "cell_type": "code",
   "execution_count": 3,
   "id": "a89a9cf0",
   "metadata": {
    "execution": {
     "iopub.execute_input": "2023-09-19T15:59:17.617522Z",
     "iopub.status.busy": "2023-09-19T15:59:17.616611Z",
     "iopub.status.idle": "2023-09-19T15:59:18.403611Z",
     "shell.execute_reply": "2023-09-19T15:59:18.402960Z"
    }
   },
   "outputs": [
    {
     "name": "stderr",
     "output_type": "stream",
     "text": [
      "2023-09-19 11:59:18,400 \u001b[1;37mINFO\u001b[0m cyclops.query.orm - Query returned successfully!\n"
     ]
    },
    {
     "name": "stderr",
     "output_type": "stream",
     "text": [
      "2023-09-19 11:59:18,400 \u001b[1;37mINFO\u001b[0m cyclops.utils.profile - Finished executing function run_query in 0.760419 s\n"
     ]
    },
    {
     "name": "stdout",
     "output_type": "stream",
     "text": [
      "100 rows extracted!\n"
     ]
    }
   ],
   "source": [
    "patients = querier.patients()\n",
    "admissions = querier.mimiciv_hosp.admissions()\n",
    "patient_admissions = patients.join(admissions, on=\"subject_id\")\n",
    "ops = qo.Sequential(\n",
    "    qo.AddDeltaColumn([\"admittime\", \"dischtime\"], years=\"anchor_year_difference\"),\n",
    "    qo.ConditionInYears(\"admittime\", \"2015\"),\n",
    ")\n",
    "patient_admissions = patient_admissions.ops(ops)\n",
    "diagnoses = querier.diagnoses()\n",
    "diagnoses_ops = qo.Sequential(\n",
    "    qo.ConditionEquals(\"icd_version\", 10),\n",
    "    qo.ConditionSubstring(\"long_title\", \"schizophrenia\"),\n",
    ")\n",
    "diagnoses = diagnoses.ops(diagnoses_ops)\n",
    "patient_admissions_diagnoses = patient_admissions.join(\n",
    "    join_table=diagnoses,\n",
    "    on=[\"subject_id\", \"hadm_id\"],\n",
    ").run(limit=100)\n",
    "print(f\"{len(patient_admissions_diagnoses)} rows extracted!\")"
   ]
  },
  {
   "cell_type": "markdown",
   "id": "e2baea54",
   "metadata": {},
   "source": [
    "## Example 3. Advanced - uses `ConditionRegexMatch` from `cyclops.query.ops`. Get all patient encounters with diagnoses (ICD-9 long title contains `schizophrenia` and `chronic` ), in the year 2015."
   ]
  },
  {
   "cell_type": "code",
   "execution_count": 4,
   "id": "03936cee",
   "metadata": {
    "execution": {
     "iopub.execute_input": "2023-09-19T15:59:18.406763Z",
     "iopub.status.busy": "2023-09-19T15:59:18.406455Z",
     "iopub.status.idle": "2023-09-19T15:59:20.042003Z",
     "shell.execute_reply": "2023-09-19T15:59:20.040692Z"
    }
   },
   "outputs": [
    {
     "name": "stderr",
     "output_type": "stream",
     "text": [
      "2023-09-19 11:59:20,036 \u001b[1;37mINFO\u001b[0m cyclops.query.orm - Query returned successfully!\n"
     ]
    },
    {
     "name": "stderr",
     "output_type": "stream",
     "text": [
      "2023-09-19 11:59:20,037 \u001b[1;37mINFO\u001b[0m cyclops.utils.profile - Finished executing function run_query in 1.526170 s\n"
     ]
    },
    {
     "name": "stdout",
     "output_type": "stream",
     "text": [
      "82 rows extracted!\n"
     ]
    }
   ],
   "source": [
    "patients = querier.patients()\n",
    "admissions = querier.mimiciv_hosp.admissions()\n",
    "patient_admissions = patients.join(admissions, on=\"subject_id\")\n",
    "ops = qo.Sequential(\n",
    "    qo.AddDeltaColumn([\"admittime\", \"dischtime\"], years=\"anchor_year_difference\"),\n",
    "    qo.ConditionInYears(\"admittime\", \"2015\"),\n",
    ")\n",
    "patient_admissions = patient_admissions.ops(ops)\n",
    "diagnoses = querier.diagnoses()\n",
    "diagnoses_ops = qo.Sequential(\n",
    "    qo.ConditionEquals(\"icd_version\", 9),\n",
    "    qo.ConditionRegexMatch(\"long_title\", r\"(?=.*schizophrenia)(?=.*chronic)\"),\n",
    ")\n",
    "diagnoses = diagnoses.ops(diagnoses_ops)\n",
    "patient_admissions_diagnoses = patient_admissions.join(\n",
    "    join_table=diagnoses,\n",
    "    on=[\"subject_id\", \"hadm_id\"],\n",
    ").run(limit=100)\n",
    "print(f\"{len(patient_admissions_diagnoses)} rows extracted!\")"
   ]
  },
  {
   "cell_type": "markdown",
   "id": "30b0d604",
   "metadata": {},
   "source": [
    "## Example 4. Get routine vital signs for patients from year 2015."
   ]
  },
  {
   "cell_type": "code",
   "execution_count": 5,
   "id": "56a72377",
   "metadata": {
    "execution": {
     "iopub.execute_input": "2023-09-19T15:59:20.048724Z",
     "iopub.status.busy": "2023-09-19T15:59:20.048150Z",
     "iopub.status.idle": "2023-09-19T16:00:39.003143Z",
     "shell.execute_reply": "2023-09-19T16:00:39.001738Z"
    }
   },
   "outputs": [
    {
     "name": "stderr",
     "output_type": "stream",
     "text": [
      "2023-09-19 12:00:38,995 \u001b[1;37mINFO\u001b[0m cyclops.query.orm - Query returned successfully!\n"
     ]
    },
    {
     "name": "stderr",
     "output_type": "stream",
     "text": [
      "2023-09-19 12:00:38,997 \u001b[1;37mINFO\u001b[0m cyclops.utils.profile - Finished executing function run_query in 78.914878 s\n"
     ]
    },
    {
     "name": "stdout",
     "output_type": "stream",
     "text": [
      "100 rows extracted!\n"
     ]
    }
   ],
   "source": [
    "patients = querier.patients()\n",
    "admissions = querier.mimiciv_hosp.admissions()\n",
    "patient_admissions = patients.join(admissions, on=\"subject_id\")\n",
    "ops = qo.Sequential(\n",
    "    qo.AddDeltaColumn([\"admittime\", \"dischtime\"], years=\"anchor_year_difference\"),\n",
    "    qo.ConditionInYears(\"admittime\", \"2015\"),\n",
    ")\n",
    "patient_admissions = patient_admissions.ops(ops)\n",
    "chart_events = querier.chartevents()\n",
    "vitals = chart_events.ops(qo.ConditionEquals(\"category\", \"Routine Vital Signs\"))\n",
    "patient_admissions_vitals = patient_admissions.join(\n",
    "    join_table=vitals,\n",
    "    on=[\"subject_id\", \"hadm_id\"],\n",
    ").run(limit=100)\n",
    "print(f\"{len(patient_admissions_vitals)} rows extracted!\")"
   ]
  },
  {
   "cell_type": "markdown",
   "id": "621479f0",
   "metadata": {},
   "source": [
    "## Example 5. Get hemoglobin lab tests for patients from year 2009."
   ]
  },
  {
   "cell_type": "code",
   "execution_count": 6,
   "id": "bce11f81",
   "metadata": {
    "execution": {
     "iopub.execute_input": "2023-09-19T16:00:39.009283Z",
     "iopub.status.busy": "2023-09-19T16:00:39.008569Z",
     "iopub.status.idle": "2023-09-19T16:01:47.567689Z",
     "shell.execute_reply": "2023-09-19T16:01:47.566707Z"
    }
   },
   "outputs": [
    {
     "name": "stderr",
     "output_type": "stream",
     "text": [
      "2023-09-19 12:01:47,563 \u001b[1;37mINFO\u001b[0m cyclops.query.orm - Query returned successfully!\n"
     ]
    },
    {
     "name": "stderr",
     "output_type": "stream",
     "text": [
      "2023-09-19 12:01:47,564 \u001b[1;37mINFO\u001b[0m cyclops.utils.profile - Finished executing function run_query in 68.524319 s\n"
     ]
    },
    {
     "name": "stdout",
     "output_type": "stream",
     "text": [
      "100 rows extracted!\n"
     ]
    }
   ],
   "source": [
    "patients = querier.patients()\n",
    "admissions = querier.mimiciv_hosp.admissions()\n",
    "patient_admissions = patients.join(admissions, on=\"subject_id\")\n",
    "ops = qo.Sequential(\n",
    "    qo.AddDeltaColumn([\"admittime\", \"dischtime\"], years=\"anchor_year_difference\"),\n",
    "    qo.ConditionInYears(\"admittime\", \"2009\"),\n",
    ")\n",
    "patient_admissions = patient_admissions.ops(ops)\n",
    "chart_events = querier.chartevents()\n",
    "labs = chart_events.ops(qo.ConditionEquals(\"label\", \"hemoglobin\"))\n",
    "patient_admissions_labs = patient_admissions.join(\n",
    "    join_table=labs,\n",
    "    on=[\"subject_id\", \"hadm_id\"],\n",
    ").run(limit=100)\n",
    "print(f\"{len(patient_admissions_labs)} rows extracted!\")"
   ]
  },
  {
   "cell_type": "markdown",
   "id": "b0a9bc12-dda3-4445-9156-52d295a1c48f",
   "metadata": {},
   "source": [
    "## Example 6. Get radiology reports and filter on keywords `lymphadenopathy` and `infectious` occurring together from year 2009."
   ]
  },
  {
   "cell_type": "code",
   "execution_count": 7,
   "id": "f00d270c-d78f-4dc0-8dae-ff4d52958c8b",
   "metadata": {
    "execution": {
     "iopub.execute_input": "2023-09-19T16:01:47.575674Z",
     "iopub.status.busy": "2023-09-19T16:01:47.575269Z",
     "iopub.status.idle": "2023-09-19T16:01:54.877348Z",
     "shell.execute_reply": "2023-09-19T16:01:54.876661Z"
    },
    "tags": []
   },
   "outputs": [
    {
     "name": "stderr",
     "output_type": "stream",
     "text": [
      "2023-09-19 12:01:54,873 \u001b[1;37mINFO\u001b[0m cyclops.query.orm - Query returned successfully!\n"
     ]
    },
    {
     "name": "stderr",
     "output_type": "stream",
     "text": [
      "2023-09-19 12:01:54,874 \u001b[1;37mINFO\u001b[0m cyclops.utils.profile - Finished executing function run_query in 7.285099 s\n"
     ]
    },
    {
     "name": "stdout",
     "output_type": "stream",
     "text": [
      "100 rows extracted!\n"
     ]
    }
   ],
   "source": [
    "patients = querier.patients()\n",
    "admissions = querier.mimiciv_hosp.admissions()\n",
    "patient_admissions = patients.join(admissions, on=\"subject_id\")\n",
    "ops = qo.Sequential(\n",
    "    qo.AddDeltaColumn([\"admittime\", \"dischtime\"], years=\"anchor_year_difference\"),\n",
    "    qo.ConditionInYears(\"admittime\", \"2009\"),\n",
    ")\n",
    "patient_admissions = patient_admissions.ops(ops)\n",
    "radiology_notes = querier.mimiciv_note.radiology()\n",
    "radiology_notes_ops = qo.Sequential(\n",
    "    qo.And(\n",
    "        qo.ConditionLike(\"text\", \"% lymphadenopathy %\"),\n",
    "        qo.ConditionLike(\"text\", \"% infectious %\"),\n",
    "    ),\n",
    ")\n",
    "radiology_notes = radiology_notes.ops(radiology_notes_ops)\n",
    "patient_admissions_radiology_notes = patient_admissions.join(\n",
    "    join_table=radiology_notes,\n",
    "    on=[\"subject_id\", \"hadm_id\"],\n",
    ").run(limit=100)\n",
    "print(f\"{len(patient_admissions_radiology_notes)} rows extracted!\")"
   ]
  },
  {
   "cell_type": "markdown",
   "id": "9550ba62-c128-4259-a075-0cbd9c70b662",
   "metadata": {},
   "source": [
    "## Example 7. Get all female patient encounters from year 2015, and return as dask dataframe (lazy evaluation) with 4 partitions (batches) aggregated based on `subject_id`."
   ]
  },
  {
   "cell_type": "code",
   "execution_count": 8,
   "id": "28683d70-376e-4d9b-883d-1a7de634e455",
   "metadata": {
    "execution": {
     "iopub.execute_input": "2023-09-19T16:01:54.885166Z",
     "iopub.status.busy": "2023-09-19T16:01:54.884793Z",
     "iopub.status.idle": "2023-09-19T16:01:56.252838Z",
     "shell.execute_reply": "2023-09-19T16:01:56.251050Z"
    }
   },
   "outputs": [
    {
     "name": "stderr",
     "output_type": "stream",
     "text": [
      "2023-09-19 12:01:55,290 \u001b[1;37mINFO\u001b[0m cyclops.query.orm - Query returned successfully!\n"
     ]
    },
    {
     "name": "stderr",
     "output_type": "stream",
     "text": [
      "2023-09-19 12:01:55,291 \u001b[1;37mINFO\u001b[0m cyclops.utils.profile - Finished executing function run_query in 0.383649 s\n"
     ]
    },
    {
     "name": "stdout",
     "output_type": "stream",
     "text": [
      "35639 rows extracted!\n",
      "Return type: <class 'dask.dataframe.core.DataFrame'>\n",
      "Number of partitions: 4\n"
     ]
    }
   ],
   "source": [
    "patients = querier.patients()\n",
    "admissions = querier.mimiciv_hosp.admissions()\n",
    "patient_admissions = patients.join(admissions, on=\"subject_id\")\n",
    "ops = qo.Sequential(\n",
    "    qo.AddDeltaColumn([\"admittime\", \"dischtime\"], years=\"anchor_year_difference\"),\n",
    "    qo.ConditionInYears(\"admittime\", \"2015\"),\n",
    "    qo.Cast(\"gender\", \"str\"),\n",
    "    qo.ConditionEquals(\"gender\", \"F\"),\n",
    ")\n",
    "patient_admissions = patient_admissions.ops(ops)\n",
    "patient_admissions = patient_admissions.run(\n",
    "    backend=\"dask\",\n",
    "    index_col=\"subject_id\",\n",
    "    n_partitions=4,\n",
    ")\n",
    "print(f\"{len(patient_admissions)} rows extracted!\")\n",
    "print(f\"Return type: {type(patient_admissions)}\")\n",
    "print(f\"Number of partitions: {patient_admissions.npartitions}\")"
   ]
  },
  {
   "cell_type": "markdown",
   "id": "e1ed2708",
   "metadata": {},
   "source": [
    "## Example 8. Running a raw SQL string."
   ]
  },
  {
   "cell_type": "code",
   "execution_count": 9,
   "id": "a853deec",
   "metadata": {
    "execution": {
     "iopub.execute_input": "2023-09-19T16:01:56.262925Z",
     "iopub.status.busy": "2023-09-19T16:01:56.262271Z",
     "iopub.status.idle": "2023-09-19T16:01:56.277565Z",
     "shell.execute_reply": "2023-09-19T16:01:56.276252Z"
    },
    "tags": []
   },
   "outputs": [
    {
     "name": "stderr",
     "output_type": "stream",
     "text": [
      "2023-09-19 12:01:56,271 \u001b[1;37mINFO\u001b[0m cyclops.query.orm - Query returned successfully!\n"
     ]
    },
    {
     "name": "stderr",
     "output_type": "stream",
     "text": [
      "2023-09-19 12:01:56,272 \u001b[1;37mINFO\u001b[0m cyclops.utils.profile - Finished executing function run_query in 0.007934 s\n"
     ]
    },
    {
     "name": "stdout",
     "output_type": "stream",
     "text": [
      "100 rows extracted!\n"
     ]
    }
   ],
   "source": [
    "data = querier.db.run_query(\"SELECT * FROM mimiciv_hosp.admissions LIMIT 100\")\n",
    "print(f\"{len(data)} rows extracted!\")"
   ]
  }
 ],
 "metadata": {
  "kernelspec": {
   "display_name": "cyclops",
   "language": "python",
   "name": "cyclops"
  },
  "language_info": {
   "codemirror_mode": {
    "name": "ipython",
    "version": 3
   },
   "file_extension": ".py",
   "mimetype": "text/x-python",
   "name": "python",
   "nbconvert_exporter": "python",
   "pygments_lexer": "ipython3",
   "version": "3.9.16"
  }
 },
 "nbformat": 4,
 "nbformat_minor": 5
}
