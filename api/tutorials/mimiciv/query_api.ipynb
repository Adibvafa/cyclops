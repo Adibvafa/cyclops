{
 "cells": [
  {
   "cell_type": "markdown",
   "id": "e337389b-1cfe-4796-a846-b4e1ba5690d6",
   "metadata": {},
   "source": [
    "# MIMIC-IV query API tutorial"
   ]
  },
  {
   "cell_type": "markdown",
   "id": "1efffc64",
   "metadata": {},
   "source": [
    "This notebook shows examples of how to use the cyclops.query API on [MIMIC-IV v2.0](https://physionet.org/content/mimiciv/2.0/).\n",
    "\n",
    "Each query is limit to 100 rows (for quick results).\n",
    "\n",
    "* First, setup the MIMIC-IV database according to the instructions in [mimic-code](https://github.com/MIT-LCP/mimic-code/tree/main/mimic-iv/buildmimic/postgres).\n",
    "* The database is assumed to be hosted using postgres. Update the config parameters such as username and password, passed to `MIMICIVQuerier` accordingly."
   ]
  },
  {
   "cell_type": "markdown",
   "id": "12c18656-7f16-4230-85d0-944563d6a13e",
   "metadata": {},
   "source": [
    "## Imports and instantiate `MIMICIVQuerier`"
   ]
  },
  {
   "cell_type": "code",
   "execution_count": 1,
   "id": "53009e6b",
   "metadata": {
    "execution": {
     "iopub.execute_input": "2023-08-25T00:13:08.507451Z",
     "iopub.status.busy": "2023-08-25T00:13:08.506607Z",
     "iopub.status.idle": "2023-08-25T00:13:13.137042Z",
     "shell.execute_reply": "2023-08-25T00:13:13.135526Z"
    },
    "tags": []
   },
   "outputs": [
    {
     "name": "stderr",
     "output_type": "stream",
     "text": [
      "2023-08-24 20:13:11,124 \u001b[1;37mINFO\u001b[0m cyclops.query.orm - Database setup, ready to run queries!\n"
     ]
    },
    {
     "data": {
      "text/plain": [
       "['fhir_etl',\n",
       " 'fhir_trm',\n",
       " 'information_schema',\n",
       " 'mimic_fhir',\n",
       " 'mimiciv_derived',\n",
       " 'mimiciv_ed',\n",
       " 'mimiciv_hosp',\n",
       " 'mimiciv_icu',\n",
       " 'mimiciv_note',\n",
       " 'public']"
      ]
     },
     "execution_count": 1,
     "metadata": {},
     "output_type": "execute_result"
    }
   ],
   "source": [
    "import cyclops.query.ops as qo\n",
    "from cyclops.query import MIMICIVQuerier\n",
    "\n",
    "querier = MIMICIVQuerier(\n",
    "    dbms=\"postgresql\",\n",
    "    port=5432,\n",
    "    host=\"localhost\",\n",
    "    database=\"mimiciv-2.0\",\n",
    "    user=\"postgres\",\n",
    "    password=\"pwd\",\n",
    ")\n",
    "# List all schemas.\n",
    "querier.list_schemas()"
   ]
  },
  {
   "cell_type": "markdown",
   "id": "7b6214f8",
   "metadata": {
    "tags": []
   },
   "source": [
    "## Example 1. Get all patient admissions from 2021 or later (approx year of admission)"
   ]
  },
  {
   "cell_type": "code",
   "execution_count": 2,
   "id": "cdfadaa4-6fd6-4fd7-85cf-e012aa0799e1",
   "metadata": {
    "execution": {
     "iopub.execute_input": "2023-08-25T00:13:13.143794Z",
     "iopub.status.busy": "2023-08-25T00:13:13.143261Z",
     "iopub.status.idle": "2023-08-25T00:13:13.382114Z",
     "shell.execute_reply": "2023-08-25T00:13:13.380972Z"
    }
   },
   "outputs": [
    {
     "name": "stderr",
     "output_type": "stream",
     "text": [
      "2023-08-24 20:13:13,376 \u001b[1;37mINFO\u001b[0m cyclops.query.orm - Query returned successfully!\n"
     ]
    },
    {
     "name": "stderr",
     "output_type": "stream",
     "text": [
      "2023-08-24 20:13:13,377 \u001b[1;37mINFO\u001b[0m cyclops.utils.profile - Finished executing function run_query in 0.174436 s\n"
     ]
    },
    {
     "name": "stdout",
     "output_type": "stream",
     "text": [
      "100 rows extracted!\n"
     ]
    }
   ],
   "source": [
    "patients = querier.patients()\n",
    "ops = qo.Sequential(\n",
    "    [\n",
    "        qo.AddDeltaColumn([\"admittime\", \"dischtime\"], years=\"anchor_year_difference\"),\n",
    "        qo.ConditionAfterDate(\"admittime\", \"2021-01-01\"),\n",
    "    ]\n",
    ")\n",
    "admissions = querier.mimiciv_hosp.admissions(\n",
    "    join=qo.JoinArgs(join_table=patients.query, on=\"subject_id\"),\n",
    "    ops=ops,\n",
    ").run(limit=100)\n",
    "print(f\"{len(admissions)} rows extracted!\")"
   ]
  },
  {
   "cell_type": "markdown",
   "id": "80d9f06e",
   "metadata": {},
   "source": [
    "## Example 2. Get all patient encounters with diagnoses (`schizophrenia` in ICD-10 long title), in the year 2015."
   ]
  },
  {
   "cell_type": "code",
   "execution_count": 3,
   "id": "a89a9cf0",
   "metadata": {
    "execution": {
     "iopub.execute_input": "2023-08-25T00:13:13.388562Z",
     "iopub.status.busy": "2023-08-25T00:13:13.388005Z",
     "iopub.status.idle": "2023-08-25T00:13:14.410966Z",
     "shell.execute_reply": "2023-08-25T00:13:14.409732Z"
    }
   },
   "outputs": [
    {
     "name": "stderr",
     "output_type": "stream",
     "text": [
      "2023-08-24 20:13:14,404 \u001b[1;37mINFO\u001b[0m cyclops.query.orm - Query returned successfully!\n"
     ]
    },
    {
     "name": "stderr",
     "output_type": "stream",
     "text": [
      "2023-08-24 20:13:14,406 \u001b[1;37mINFO\u001b[0m cyclops.utils.profile - Finished executing function run_query in 0.894557 s\n"
     ]
    },
    {
     "name": "stdout",
     "output_type": "stream",
     "text": [
      "100 rows extracted!\n"
     ]
    }
   ],
   "source": [
    "diagnoses_ops = qo.Sequential(\n",
    "    [\n",
    "        qo.ConditionEquals(\"icd_version\", 10),\n",
    "        qo.ConditionSubstring(\"long_title\", \"schizophrenia\"),\n",
    "    ]\n",
    ")\n",
    "admissions_ops = qo.Sequential(\n",
    "    [\n",
    "        qo.AddDeltaColumn([\"admittime\", \"dischtime\"], years=\"anchor_year_difference\"),\n",
    "        qo.ConditionInYears(\"admittime\", \"2015\"),\n",
    "    ]\n",
    ")\n",
    "patients = querier.patients()\n",
    "admissions = querier.mimiciv_hosp.admissions(\n",
    "    join=qo.JoinArgs(join_table=patients.query, on=\"subject_id\"),\n",
    "    ops=admissions_ops,\n",
    ")\n",
    "diagnoses = querier.diagnoses(\n",
    "    join=qo.JoinArgs(\n",
    "        join_table=admissions.query,\n",
    "        on=[\"subject_id\", \"hadm_id\"],\n",
    "    ),\n",
    "    ops=diagnoses_ops,\n",
    ").run(limit=100)\n",
    "print(f\"{len(diagnoses)} rows extracted!\")"
   ]
  },
  {
   "cell_type": "markdown",
   "id": "e2baea54",
   "metadata": {},
   "source": [
    "## Example 3. Advanced - uses `ConditionRegexMatch` from `cyclops.query.ops`. Get all patient encounters with diagnoses (ICD-9 long title contains `schizophrenia` and `chronic` ), in the year 2015."
   ]
  },
  {
   "cell_type": "code",
   "execution_count": 4,
   "id": "03936cee",
   "metadata": {
    "execution": {
     "iopub.execute_input": "2023-08-25T00:13:14.416363Z",
     "iopub.status.busy": "2023-08-25T00:13:14.415845Z",
     "iopub.status.idle": "2023-08-25T00:13:16.106076Z",
     "shell.execute_reply": "2023-08-25T00:13:16.104942Z"
    }
   },
   "outputs": [
    {
     "name": "stderr",
     "output_type": "stream",
     "text": [
      "2023-08-24 20:13:16,099 \u001b[1;37mINFO\u001b[0m cyclops.query.orm - Query returned successfully!\n"
     ]
    },
    {
     "name": "stderr",
     "output_type": "stream",
     "text": [
      "2023-08-24 20:13:16,100 \u001b[1;37mINFO\u001b[0m cyclops.utils.profile - Finished executing function run_query in 1.486668 s\n"
     ]
    },
    {
     "name": "stdout",
     "output_type": "stream",
     "text": [
      "82 rows extracted!\n"
     ]
    }
   ],
   "source": [
    "admissions_ops = qo.Sequential(\n",
    "    [\n",
    "        qo.AddDeltaColumn([\"admittime\", \"dischtime\"], years=\"anchor_year_difference\"),\n",
    "        qo.ConditionInYears(\"admittime\", \"2015\"),\n",
    "    ]\n",
    ")\n",
    "diagnoses_ops = qo.Sequential(\n",
    "    [\n",
    "        qo.ConditionEquals(\"icd_version\", 9),\n",
    "        qo.ConditionRegexMatch(\"long_title\", r\"(?=.*schizophrenia)(?=.*chronic)\"),\n",
    "    ]\n",
    ")\n",
    "patients = querier.patients()\n",
    "admissions = querier.mimiciv_hosp.admissions(\n",
    "    join=qo.JoinArgs(join_table=patients.query, on=\"subject_id\"),\n",
    "    ops=admissions_ops,\n",
    ")\n",
    "diagnoses = querier.diagnoses(\n",
    "    join=qo.JoinArgs(\n",
    "        join_table=admissions.query,\n",
    "        on=[\"subject_id\", \"hadm_id\"],\n",
    "    ),\n",
    "    ops=diagnoses_ops,\n",
    ").run(limit=100)\n",
    "print(f\"{len(diagnoses)} rows extracted!\")"
   ]
  },
  {
   "cell_type": "markdown",
   "id": "30b0d604",
   "metadata": {},
   "source": [
    "## Example 4. Get routine vital signs for patients from year 2015."
   ]
  },
  {
   "cell_type": "code",
   "execution_count": 5,
   "id": "56a72377",
   "metadata": {
    "execution": {
     "iopub.execute_input": "2023-08-25T00:13:16.111743Z",
     "iopub.status.busy": "2023-08-25T00:13:16.111324Z",
     "iopub.status.idle": "2023-08-25T00:14:39.618218Z",
     "shell.execute_reply": "2023-08-25T00:14:39.617659Z"
    }
   },
   "outputs": [
    {
     "name": "stderr",
     "output_type": "stream",
     "text": [
      "2023-08-24 20:14:39,613 \u001b[1;37mINFO\u001b[0m cyclops.query.orm - Query returned successfully!\n"
     ]
    },
    {
     "name": "stderr",
     "output_type": "stream",
     "text": [
      "2023-08-24 20:14:39,615 \u001b[1;37mINFO\u001b[0m cyclops.utils.profile - Finished executing function run_query in 83.382482 s\n"
     ]
    },
    {
     "name": "stdout",
     "output_type": "stream",
     "text": [
      "100 rows extracted!\n"
     ]
    }
   ],
   "source": [
    "admissions_ops = qo.Sequential(\n",
    "    [\n",
    "        qo.AddDeltaColumn([\"admittime\", \"dischtime\"], years=\"anchor_year_difference\"),\n",
    "        qo.ConditionInYears(\"admittime\", \"2015\"),\n",
    "    ]\n",
    ")\n",
    "chartevents_ops = qo.Sequential([qo.ConditionEquals(\"category\", \"Routine Vital Signs\")])\n",
    "patients = querier.patients()\n",
    "admissions = querier.mimiciv_hosp.admissions(\n",
    "    join=qo.JoinArgs(join_table=patients.query, on=\"subject_id\"),\n",
    "    ops=admissions_ops,\n",
    ")\n",
    "vitals = querier.chartevents(\n",
    "    join=qo.JoinArgs(\n",
    "        join_table=admissions.query,\n",
    "        on=[\"subject_id\", \"hadm_id\"],\n",
    "    ),\n",
    "    ops=chartevents_ops,\n",
    ").run(limit=100)\n",
    "print(f\"{len(vitals)} rows extracted!\")"
   ]
  },
  {
   "cell_type": "markdown",
   "id": "621479f0",
   "metadata": {},
   "source": [
    "## Example 5. Get hemoglobin lab tests for patients from year 2009."
   ]
  },
  {
   "cell_type": "code",
   "execution_count": 6,
   "id": "bce11f81",
   "metadata": {
    "execution": {
     "iopub.execute_input": "2023-08-25T00:14:39.625271Z",
     "iopub.status.busy": "2023-08-25T00:14:39.625094Z",
     "iopub.status.idle": "2023-08-25T00:15:49.861461Z",
     "shell.execute_reply": "2023-08-25T00:15:49.860179Z"
    }
   },
   "outputs": [
    {
     "name": "stderr",
     "output_type": "stream",
     "text": [
      "2023-08-24 20:15:49,854 \u001b[1;37mINFO\u001b[0m cyclops.query.orm - Query returned successfully!\n"
     ]
    },
    {
     "name": "stderr",
     "output_type": "stream",
     "text": [
      "2023-08-24 20:15:49,856 \u001b[1;37mINFO\u001b[0m cyclops.utils.profile - Finished executing function run_query in 70.123893 s\n"
     ]
    },
    {
     "name": "stdout",
     "output_type": "stream",
     "text": [
      "100 rows extracted!\n"
     ]
    }
   ],
   "source": [
    "admissions_ops = qo.Sequential(\n",
    "    [\n",
    "        qo.AddDeltaColumn([\"admittime\", \"dischtime\"], years=\"anchor_year_difference\"),\n",
    "        qo.ConditionInYears(\"admittime\", \"2009\"),\n",
    "    ]\n",
    ")\n",
    "labevents_ops = qo.Sequential([qo.ConditionEquals(\"label\", \"hemoglobin\")])\n",
    "patients = querier.patients()\n",
    "admissions = querier.mimiciv_hosp.admissions(\n",
    "    join=qo.JoinArgs(join_table=patients.query, on=\"subject_id\"),\n",
    "    ops=admissions_ops,\n",
    ")\n",
    "labs = querier.chartevents(\n",
    "    join=qo.JoinArgs(\n",
    "        join_table=admissions.query,\n",
    "        on=[\"subject_id\", \"hadm_id\"],\n",
    "    ),\n",
    "    ops=labevents_ops,\n",
    ").run(limit=100)\n",
    "print(f\"{len(labs)} rows extracted!\")"
   ]
  },
  {
   "cell_type": "markdown",
   "id": "801c5ec5-6c7e-44af-8fb7-275d66ca82b0",
   "metadata": {},
   "source": [
    "## Example 6. Get all female patient encounters from year 2015, and return as dask dataframe (lazy evaluation) with 4 partitions (batches) aggregated based on `subject_id`."
   ]
  },
  {
   "cell_type": "code",
   "execution_count": 7,
   "id": "28683d70-376e-4d9b-883d-1a7de634e455",
   "metadata": {
    "execution": {
     "iopub.execute_input": "2023-08-25T00:15:49.866694Z",
     "iopub.status.busy": "2023-08-25T00:15:49.866228Z",
     "iopub.status.idle": "2023-08-25T00:15:51.326157Z",
     "shell.execute_reply": "2023-08-25T00:15:51.324831Z"
    }
   },
   "outputs": [
    {
     "name": "stderr",
     "output_type": "stream",
     "text": [
      "2023-08-24 20:15:50,271 \u001b[1;37mINFO\u001b[0m cyclops.query.orm - Query returned successfully!\n"
     ]
    },
    {
     "name": "stderr",
     "output_type": "stream",
     "text": [
      "2023-08-24 20:15:50,272 \u001b[1;37mINFO\u001b[0m cyclops.utils.profile - Finished executing function run_query in 0.348201 s\n"
     ]
    },
    {
     "name": "stdout",
     "output_type": "stream",
     "text": [
      "35639 rows extracted!\n",
      "Return type: <class 'dask.dataframe.core.DataFrame'>\n",
      "Number of partitions: 4\n"
     ]
    }
   ],
   "source": [
    "admissions_ops = qo.Sequential(\n",
    "    [\n",
    "        qo.AddDeltaColumn([\"admittime\", \"dischtime\"], years=\"anchor_year_difference\"),\n",
    "        qo.ConditionInYears(\"admittime\", \"2015\"),\n",
    "        qo.Cast(\"gender\", \"str\"),\n",
    "        qo.ConditionEquals(\"gender\", \"F\"),\n",
    "    ]\n",
    ")\n",
    "patients = querier.patients()\n",
    "admissions = querier.mimiciv_hosp.admissions(\n",
    "    join=qo.JoinArgs(join_table=patients.query, on=\"subject_id\"),\n",
    "    ops=admissions_ops,\n",
    ").run(backend=\"dask\", index_col=\"subject_id\", n_partitions=4)\n",
    "print(f\"{len(admissions)} rows extracted!\")\n",
    "print(f\"Return type: {type(admissions)}\")\n",
    "print(f\"Number of partitions: {admissions.npartitions}\")"
   ]
  },
  {
   "cell_type": "markdown",
   "id": "e1ed2708",
   "metadata": {},
   "source": [
    "## Example 7. Running a raw SQL string."
   ]
  },
  {
   "cell_type": "code",
   "execution_count": 8,
   "id": "a853deec",
   "metadata": {
    "execution": {
     "iopub.execute_input": "2023-08-25T00:15:51.333253Z",
     "iopub.status.busy": "2023-08-25T00:15:51.332726Z",
     "iopub.status.idle": "2023-08-25T00:15:51.351856Z",
     "shell.execute_reply": "2023-08-25T00:15:51.350860Z"
    },
    "tags": []
   },
   "outputs": [
    {
     "name": "stderr",
     "output_type": "stream",
     "text": [
      "2023-08-24 20:15:51,345 \u001b[1;37mINFO\u001b[0m cyclops.query.orm - Query returned successfully!\n"
     ]
    },
    {
     "name": "stderr",
     "output_type": "stream",
     "text": [
      "2023-08-24 20:15:51,346 \u001b[1;37mINFO\u001b[0m cyclops.utils.profile - Finished executing function run_query in 0.011217 s\n"
     ]
    },
    {
     "name": "stdout",
     "output_type": "stream",
     "text": [
      "100 rows extracted!\n"
     ]
    }
   ],
   "source": [
    "data = querier.db.run_query(\"SELECT * FROM mimiciv_hosp.admissions LIMIT 100\")\n",
    "print(f\"{len(data)} rows extracted!\")"
   ]
  }
 ],
 "metadata": {
  "kernelspec": {
   "display_name": "cyclops",
   "language": "python",
   "name": "cyclops"
  },
  "language_info": {
   "codemirror_mode": {
    "name": "ipython",
    "version": 3
   },
   "file_extension": ".py",
   "mimetype": "text/x-python",
   "name": "python",
   "nbconvert_exporter": "python",
   "pygments_lexer": "ipython3",
   "version": "3.9.16"
  }
 },
 "nbformat": 4,
 "nbformat_minor": 5
}
